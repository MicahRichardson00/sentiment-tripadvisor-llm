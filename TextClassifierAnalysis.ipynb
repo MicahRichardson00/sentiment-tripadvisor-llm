{
  "cells": [
    {
      "cell_type": "markdown",
      "metadata": {
        "id": "f8cmTAJdoo8f"
      },
      "source": [
        "The data for this project was web-scraped from Trip Advisor's site. I specifically looked for hotel reviews because I wanted to expand on what I learned in my NLP class with two different classification methods. Additionally, I am curious to understand how people feel about this smaller hotel chain as I am preparing my FIFA 2026 tournament plans; I specifcally wanted to look outside of common chains like Hilton and Marriot."
      ]
    },
    {
      "cell_type": "code",
      "execution_count": 22,
      "metadata": {},
      "outputs": [],
      "source": [
        "import pandas as pd\n",
        "from sklearn.metrics import classification_report\n",
        "from sklearn.metrics import precision_score, recall_score, f1_score\n",
        "from sklearn.metrics import confusion_matrix, accuracy_score\n",
        "import seaborn as sns\n",
        "import matplotlib.pyplot as plt\n",
        "from textblob import TextBlob\n",
        "import altair as alt"
      ]
    },
    {
      "cell_type": "code",
      "execution_count": 23,
      "metadata": {},
      "outputs": [],
      "source": [
        "\n",
        "df = pd.read_json(\"data/raw_hotelreviews.json\")\n"
      ]
    },
    {
      "cell_type": "code",
      "execution_count": 24,
      "metadata": {
        "colab": {
          "base_uri": "https://localhost:8080/",
          "height": 143
        },
        "id": "gAazaG61Wkee",
        "outputId": "8804be48-bdfb-4cb8-e27e-ec9f04fd5443"
      },
      "outputs": [
        {
          "data": {
            "text/html": [
              "<div>\n",
              "<style scoped>\n",
              "    .dataframe tbody tr th:only-of-type {\n",
              "        vertical-align: middle;\n",
              "    }\n",
              "\n",
              "    .dataframe tbody tr th {\n",
              "        vertical-align: top;\n",
              "    }\n",
              "\n",
              "    .dataframe thead th {\n",
              "        text-align: right;\n",
              "    }\n",
              "</style>\n",
              "<table border=\"1\" class=\"dataframe\">\n",
              "  <thead>\n",
              "    <tr style=\"text-align: right;\">\n",
              "      <th></th>\n",
              "      <th>ID</th>\n",
              "      <th>hotel</th>\n",
              "      <th>rating</th>\n",
              "      <th>site</th>\n",
              "      <th>trip type</th>\n",
              "      <th>room rating</th>\n",
              "      <th>location rating</th>\n",
              "      <th>service rating</th>\n",
              "      <th>text</th>\n",
              "    </tr>\n",
              "  </thead>\n",
              "  <tbody>\n",
              "    <tr>\n",
              "      <th>0</th>\n",
              "      <td>0</td>\n",
              "      <td>Ace Hotel Brooklyn</td>\n",
              "      <td>5/5</td>\n",
              "      <td>Google</td>\n",
              "      <td>Solo</td>\n",
              "      <td>5.0</td>\n",
              "      <td>5.0</td>\n",
              "      <td>5.0</td>\n",
              "      <td>This hotel is truly amazing, from the building...</td>\n",
              "    </tr>\n",
              "    <tr>\n",
              "      <th>1</th>\n",
              "      <td>1</td>\n",
              "      <td>Ace Hotel Brooklyn</td>\n",
              "      <td>5/5</td>\n",
              "      <td>Google</td>\n",
              "      <td>Couple</td>\n",
              "      <td>5.0</td>\n",
              "      <td>5.0</td>\n",
              "      <td>5.0</td>\n",
              "      <td>The staff was terrific!. Geneva and Sergio wer...</td>\n",
              "    </tr>\n",
              "    <tr>\n",
              "      <th>2</th>\n",
              "      <td>2</td>\n",
              "      <td>Ace Hotel Brooklyn</td>\n",
              "      <td>5/5</td>\n",
              "      <td>Google</td>\n",
              "      <td>Vacation · Couple</td>\n",
              "      <td>5.0</td>\n",
              "      <td>5.0</td>\n",
              "      <td>5.0</td>\n",
              "      <td>Amazing stay for our first evening in Brooklyn...</td>\n",
              "    </tr>\n",
              "  </tbody>\n",
              "</table>\n",
              "</div>"
            ],
            "text/plain": [
              "   ID               hotel rating    site          trip type  room rating  \\\n",
              "0   0  Ace Hotel Brooklyn    5/5  Google               Solo          5.0   \n",
              "1   1  Ace Hotel Brooklyn    5/5  Google             Couple          5.0   \n",
              "2   2  Ace Hotel Brooklyn    5/5  Google  Vacation · Couple          5.0   \n",
              "\n",
              "   location rating  service rating  \\\n",
              "0              5.0             5.0   \n",
              "1              5.0             5.0   \n",
              "2              5.0             5.0   \n",
              "\n",
              "                                                text  \n",
              "0  This hotel is truly amazing, from the building...  \n",
              "1  The staff was terrific!. Geneva and Sergio wer...  \n",
              "2  Amazing stay for our first evening in Brooklyn...  "
            ]
          },
          "execution_count": 24,
          "metadata": {},
          "output_type": "execute_result"
        }
      ],
      "source": [
        "df.drop(columns=['name','reply date','time','Unnamed: 0', 'hotel reply','timestamp'], inplace=True)\n",
        "df.head(3)\n",
        "#dropped hotel reply and name as they contained reviewers names, reply_date, time, timestamp, and unamed: 0 were all unecessary"
      ]
    },
    {
      "cell_type": "markdown",
      "metadata": {
        "id": "WGzCYYNMl-A2"
      },
      "source": [
        "# Data Cleaning"
      ]
    },
    {
      "cell_type": "code",
      "execution_count": 25,
      "metadata": {
        "colab": {
          "base_uri": "https://localhost:8080/"
        },
        "id": "8o81umqnDcVd",
        "outputId": "cb7fbee2-e5a0-471e-d814-5d1673ff2f02"
      },
      "outputs": [
        {
          "data": {
            "text/plain": [
              "(10770, 9)"
            ]
          },
          "execution_count": 25,
          "metadata": {},
          "output_type": "execute_result"
        }
      ],
      "source": [
        "df.shape"
      ]
    },
    {
      "cell_type": "code",
      "execution_count": 26,
      "metadata": {
        "colab": {
          "base_uri": "https://localhost:8080/"
        },
        "id": "DA10Z55EPYuY",
        "outputId": "54cacd4e-0a7d-4950-9d2e-80abcaf2aacb"
      },
      "outputs": [
        {
          "name": "stdout",
          "output_type": "stream",
          "text": [
            "Original number of reviews: 10770\n",
            "Number of missing reviews: 3725\n",
            "Number of reviews after cleaning: 7045\n"
          ]
        }
      ],
      "source": [
        "# Checking for missing values in the 'text' column which are the hotel reviews\n",
        "missing_reviews = df['text'].isnull().sum()\n",
        "# Removing any rows where the text column is missing\n",
        "hotel_reviews_df_cleaned = df.dropna(subset=['text'])\n",
        "print(\"Original number of reviews:\", df.shape[0])\n",
        "print(\"Number of missing reviews:\", missing_reviews)\n",
        "print(\"Number of reviews after cleaning:\", hotel_reviews_df_cleaned.shape[0])"
      ]
    },
    {
      "cell_type": "code",
      "execution_count": 27,
      "metadata": {
        "colab": {
          "base_uri": "https://localhost:8080/"
        },
        "id": "ePlJcIslhfoB",
        "outputId": "174e30b9-48aa-414b-d3fc-a1245ebfa87c"
      },
      "outputs": [
        {
          "data": {
            "text/plain": [
              "array(['Solo', 'Couple', 'Vacation · Couple', None, 'Business',\n",
              "       'Friends · Vacation', 'Couple · Vacation', 'Vacation', 'Family',\n",
              "       'Friends', 'Vacation · Solo', 'Vacation · Family',\n",
              "       'Friends · Business', 'Vacation · Friends', 'Family · Vacation',\n",
              "       'Vacation · Family · Friends · Couple', 'Business · Solo',\n",
              "       'Vacation · Family · Business', 'Business · Vacation · Friends',\n",
              "       'Vacation · Couple · Business',\n",
              "       'Business · Vacation · Couple · Solo',\n",
              "       'Vacation · Couple · Friends', 'Friends · Vacation · Couple',\n",
              "       'Solo · Couple', 'Couple · Business',\n",
              "       'Couple · Friends · Family · Vacation',\n",
              "       'Family · Friends · Vacation', 'Business · Solo · Vacation',\n",
              "       'Vacation · Business · Couple', 'Solo · Vacation'], dtype=object)"
            ]
          },
          "execution_count": 27,
          "metadata": {},
          "output_type": "execute_result"
        }
      ],
      "source": [
        "hotel_reviews_df_cleaned[\"trip type\"].unique()"
      ]
    },
    {
      "cell_type": "code",
      "execution_count": 28,
      "metadata": {
        "colab": {
          "base_uri": "https://localhost:8080/"
        },
        "id": "wmXPRZAIQhIy",
        "outputId": "b9fea984-e18f-453a-e7f9-fd18d9ddf561"
      },
      "outputs": [
        {
          "name": "stderr",
          "output_type": "stream",
          "text": [
            "C:\\Users\\micah\\AppData\\Local\\Temp\\ipykernel_103712\\1573069861.py:2: SettingWithCopyWarning: \n",
            "A value is trying to be set on a copy of a slice from a DataFrame.\n",
            "Try using .loc[row_indexer,col_indexer] = value instead\n",
            "\n",
            "See the caveats in the documentation: https://pandas.pydata.org/pandas-docs/stable/user_guide/indexing.html#returning-a-view-versus-a-copy\n",
            "  hotel_reviews_df_cleaned['trip type'] = hotel_reviews_df_cleaned['trip type'].fillna('None')\n"
          ]
        }
      ],
      "source": [
        "# Changing 'NaN' to 'None' for grouping purposes\n",
        "hotel_reviews_df_cleaned['trip type'] = hotel_reviews_df_cleaned['trip type'].fillna('None')\n",
        "\n",
        "# Splitting trip type into individual categories and exploding the DataFrame\n",
        "trip_types_expanded = hotel_reviews_df_cleaned['trip type'].str.split(' · ').explode()\n",
        "\n",
        "data_expanded = hotel_reviews_df_cleaned.loc[trip_types_expanded.index].copy()\n",
        "data_expanded['trip type'] = trip_types_expanded"
      ]
    },
    {
      "cell_type": "markdown",
      "metadata": {
        "id": "LEEWE9PbKOCd"
      },
      "source": [
        "# Feature Engineering"
      ]
    },
    {
      "cell_type": "code",
      "execution_count": 29,
      "metadata": {
        "colab": {
          "base_uri": "https://localhost:8080/",
          "height": 143
        },
        "id": "jYBsiRnVWBr1",
        "outputId": "1fbabf36-a435-4101-f3c5-d76b84633ed8"
      },
      "outputs": [
        {
          "data": {
            "text/html": [
              "<div>\n",
              "<style scoped>\n",
              "    .dataframe tbody tr th:only-of-type {\n",
              "        vertical-align: middle;\n",
              "    }\n",
              "\n",
              "    .dataframe tbody tr th {\n",
              "        vertical-align: top;\n",
              "    }\n",
              "\n",
              "    .dataframe thead th {\n",
              "        text-align: right;\n",
              "    }\n",
              "</style>\n",
              "<table border=\"1\" class=\"dataframe\">\n",
              "  <thead>\n",
              "    <tr style=\"text-align: right;\">\n",
              "      <th></th>\n",
              "      <th>ID</th>\n",
              "      <th>hotel</th>\n",
              "      <th>rating</th>\n",
              "      <th>site</th>\n",
              "      <th>trip type</th>\n",
              "      <th>room rating</th>\n",
              "      <th>location rating</th>\n",
              "      <th>service rating</th>\n",
              "      <th>text</th>\n",
              "    </tr>\n",
              "  </thead>\n",
              "  <tbody>\n",
              "    <tr>\n",
              "      <th>0</th>\n",
              "      <td>0</td>\n",
              "      <td>Ace Hotel Brooklyn</td>\n",
              "      <td>5.0</td>\n",
              "      <td>Google</td>\n",
              "      <td>Solo</td>\n",
              "      <td>5.0</td>\n",
              "      <td>5.0</td>\n",
              "      <td>5.0</td>\n",
              "      <td>This hotel is truly amazing, from the building...</td>\n",
              "    </tr>\n",
              "    <tr>\n",
              "      <th>1</th>\n",
              "      <td>1</td>\n",
              "      <td>Ace Hotel Brooklyn</td>\n",
              "      <td>5.0</td>\n",
              "      <td>Google</td>\n",
              "      <td>Couple</td>\n",
              "      <td>5.0</td>\n",
              "      <td>5.0</td>\n",
              "      <td>5.0</td>\n",
              "      <td>The staff was terrific!. Geneva and Sergio wer...</td>\n",
              "    </tr>\n",
              "    <tr>\n",
              "      <th>2</th>\n",
              "      <td>2</td>\n",
              "      <td>Ace Hotel Brooklyn</td>\n",
              "      <td>5.0</td>\n",
              "      <td>Google</td>\n",
              "      <td>Vacation</td>\n",
              "      <td>5.0</td>\n",
              "      <td>5.0</td>\n",
              "      <td>5.0</td>\n",
              "      <td>Amazing stay for our first evening in Brooklyn...</td>\n",
              "    </tr>\n",
              "  </tbody>\n",
              "</table>\n",
              "</div>"
            ],
            "text/plain": [
              "   ID               hotel  rating    site trip type  room rating  \\\n",
              "0   0  Ace Hotel Brooklyn     5.0  Google      Solo          5.0   \n",
              "1   1  Ace Hotel Brooklyn     5.0  Google    Couple          5.0   \n",
              "2   2  Ace Hotel Brooklyn     5.0  Google  Vacation          5.0   \n",
              "\n",
              "   location rating  service rating  \\\n",
              "0              5.0             5.0   \n",
              "1              5.0             5.0   \n",
              "2              5.0             5.0   \n",
              "\n",
              "                                                text  \n",
              "0  This hotel is truly amazing, from the building...  \n",
              "1  The staff was terrific!. Geneva and Sergio wer...  \n",
              "2  Amazing stay for our first evening in Brooklyn...  "
            ]
          },
          "execution_count": 29,
          "metadata": {},
          "output_type": "execute_result"
        }
      ],
      "source": [
        "#Converted rating column into numeric value for visualization. '5/5'-> 5.0\n",
        "data_expanded['rating'] = data_expanded['rating'].apply(lambda x: float(x[0]))\n",
        "data_expanded.head(3)"
      ]
    },
    {
      "cell_type": "markdown",
      "metadata": {
        "id": "a3T7uhRCPcRV"
      },
      "source": [
        "# Exploratory Visualizations"
      ]
    },
    {
      "cell_type": "markdown",
      "metadata": {
        "id": "cl78hJncbrwT"
      },
      "source": [
        "Although this isn't related to text classification, I was curious to see the distribution of ratings for the different categories. Of the three rating categories (Room, Service, Location), service had the highest frequency of 1 star reviews."
      ]
    },
    {
      "cell_type": "code",
      "execution_count": 30,
      "metadata": {
        "id": "rqbnnNHDMcBQ"
      },
      "outputs": [],
      "source": [
        "room_ratings = data_expanded[\"room rating\"].value_counts().reset_index(name=\"count\")\n",
        "service_ratings = data_expanded[\"service rating\"].value_counts().reset_index(name=\"count\")\n",
        "location_ratings = data_expanded[\"location rating\"].value_counts().reset_index(name=\"count\")\n",
        "ratings_count = data_expanded[\"rating\"].value_counts().reset_index(name=\"count\")"
      ]
    },
    {
      "cell_type": "code",
      "execution_count": 31,
      "metadata": {
        "colab": {
          "base_uri": "https://localhost:8080/",
          "height": 381
        },
        "id": "Cw9M_24IPByL",
        "outputId": "036d861b-a9e7-470c-b848-4ab2a4348af8"
      },
      "outputs": [
        {
          "data": {
            "text/html": [
              "\n",
              "<style>\n",
              "  #altair-viz-8a33cc2863934546bf0562a88d5c1607.vega-embed {\n",
              "    width: 100%;\n",
              "    display: flex;\n",
              "  }\n",
              "\n",
              "  #altair-viz-8a33cc2863934546bf0562a88d5c1607.vega-embed details,\n",
              "  #altair-viz-8a33cc2863934546bf0562a88d5c1607.vega-embed details summary {\n",
              "    position: relative;\n",
              "  }\n",
              "</style>\n",
              "<div id=\"altair-viz-8a33cc2863934546bf0562a88d5c1607\"></div>\n",
              "<script type=\"text/javascript\">\n",
              "  var VEGA_DEBUG = (typeof VEGA_DEBUG == \"undefined\") ? {} : VEGA_DEBUG;\n",
              "  (function(spec, embedOpt){\n",
              "    let outputDiv = document.currentScript.previousElementSibling;\n",
              "    if (outputDiv.id !== \"altair-viz-8a33cc2863934546bf0562a88d5c1607\") {\n",
              "      outputDiv = document.getElementById(\"altair-viz-8a33cc2863934546bf0562a88d5c1607\");\n",
              "    }\n",
              "    const paths = {\n",
              "      \"vega\": \"https://cdn.jsdelivr.net/npm/vega@5?noext\",\n",
              "      \"vega-lib\": \"https://cdn.jsdelivr.net/npm/vega-lib?noext\",\n",
              "      \"vega-lite\": \"https://cdn.jsdelivr.net/npm/vega-lite@5.16.3?noext\",\n",
              "      \"vega-embed\": \"https://cdn.jsdelivr.net/npm/vega-embed@6?noext\",\n",
              "    };\n",
              "\n",
              "    function maybeLoadScript(lib, version) {\n",
              "      var key = `${lib.replace(\"-\", \"\")}_version`;\n",
              "      return (VEGA_DEBUG[key] == version) ?\n",
              "        Promise.resolve(paths[lib]) :\n",
              "        new Promise(function(resolve, reject) {\n",
              "          var s = document.createElement('script');\n",
              "          document.getElementsByTagName(\"head\")[0].appendChild(s);\n",
              "          s.async = true;\n",
              "          s.onload = () => {\n",
              "            VEGA_DEBUG[key] = version;\n",
              "            return resolve(paths[lib]);\n",
              "          };\n",
              "          s.onerror = () => reject(`Error loading script: ${paths[lib]}`);\n",
              "          s.src = paths[lib];\n",
              "        });\n",
              "    }\n",
              "\n",
              "    function showError(err) {\n",
              "      outputDiv.innerHTML = `<div class=\"error\" style=\"color:red;\">${err}</div>`;\n",
              "      throw err;\n",
              "    }\n",
              "\n",
              "    function displayChart(vegaEmbed) {\n",
              "      vegaEmbed(outputDiv, spec, embedOpt)\n",
              "        .catch(err => showError(`Javascript Error: ${err.message}<br>This usually means there's a typo in your chart specification. See the javascript console for the full traceback.`));\n",
              "    }\n",
              "\n",
              "    if(typeof define === \"function\" && define.amd) {\n",
              "      requirejs.config({paths});\n",
              "      require([\"vega-embed\"], displayChart, err => showError(`Error loading script: ${err.message}`));\n",
              "    } else {\n",
              "      maybeLoadScript(\"vega\", \"5\")\n",
              "        .then(() => maybeLoadScript(\"vega-lite\", \"5.16.3\"))\n",
              "        .then(() => maybeLoadScript(\"vega-embed\", \"6\"))\n",
              "        .catch(showError)\n",
              "        .then(() => displayChart(vegaEmbed));\n",
              "    }\n",
              "  })({\"config\": {\"view\": {\"continuousWidth\": 300, \"continuousHeight\": 300}}, \"data\": {\"name\": \"data-e7a0d58fd98ccbd817722c65526b374e\"}, \"mark\": {\"type\": \"bar\"}, \"encoding\": {\"color\": {\"field\": \"index\", \"legend\": null, \"type\": \"nominal\"}, \"x\": {\"field\": \"index\", \"title\": \"Room Rating\", \"type\": \"nominal\"}, \"y\": {\"field\": \"count\", \"title\": \"Number of Reviews\", \"type\": \"quantitative\"}}, \"title\": \"Room Rating Distribution\", \"$schema\": \"https://vega.github.io/schema/vega-lite/v5.16.3.json\", \"datasets\": {\"data-e7a0d58fd98ccbd817722c65526b374e\": [{\"index\": 5.0, \"count\": 146}, {\"index\": 4.0, \"count\": 55}, {\"index\": 1.0, \"count\": 41}, {\"index\": 3.0, \"count\": 24}, {\"index\": 2.0, \"count\": 24}]}}, {\"mode\": \"vega-lite\"});\n",
              "</script>"
            ],
            "text/plain": [
              "alt.Chart(...)"
            ]
          },
          "execution_count": 31,
          "metadata": {},
          "output_type": "execute_result"
        }
      ],
      "source": [
        "room_chart = alt.Chart(room_ratings).mark_bar().encode(\n",
        "    x = alt.X(\"index:N\", title=\"Room Rating\"),\n",
        "    y = alt.Y(\"count:Q\", title=\"Number of Reviews\"),\n",
        "    color = alt.Color(\"index:N\", legend=None)\n",
        ").properties(\n",
        "    title = \"Room Rating Distribution\"\n",
        ")\n",
        "room_chart"
      ]
    },
    {
      "cell_type": "code",
      "execution_count": 32,
      "metadata": {
        "colab": {
          "base_uri": "https://localhost:8080/",
          "height": 381
        },
        "id": "Ovcf3uUza1Xx",
        "outputId": "59f86113-3660-435e-917b-f25d6d4c4bac"
      },
      "outputs": [
        {
          "data": {
            "text/html": [
              "\n",
              "<style>\n",
              "  #altair-viz-c23b0fc4ce634639b050d04433bca934.vega-embed {\n",
              "    width: 100%;\n",
              "    display: flex;\n",
              "  }\n",
              "\n",
              "  #altair-viz-c23b0fc4ce634639b050d04433bca934.vega-embed details,\n",
              "  #altair-viz-c23b0fc4ce634639b050d04433bca934.vega-embed details summary {\n",
              "    position: relative;\n",
              "  }\n",
              "</style>\n",
              "<div id=\"altair-viz-c23b0fc4ce634639b050d04433bca934\"></div>\n",
              "<script type=\"text/javascript\">\n",
              "  var VEGA_DEBUG = (typeof VEGA_DEBUG == \"undefined\") ? {} : VEGA_DEBUG;\n",
              "  (function(spec, embedOpt){\n",
              "    let outputDiv = document.currentScript.previousElementSibling;\n",
              "    if (outputDiv.id !== \"altair-viz-c23b0fc4ce634639b050d04433bca934\") {\n",
              "      outputDiv = document.getElementById(\"altair-viz-c23b0fc4ce634639b050d04433bca934\");\n",
              "    }\n",
              "    const paths = {\n",
              "      \"vega\": \"https://cdn.jsdelivr.net/npm/vega@5?noext\",\n",
              "      \"vega-lib\": \"https://cdn.jsdelivr.net/npm/vega-lib?noext\",\n",
              "      \"vega-lite\": \"https://cdn.jsdelivr.net/npm/vega-lite@5.16.3?noext\",\n",
              "      \"vega-embed\": \"https://cdn.jsdelivr.net/npm/vega-embed@6?noext\",\n",
              "    };\n",
              "\n",
              "    function maybeLoadScript(lib, version) {\n",
              "      var key = `${lib.replace(\"-\", \"\")}_version`;\n",
              "      return (VEGA_DEBUG[key] == version) ?\n",
              "        Promise.resolve(paths[lib]) :\n",
              "        new Promise(function(resolve, reject) {\n",
              "          var s = document.createElement('script');\n",
              "          document.getElementsByTagName(\"head\")[0].appendChild(s);\n",
              "          s.async = true;\n",
              "          s.onload = () => {\n",
              "            VEGA_DEBUG[key] = version;\n",
              "            return resolve(paths[lib]);\n",
              "          };\n",
              "          s.onerror = () => reject(`Error loading script: ${paths[lib]}`);\n",
              "          s.src = paths[lib];\n",
              "        });\n",
              "    }\n",
              "\n",
              "    function showError(err) {\n",
              "      outputDiv.innerHTML = `<div class=\"error\" style=\"color:red;\">${err}</div>`;\n",
              "      throw err;\n",
              "    }\n",
              "\n",
              "    function displayChart(vegaEmbed) {\n",
              "      vegaEmbed(outputDiv, spec, embedOpt)\n",
              "        .catch(err => showError(`Javascript Error: ${err.message}<br>This usually means there's a typo in your chart specification. See the javascript console for the full traceback.`));\n",
              "    }\n",
              "\n",
              "    if(typeof define === \"function\" && define.amd) {\n",
              "      requirejs.config({paths});\n",
              "      require([\"vega-embed\"], displayChart, err => showError(`Error loading script: ${err.message}`));\n",
              "    } else {\n",
              "      maybeLoadScript(\"vega\", \"5\")\n",
              "        .then(() => maybeLoadScript(\"vega-lite\", \"5.16.3\"))\n",
              "        .then(() => maybeLoadScript(\"vega-embed\", \"6\"))\n",
              "        .catch(showError)\n",
              "        .then(() => displayChart(vegaEmbed));\n",
              "    }\n",
              "  })({\"config\": {\"view\": {\"continuousWidth\": 300, \"continuousHeight\": 300}}, \"data\": {\"name\": \"data-116762c6f38d34b9dbb9a026e9b20dbf\"}, \"mark\": {\"type\": \"bar\"}, \"encoding\": {\"color\": {\"field\": \"index\", \"legend\": null, \"type\": \"nominal\"}, \"x\": {\"field\": \"index\", \"title\": \"Service Rating\", \"type\": \"nominal\"}, \"y\": {\"field\": \"count\", \"title\": \"Number of Reviews\", \"type\": \"quantitative\"}}, \"title\": \"Service Rating Distribution\", \"$schema\": \"https://vega.github.io/schema/vega-lite/v5.16.3.json\", \"datasets\": {\"data-116762c6f38d34b9dbb9a026e9b20dbf\": [{\"index\": 5.0, \"count\": 176}, {\"index\": 1.0, \"count\": 50}, {\"index\": 4.0, \"count\": 41}, {\"index\": 2.0, \"count\": 17}, {\"index\": 3.0, \"count\": 17}]}}, {\"mode\": \"vega-lite\"});\n",
              "</script>"
            ],
            "text/plain": [
              "alt.Chart(...)"
            ]
          },
          "execution_count": 32,
          "metadata": {},
          "output_type": "execute_result"
        }
      ],
      "source": [
        "service_chart = alt.Chart(service_ratings).mark_bar().encode(\n",
        "    x = alt.X(\"index:N\", title=\"Service Rating\"),\n",
        "    y = alt.Y(\"count:Q\", title=\"Number of Reviews\"),\n",
        "    color = alt.Color(\"index:N\", legend=None)\n",
        ").properties(\n",
        "    title = \"Service Rating Distribution\"\n",
        ")\n",
        "service_chart"
      ]
    },
    {
      "cell_type": "code",
      "execution_count": 33,
      "metadata": {
        "colab": {
          "base_uri": "https://localhost:8080/",
          "height": 381
        },
        "id": "K7sHeGcMa-zS",
        "outputId": "7fa789c7-b22a-4ce9-8efb-48cb3752ee5a"
      },
      "outputs": [
        {
          "data": {
            "text/html": [
              "\n",
              "<style>\n",
              "  #altair-viz-2d6491ca6884434c8efd4d2e3e03bcdf.vega-embed {\n",
              "    width: 100%;\n",
              "    display: flex;\n",
              "  }\n",
              "\n",
              "  #altair-viz-2d6491ca6884434c8efd4d2e3e03bcdf.vega-embed details,\n",
              "  #altair-viz-2d6491ca6884434c8efd4d2e3e03bcdf.vega-embed details summary {\n",
              "    position: relative;\n",
              "  }\n",
              "</style>\n",
              "<div id=\"altair-viz-2d6491ca6884434c8efd4d2e3e03bcdf\"></div>\n",
              "<script type=\"text/javascript\">\n",
              "  var VEGA_DEBUG = (typeof VEGA_DEBUG == \"undefined\") ? {} : VEGA_DEBUG;\n",
              "  (function(spec, embedOpt){\n",
              "    let outputDiv = document.currentScript.previousElementSibling;\n",
              "    if (outputDiv.id !== \"altair-viz-2d6491ca6884434c8efd4d2e3e03bcdf\") {\n",
              "      outputDiv = document.getElementById(\"altair-viz-2d6491ca6884434c8efd4d2e3e03bcdf\");\n",
              "    }\n",
              "    const paths = {\n",
              "      \"vega\": \"https://cdn.jsdelivr.net/npm/vega@5?noext\",\n",
              "      \"vega-lib\": \"https://cdn.jsdelivr.net/npm/vega-lib?noext\",\n",
              "      \"vega-lite\": \"https://cdn.jsdelivr.net/npm/vega-lite@5.16.3?noext\",\n",
              "      \"vega-embed\": \"https://cdn.jsdelivr.net/npm/vega-embed@6?noext\",\n",
              "    };\n",
              "\n",
              "    function maybeLoadScript(lib, version) {\n",
              "      var key = `${lib.replace(\"-\", \"\")}_version`;\n",
              "      return (VEGA_DEBUG[key] == version) ?\n",
              "        Promise.resolve(paths[lib]) :\n",
              "        new Promise(function(resolve, reject) {\n",
              "          var s = document.createElement('script');\n",
              "          document.getElementsByTagName(\"head\")[0].appendChild(s);\n",
              "          s.async = true;\n",
              "          s.onload = () => {\n",
              "            VEGA_DEBUG[key] = version;\n",
              "            return resolve(paths[lib]);\n",
              "          };\n",
              "          s.onerror = () => reject(`Error loading script: ${paths[lib]}`);\n",
              "          s.src = paths[lib];\n",
              "        });\n",
              "    }\n",
              "\n",
              "    function showError(err) {\n",
              "      outputDiv.innerHTML = `<div class=\"error\" style=\"color:red;\">${err}</div>`;\n",
              "      throw err;\n",
              "    }\n",
              "\n",
              "    function displayChart(vegaEmbed) {\n",
              "      vegaEmbed(outputDiv, spec, embedOpt)\n",
              "        .catch(err => showError(`Javascript Error: ${err.message}<br>This usually means there's a typo in your chart specification. See the javascript console for the full traceback.`));\n",
              "    }\n",
              "\n",
              "    if(typeof define === \"function\" && define.amd) {\n",
              "      requirejs.config({paths});\n",
              "      require([\"vega-embed\"], displayChart, err => showError(`Error loading script: ${err.message}`));\n",
              "    } else {\n",
              "      maybeLoadScript(\"vega\", \"5\")\n",
              "        .then(() => maybeLoadScript(\"vega-lite\", \"5.16.3\"))\n",
              "        .then(() => maybeLoadScript(\"vega-embed\", \"6\"))\n",
              "        .catch(showError)\n",
              "        .then(() => displayChart(vegaEmbed));\n",
              "    }\n",
              "  })({\"config\": {\"view\": {\"continuousWidth\": 300, \"continuousHeight\": 300}}, \"data\": {\"name\": \"data-9812e41a8bb8513bc18ff3d640b956e7\"}, \"mark\": {\"type\": \"bar\"}, \"encoding\": {\"color\": {\"field\": \"index\", \"legend\": null, \"type\": \"nominal\"}, \"x\": {\"field\": \"index\", \"title\": \"Location Rating\", \"type\": \"nominal\"}, \"y\": {\"field\": \"count\", \"title\": \"Number of Reviews\", \"type\": \"quantitative\"}}, \"title\": \"Location Rating Distribution\", \"$schema\": \"https://vega.github.io/schema/vega-lite/v5.16.3.json\", \"datasets\": {\"data-9812e41a8bb8513bc18ff3d640b956e7\": [{\"index\": 5.0, \"count\": 212}, {\"index\": 4.0, \"count\": 34}, {\"index\": 3.0, \"count\": 29}, {\"index\": 1.0, \"count\": 14}, {\"index\": 2.0, \"count\": 6}]}}, {\"mode\": \"vega-lite\"});\n",
              "</script>"
            ],
            "text/plain": [
              "alt.Chart(...)"
            ]
          },
          "execution_count": 33,
          "metadata": {},
          "output_type": "execute_result"
        }
      ],
      "source": [
        "location_chart = alt.Chart(location_ratings).mark_bar().encode(\n",
        "    x = alt.X(\"index:N\", title=\"Location Rating\"),\n",
        "    y = alt.Y(\"count:Q\", title=\"Number of Reviews\"),\n",
        "    color = alt.Color(\"index:N\", legend=None)\n",
        ").properties(\n",
        "    title = \"Location Rating Distribution\"\n",
        ")\n",
        "location_chart"
      ]
    },
    {
      "cell_type": "code",
      "execution_count": 34,
      "metadata": {
        "colab": {
          "base_uri": "https://localhost:8080/",
          "height": 381
        },
        "id": "bEE75xuQodDJ",
        "outputId": "bfdec215-6089-4565-b10d-18e3ba0118d9"
      },
      "outputs": [
        {
          "data": {
            "text/html": [
              "\n",
              "<style>\n",
              "  #altair-viz-7ab4912151e240c992d1aece2ba5b0a7.vega-embed {\n",
              "    width: 100%;\n",
              "    display: flex;\n",
              "  }\n",
              "\n",
              "  #altair-viz-7ab4912151e240c992d1aece2ba5b0a7.vega-embed details,\n",
              "  #altair-viz-7ab4912151e240c992d1aece2ba5b0a7.vega-embed details summary {\n",
              "    position: relative;\n",
              "  }\n",
              "</style>\n",
              "<div id=\"altair-viz-7ab4912151e240c992d1aece2ba5b0a7\"></div>\n",
              "<script type=\"text/javascript\">\n",
              "  var VEGA_DEBUG = (typeof VEGA_DEBUG == \"undefined\") ? {} : VEGA_DEBUG;\n",
              "  (function(spec, embedOpt){\n",
              "    let outputDiv = document.currentScript.previousElementSibling;\n",
              "    if (outputDiv.id !== \"altair-viz-7ab4912151e240c992d1aece2ba5b0a7\") {\n",
              "      outputDiv = document.getElementById(\"altair-viz-7ab4912151e240c992d1aece2ba5b0a7\");\n",
              "    }\n",
              "    const paths = {\n",
              "      \"vega\": \"https://cdn.jsdelivr.net/npm/vega@5?noext\",\n",
              "      \"vega-lib\": \"https://cdn.jsdelivr.net/npm/vega-lib?noext\",\n",
              "      \"vega-lite\": \"https://cdn.jsdelivr.net/npm/vega-lite@5.16.3?noext\",\n",
              "      \"vega-embed\": \"https://cdn.jsdelivr.net/npm/vega-embed@6?noext\",\n",
              "    };\n",
              "\n",
              "    function maybeLoadScript(lib, version) {\n",
              "      var key = `${lib.replace(\"-\", \"\")}_version`;\n",
              "      return (VEGA_DEBUG[key] == version) ?\n",
              "        Promise.resolve(paths[lib]) :\n",
              "        new Promise(function(resolve, reject) {\n",
              "          var s = document.createElement('script');\n",
              "          document.getElementsByTagName(\"head\")[0].appendChild(s);\n",
              "          s.async = true;\n",
              "          s.onload = () => {\n",
              "            VEGA_DEBUG[key] = version;\n",
              "            return resolve(paths[lib]);\n",
              "          };\n",
              "          s.onerror = () => reject(`Error loading script: ${paths[lib]}`);\n",
              "          s.src = paths[lib];\n",
              "        });\n",
              "    }\n",
              "\n",
              "    function showError(err) {\n",
              "      outputDiv.innerHTML = `<div class=\"error\" style=\"color:red;\">${err}</div>`;\n",
              "      throw err;\n",
              "    }\n",
              "\n",
              "    function displayChart(vegaEmbed) {\n",
              "      vegaEmbed(outputDiv, spec, embedOpt)\n",
              "        .catch(err => showError(`Javascript Error: ${err.message}<br>This usually means there's a typo in your chart specification. See the javascript console for the full traceback.`));\n",
              "    }\n",
              "\n",
              "    if(typeof define === \"function\" && define.amd) {\n",
              "      requirejs.config({paths});\n",
              "      require([\"vega-embed\"], displayChart, err => showError(`Error loading script: ${err.message}`));\n",
              "    } else {\n",
              "      maybeLoadScript(\"vega\", \"5\")\n",
              "        .then(() => maybeLoadScript(\"vega-lite\", \"5.16.3\"))\n",
              "        .then(() => maybeLoadScript(\"vega-embed\", \"6\"))\n",
              "        .catch(showError)\n",
              "        .then(() => displayChart(vegaEmbed));\n",
              "    }\n",
              "  })({\"config\": {\"view\": {\"continuousWidth\": 300, \"continuousHeight\": 300}}, \"data\": {\"name\": \"data-d06615efc3af87963b60008f4599ffbf\"}, \"mark\": {\"type\": \"bar\"}, \"encoding\": {\"color\": {\"field\": \"index\", \"legend\": null, \"type\": \"nominal\"}, \"x\": {\"field\": \"index\", \"title\": \"Rating\", \"type\": \"nominal\"}, \"y\": {\"field\": \"count\", \"title\": \"Number of Reviews\", \"type\": \"quantitative\"}}, \"title\": \"Overall Rating Distribution\", \"$schema\": \"https://vega.github.io/schema/vega-lite/v5.16.3.json\", \"datasets\": {\"data-d06615efc3af87963b60008f4599ffbf\": [{\"index\": 5.0, \"count\": 4172}, {\"index\": 4.0, \"count\": 1908}, {\"index\": 3.0, \"count\": 552}, {\"index\": 1.0, \"count\": 244}, {\"index\": 2.0, \"count\": 241}, {\"index\": 9.0, \"count\": 4}, {\"index\": 8.0, \"count\": 2}, {\"index\": 7.0, \"count\": 2}, {\"index\": 6.0, \"count\": 1}]}}, {\"mode\": \"vega-lite\"});\n",
              "</script>"
            ],
            "text/plain": [
              "alt.Chart(...)"
            ]
          },
          "execution_count": 34,
          "metadata": {},
          "output_type": "execute_result"
        }
      ],
      "source": [
        "ratings_chart = alt.Chart(ratings_count).mark_bar().encode(\n",
        "    x = alt.X(\"index:N\", title=\"Rating\"),\n",
        "    y = alt.Y(\"count:Q\", title=\"Number of Reviews\"),\n",
        "    color = alt.Color(\"index:N\", legend=None)\n",
        ").properties(\n",
        "    title = \"Overall Rating Distribution\"\n",
        ")\n",
        "ratings_chart"
      ]
    },
    {
      "cell_type": "markdown",
      "metadata": {
        "id": "yN6mXBJm-3Qa"
      },
      "source": [
        "There is an overwhelming majority of 5 star reviews across all of the different ratings categories. What about the average ratings across the self described trip types?"
      ]
    },
    {
      "cell_type": "code",
      "execution_count": 35,
      "metadata": {
        "colab": {
          "base_uri": "https://localhost:8080/",
          "height": 269
        },
        "id": "JOpFiftxOAM_",
        "outputId": "895c2bbe-7f6c-4042-ff74-8909b06953ad"
      },
      "outputs": [
        {
          "data": {
            "text/html": [
              "<div>\n",
              "<style scoped>\n",
              "    .dataframe tbody tr th:only-of-type {\n",
              "        vertical-align: middle;\n",
              "    }\n",
              "\n",
              "    .dataframe tbody tr th {\n",
              "        vertical-align: top;\n",
              "    }\n",
              "\n",
              "    .dataframe thead th {\n",
              "        text-align: right;\n",
              "    }\n",
              "</style>\n",
              "<table border=\"1\" class=\"dataframe\">\n",
              "  <thead>\n",
              "    <tr style=\"text-align: right;\">\n",
              "      <th></th>\n",
              "      <th>trip type</th>\n",
              "      <th>room rating</th>\n",
              "      <th>location rating</th>\n",
              "      <th>service rating</th>\n",
              "      <th>rating</th>\n",
              "    </tr>\n",
              "  </thead>\n",
              "  <tbody>\n",
              "    <tr>\n",
              "      <th>0</th>\n",
              "      <td>Business</td>\n",
              "      <td>4.200000</td>\n",
              "      <td>4.600000</td>\n",
              "      <td>4.000000</td>\n",
              "      <td>3.865385</td>\n",
              "    </tr>\n",
              "    <tr>\n",
              "      <th>1</th>\n",
              "      <td>Couple</td>\n",
              "      <td>3.467742</td>\n",
              "      <td>4.203125</td>\n",
              "      <td>3.738462</td>\n",
              "      <td>3.318841</td>\n",
              "    </tr>\n",
              "    <tr>\n",
              "      <th>2</th>\n",
              "      <td>Family</td>\n",
              "      <td>3.388889</td>\n",
              "      <td>4.315789</td>\n",
              "      <td>4.000000</td>\n",
              "      <td>3.190476</td>\n",
              "    </tr>\n",
              "    <tr>\n",
              "      <th>3</th>\n",
              "      <td>Friends</td>\n",
              "      <td>4.125000</td>\n",
              "      <td>4.516129</td>\n",
              "      <td>4.382353</td>\n",
              "      <td>3.916667</td>\n",
              "    </tr>\n",
              "    <tr>\n",
              "      <th>4</th>\n",
              "      <td>None</td>\n",
              "      <td>4.307692</td>\n",
              "      <td>4.466667</td>\n",
              "      <td>4.133333</td>\n",
              "      <td>4.378629</td>\n",
              "    </tr>\n",
              "    <tr>\n",
              "      <th>5</th>\n",
              "      <td>Solo</td>\n",
              "      <td>4.625000</td>\n",
              "      <td>4.941176</td>\n",
              "      <td>4.750000</td>\n",
              "      <td>4.428571</td>\n",
              "    </tr>\n",
              "    <tr>\n",
              "      <th>6</th>\n",
              "      <td>Vacation</td>\n",
              "      <td>3.715596</td>\n",
              "      <td>4.431193</td>\n",
              "      <td>3.687500</td>\n",
              "      <td>3.530769</td>\n",
              "    </tr>\n",
              "  </tbody>\n",
              "</table>\n",
              "</div>"
            ],
            "text/plain": [
              "  trip type  room rating  location rating  service rating    rating\n",
              "0  Business     4.200000         4.600000        4.000000  3.865385\n",
              "1    Couple     3.467742         4.203125        3.738462  3.318841\n",
              "2    Family     3.388889         4.315789        4.000000  3.190476\n",
              "3   Friends     4.125000         4.516129        4.382353  3.916667\n",
              "4      None     4.307692         4.466667        4.133333  4.378629\n",
              "5      Solo     4.625000         4.941176        4.750000  4.428571\n",
              "6  Vacation     3.715596         4.431193        3.687500  3.530769"
            ]
          },
          "execution_count": 35,
          "metadata": {},
          "output_type": "execute_result"
        }
      ],
      "source": [
        "#Average ratings for room, location, and service by trip type\n",
        "average_ratings_by_trip_type = data_expanded.groupby('trip type').agg({\n",
        "    'room rating': 'mean',\n",
        "    'location rating': 'mean',\n",
        "    'service rating': 'mean',\n",
        "    'rating': 'mean'\n",
        "}).reset_index()\n",
        "\n",
        "average_ratings_by_trip_type"
      ]
    },
    {
      "cell_type": "markdown",
      "metadata": {
        "id": "82s40cVNpg5X"
      },
      "source": [
        "\"Solo\" trip type tend to have the highest average ratings across room, location, and service, while \"Family\" and \"Vacation\" trip types have lower averages across all rating categories. The \"None\" category, representing missing or unspecified trip types, also shows relatively high average ratings. This makes sense as most customers who leave reviews either have very postive or very negative experiences."
      ]
    },
    {
      "cell_type": "markdown",
      "metadata": {
        "id": "q7muaIEzjexM"
      },
      "source": [
        "Sentiment Analysis"
      ]
    },
    {
      "cell_type": "code",
      "execution_count": 36,
      "metadata": {
        "id": "OZ0qXNkMKToC"
      },
      "outputs": [],
      "source": [
        "# Sentiment Analysis using TextBlob\n",
        "def analyze_sentiment(review):\n",
        "    analysis = TextBlob(review)\n",
        "    return analysis.sentiment.polarity  # Polarity score\n",
        "\n",
        "# Apply sentiment analysis to each review"
      ]
    },
    {
      "cell_type": "code",
      "execution_count": 37,
      "metadata": {
        "id": "6onk0gF4LBuq"
      },
      "outputs": [],
      "source": [
        "# Assigning sentiment labels based on sentiment score\n",
        "def assign_label(score):\n",
        "    if score > 0:\n",
        "        return 'Positive'\n",
        "    elif score < 0:\n",
        "        return 'Negative'\n",
        "    else:\n",
        "        return 'Neutral'"
      ]
    },
    {
      "cell_type": "code",
      "execution_count": 38,
      "metadata": {
        "id": "j08-NL6JXwjo"
      },
      "outputs": [],
      "source": [
        "data_expanded['sentiment_score'] = data_expanded['text'].apply(analyze_sentiment)"
      ]
    },
    {
      "cell_type": "code",
      "execution_count": 39,
      "metadata": {
        "id": "S4t9Zt8kX_kp"
      },
      "outputs": [],
      "source": [
        "data_expanded['sentiment_label'] = data_expanded['sentiment_score'].apply(assign_label)"
      ]
    },
    {
      "cell_type": "code",
      "execution_count": 40,
      "metadata": {
        "colab": {
          "base_uri": "https://localhost:8080/",
          "height": 174
        },
        "id": "5ZYEAvQVYB5O",
        "outputId": "37b1bc74-949d-44ed-aca3-31cd5e752df8"
      },
      "outputs": [
        {
          "data": {
            "text/html": [
              "<div>\n",
              "<style scoped>\n",
              "    .dataframe tbody tr th:only-of-type {\n",
              "        vertical-align: middle;\n",
              "    }\n",
              "\n",
              "    .dataframe tbody tr th {\n",
              "        vertical-align: top;\n",
              "    }\n",
              "\n",
              "    .dataframe thead th {\n",
              "        text-align: right;\n",
              "    }\n",
              "</style>\n",
              "<table border=\"1\" class=\"dataframe\">\n",
              "  <thead>\n",
              "    <tr style=\"text-align: right;\">\n",
              "      <th></th>\n",
              "      <th>ID</th>\n",
              "      <th>hotel</th>\n",
              "      <th>rating</th>\n",
              "      <th>site</th>\n",
              "      <th>trip type</th>\n",
              "      <th>room rating</th>\n",
              "      <th>location rating</th>\n",
              "      <th>service rating</th>\n",
              "      <th>text</th>\n",
              "      <th>sentiment_score</th>\n",
              "      <th>sentiment_label</th>\n",
              "    </tr>\n",
              "  </thead>\n",
              "  <tbody>\n",
              "    <tr>\n",
              "      <th>0</th>\n",
              "      <td>0</td>\n",
              "      <td>Ace Hotel Brooklyn</td>\n",
              "      <td>5.0</td>\n",
              "      <td>Google</td>\n",
              "      <td>Solo</td>\n",
              "      <td>5.0</td>\n",
              "      <td>5.0</td>\n",
              "      <td>5.0</td>\n",
              "      <td>This hotel is truly amazing, from the building...</td>\n",
              "      <td>0.411738</td>\n",
              "      <td>Positive</td>\n",
              "    </tr>\n",
              "    <tr>\n",
              "      <th>1</th>\n",
              "      <td>1</td>\n",
              "      <td>Ace Hotel Brooklyn</td>\n",
              "      <td>5.0</td>\n",
              "      <td>Google</td>\n",
              "      <td>Couple</td>\n",
              "      <td>5.0</td>\n",
              "      <td>5.0</td>\n",
              "      <td>5.0</td>\n",
              "      <td>The staff was terrific!. Geneva and Sergio wer...</td>\n",
              "      <td>0.343590</td>\n",
              "      <td>Positive</td>\n",
              "    </tr>\n",
              "    <tr>\n",
              "      <th>2</th>\n",
              "      <td>2</td>\n",
              "      <td>Ace Hotel Brooklyn</td>\n",
              "      <td>5.0</td>\n",
              "      <td>Google</td>\n",
              "      <td>Vacation</td>\n",
              "      <td>5.0</td>\n",
              "      <td>5.0</td>\n",
              "      <td>5.0</td>\n",
              "      <td>Amazing stay for our first evening in Brooklyn...</td>\n",
              "      <td>0.387708</td>\n",
              "      <td>Positive</td>\n",
              "    </tr>\n",
              "    <tr>\n",
              "      <th>2</th>\n",
              "      <td>2</td>\n",
              "      <td>Ace Hotel Brooklyn</td>\n",
              "      <td>5.0</td>\n",
              "      <td>Google</td>\n",
              "      <td>Couple</td>\n",
              "      <td>5.0</td>\n",
              "      <td>5.0</td>\n",
              "      <td>5.0</td>\n",
              "      <td>Amazing stay for our first evening in Brooklyn...</td>\n",
              "      <td>0.387708</td>\n",
              "      <td>Positive</td>\n",
              "    </tr>\n",
              "  </tbody>\n",
              "</table>\n",
              "</div>"
            ],
            "text/plain": [
              "   ID               hotel  rating    site trip type  room rating  \\\n",
              "0   0  Ace Hotel Brooklyn     5.0  Google      Solo          5.0   \n",
              "1   1  Ace Hotel Brooklyn     5.0  Google    Couple          5.0   \n",
              "2   2  Ace Hotel Brooklyn     5.0  Google  Vacation          5.0   \n",
              "2   2  Ace Hotel Brooklyn     5.0  Google    Couple          5.0   \n",
              "\n",
              "   location rating  service rating  \\\n",
              "0              5.0             5.0   \n",
              "1              5.0             5.0   \n",
              "2              5.0             5.0   \n",
              "2              5.0             5.0   \n",
              "\n",
              "                                                text  sentiment_score  \\\n",
              "0  This hotel is truly amazing, from the building...         0.411738   \n",
              "1  The staff was terrific!. Geneva and Sergio wer...         0.343590   \n",
              "2  Amazing stay for our first evening in Brooklyn...         0.387708   \n",
              "2  Amazing stay for our first evening in Brooklyn...         0.387708   \n",
              "\n",
              "  sentiment_label  \n",
              "0        Positive  \n",
              "1        Positive  \n",
              "2        Positive  \n",
              "2        Positive  "
            ]
          },
          "execution_count": 40,
          "metadata": {},
          "output_type": "execute_result"
        }
      ],
      "source": [
        "data_expanded.head(4)"
      ]
    },
    {
      "cell_type": "code",
      "execution_count": 41,
      "metadata": {
        "colab": {
          "base_uri": "https://localhost:8080/",
          "height": 472
        },
        "id": "NSaCRx9pVY5a",
        "outputId": "bd1088c1-b240-4d1c-8da6-64269a561997"
      },
      "outputs": [
        {
          "data": {
            "image/png": "[encoded data removed]",
            "text/plain": [
              "<Figure size 640x480 with 1 Axes>"
            ]
          },
          "metadata": {},
          "output_type": "display_data"
        }
      ],
      "source": [
        "# Distribution of the sentiment scores, they are mostly positive and right skewed\n",
        "sns.histplot(data_expanded['sentiment_score'], bins=10)\n",
        "plt.xlabel('Sentiment Score')\n",
        "plt.ylabel('Number of Reviews')\n",
        "plt.title('Distribution of Sentiment Scores')\n",
        "plt.show()\n"
      ]
    },
    {
      "cell_type": "markdown",
      "metadata": {
        "id": "ON_-McYWAkWK"
      },
      "source": [
        "Most text reviews have less than 500 characters. It would be interesting to see what the larger character reviews have to say."
      ]
    },
    {
      "cell_type": "code",
      "execution_count": 42,
      "metadata": {
        "colab": {
          "base_uri": "https://localhost:8080/",
          "height": 564
        },
        "id": "3OZUeFl6TR-d",
        "outputId": "c1a30291-801b-46b1-b9a1-c95ea605199c"
      },
      "outputs": [
        {
          "data": {
            "image/png": "[encoded data removed]",
            "text/plain": [
              "<Figure size 1000x600 with 1 Axes>"
            ]
          },
          "metadata": {},
          "output_type": "display_data"
        }
      ],
      "source": [
        "data_expanded['review_length'] = data_expanded['text'].apply(len)\n",
        "# Visualization of Review Length\n",
        "plt.figure(figsize=(10, 6))\n",
        "sns.histplot(data=data_expanded, x='review_length', bins=30, kde=True)\n",
        "plt.title('Distribution of Review Lengths')\n",
        "plt.xlabel('Review Length (Number of Characters)')\n",
        "plt.ylabel('Number of Reviews')\n",
        "plt.show()"
      ]
    },
    {
      "cell_type": "markdown",
      "metadata": {
        "id": "ifSyU_1pXmiY"
      },
      "source": [
        "Note that Ace Hotel Toronto only has 1 Review in the dataset. I am not examining reviews by hotel location but it is interesting to keep track of."
      ]
    },
    {
      "cell_type": "code",
      "execution_count": 43,
      "metadata": {
        "colab": {
          "base_uri": "https://localhost:8080/",
          "height": 724
        },
        "id": "myLwIXa1XPIK",
        "outputId": "afeec728-3fd6-42c4-9a60-0e8161909e25"
      },
      "outputs": [
        {
          "data": {
            "image/png": "[encoded data removed]",
            "text/plain": [
              "<Figure size 1200x600 with 1 Axes>"
            ]
          },
          "metadata": {},
          "output_type": "display_data"
        }
      ],
      "source": [
        "# Creating a Boxplot of Sentiment Scores by Hotel (if applicable)\n",
        "# Assuming 'hotel' is a column in your DataFrame\n",
        "plt.figure(figsize=(12, 6))\n",
        "sns.boxplot(x='hotel', y='sentiment_score', data=data_expanded)\n",
        "plt.xticks(rotation=45)\n",
        "plt.title('Sentiment Score Distribution by Hotel')\n",
        "plt.xlabel('Hotel')\n",
        "plt.ylabel('Sentiment Score')\n",
        "plt.show()"
      ]
    },
    {
      "cell_type": "markdown",
      "metadata": {
        "id": "3dA_ixHJpCjj"
      },
      "source": [
        "GPT3-5 Turbo Data\n",
        "\n",
        "After uploading the raw review data into Prodigy, I used a recipe to connect my api key to openai. Lastly, I had to give the api a detailed prompt in order for GPT3-5Turbo to classify each sentence as Positive or Negative.\n",
        "\n",
        "https://prodi.gy/docs\n",
        "\n",
        "Prompt given to openai: \"You are an expert Text Classification system. Your task is to accept Text as input and provide a category for the text based on the predefined labels. Classify the text below to any of the following labels: NEGATIVE, POSITIVE. The task is non-exclusive, so you can provide more than one label as long as they're comma-delimited. For example: Label1, Label2, Label3. Do not put any other text in your answer, only one or more of the provided labels with nothing before or after. If the text cannot be classified into any of the provided labels, answer `==NONE==`. Below are definitions of each label to help aid you in correctly classifying the text. Assume these definitions are written by an expert and follow them closely. POSITIVE: A positively sentiment review. NEGATIVE: A negatively sentiment review. Here is the text that needs classification:\""
      ]
    },
    {
      "cell_type": "code",
      "execution_count": 44,
      "metadata": {
        "colab": {
          "base_uri": "https://localhost:8080/",
          "height": 363
        },
        "id": "Jb1o5yqKdXqe",
        "outputId": "6b6d7c55-5aea-4889-a46d-47bee78f0828"
      },
      "outputs": [
        {
          "data": {
            "text/html": [
              "<div>\n",
              "<style scoped>\n",
              "    .dataframe tbody tr th:only-of-type {\n",
              "        vertical-align: middle;\n",
              "    }\n",
              "\n",
              "    .dataframe tbody tr th {\n",
              "        vertical-align: top;\n",
              "    }\n",
              "\n",
              "    .dataframe thead th {\n",
              "        text-align: right;\n",
              "    }\n",
              "</style>\n",
              "<table border=\"1\" class=\"dataframe\">\n",
              "  <thead>\n",
              "    <tr style=\"text-align: right;\">\n",
              "      <th></th>\n",
              "      <th>text</th>\n",
              "      <th>_input_hash</th>\n",
              "      <th>_task_hash</th>\n",
              "      <th>options</th>\n",
              "      <th>accept</th>\n",
              "      <th>llm</th>\n",
              "      <th>_view_id</th>\n",
              "    </tr>\n",
              "  </thead>\n",
              "  <tbody>\n",
              "    <tr>\n",
              "      <th>0</th>\n",
              "      <td>This hotel is truly amazing, from the building...</td>\n",
              "      <td>1344630365</td>\n",
              "      <td>-1649013736</td>\n",
              "      <td>[{'id': 'NEGATIVE', 'text': 'NEGATIVE', 'meta'...</td>\n",
              "      <td>[POSITIVE]</td>\n",
              "      <td>{'prompt': ['You are an expert Text Classifica...</td>\n",
              "      <td>choice</td>\n",
              "    </tr>\n",
              "    <tr>\n",
              "      <th>1</th>\n",
              "      <td>The staff was terrific!. Geneva and Sergio wer...</td>\n",
              "      <td>534808085</td>\n",
              "      <td>-1127637961</td>\n",
              "      <td>[{'id': 'NEGATIVE', 'text': 'NEGATIVE', 'meta'...</td>\n",
              "      <td>[POSITIVE]</td>\n",
              "      <td>{'prompt': ['You are an expert Text Classifica...</td>\n",
              "      <td>choice</td>\n",
              "    </tr>\n",
              "    <tr>\n",
              "      <th>2</th>\n",
              "      <td>Amazing stay for our first evening in Brooklyn...</td>\n",
              "      <td>422006770</td>\n",
              "      <td>1373478981</td>\n",
              "      <td>[{'id': 'NEGATIVE', 'text': 'NEGATIVE', 'meta'...</td>\n",
              "      <td>[POSITIVE]</td>\n",
              "      <td>{'prompt': ['You are an expert Text Classifica...</td>\n",
              "      <td>choice</td>\n",
              "    </tr>\n",
              "    <tr>\n",
              "      <th>3</th>\n",
              "      <td>What an amazing place! Clean, quiet rooms and ...</td>\n",
              "      <td>913662917</td>\n",
              "      <td>873784749</td>\n",
              "      <td>[{'id': 'NEGATIVE', 'text': 'NEGATIVE', 'meta'...</td>\n",
              "      <td>[POSITIVE]</td>\n",
              "      <td>{'prompt': ['You are an expert Text Classifica...</td>\n",
              "      <td>choice</td>\n",
              "    </tr>\n",
              "    <tr>\n",
              "      <th>4</th>\n",
              "      <td>Huge thank you to Darren at the front desk who...</td>\n",
              "      <td>1580355780</td>\n",
              "      <td>857685181</td>\n",
              "      <td>[{'id': 'NEGATIVE', 'text': 'NEGATIVE', 'meta'...</td>\n",
              "      <td>[POSITIVE]</td>\n",
              "      <td>{'prompt': ['You are an expert Text Classifica...</td>\n",
              "      <td>choice</td>\n",
              "    </tr>\n",
              "    <tr>\n",
              "      <th>5</th>\n",
              "      <td>As a newly former New Yorker, I am now always ...</td>\n",
              "      <td>-1340859968</td>\n",
              "      <td>-2017473298</td>\n",
              "      <td>[{'id': 'NEGATIVE', 'text': 'NEGATIVE', 'meta'...</td>\n",
              "      <td>[POSITIVE]</td>\n",
              "      <td>{'prompt': ['You are an expert Text Classifica...</td>\n",
              "      <td>choice</td>\n",
              "    </tr>\n",
              "    <tr>\n",
              "      <th>6</th>\n",
              "      <td>Lovely hotel in great location. I was here for...</td>\n",
              "      <td>988124567</td>\n",
              "      <td>835912987</td>\n",
              "      <td>[{'id': 'NEGATIVE', 'text': 'NEGATIVE', 'meta'...</td>\n",
              "      <td>[POSITIVE]</td>\n",
              "      <td>{'prompt': ['You are an expert Text Classifica...</td>\n",
              "      <td>choice</td>\n",
              "    </tr>\n",
              "    <tr>\n",
              "      <th>7</th>\n",
              "      <td>Love the Ace Hotel Brooklyn, great spot for br...</td>\n",
              "      <td>328728841</td>\n",
              "      <td>1111961170</td>\n",
              "      <td>[{'id': 'NEGATIVE', 'text': 'NEGATIVE', 'meta'...</td>\n",
              "      <td>[POSITIVE]</td>\n",
              "      <td>{'prompt': ['You are an expert Text Classifica...</td>\n",
              "      <td>choice</td>\n",
              "    </tr>\n",
              "    <tr>\n",
              "      <th>8</th>\n",
              "      <td>The is another gimmicky NYC hotel with undersi...</td>\n",
              "      <td>-548669807</td>\n",
              "      <td>-857473328</td>\n",
              "      <td>[{'id': 'NEGATIVE', 'text': 'NEGATIVE', 'meta'...</td>\n",
              "      <td>[NEGATIVE]</td>\n",
              "      <td>{'prompt': ['You are an expert Text Classifica...</td>\n",
              "      <td>choice</td>\n",
              "    </tr>\n",
              "    <tr>\n",
              "      <th>9</th>\n",
              "      <td>Couldn’t stop singing the praises for my exper...</td>\n",
              "      <td>-1793216809</td>\n",
              "      <td>1924072750</td>\n",
              "      <td>[{'id': 'NEGATIVE', 'text': 'NEGATIVE', 'meta'...</td>\n",
              "      <td>[POSITIVE]</td>\n",
              "      <td>{'prompt': ['You are an expert Text Classifica...</td>\n",
              "      <td>choice</td>\n",
              "    </tr>\n",
              "  </tbody>\n",
              "</table>\n",
              "</div>"
            ],
            "text/plain": [
              "                                                text  _input_hash  _task_hash  \\\n",
              "0  This hotel is truly amazing, from the building...   1344630365 -1649013736   \n",
              "1  The staff was terrific!. Geneva and Sergio wer...    534808085 -1127637961   \n",
              "2  Amazing stay for our first evening in Brooklyn...    422006770  1373478981   \n",
              "3  What an amazing place! Clean, quiet rooms and ...    913662917   873784749   \n",
              "4  Huge thank you to Darren at the front desk who...   1580355780   857685181   \n",
              "5  As a newly former New Yorker, I am now always ...  -1340859968 -2017473298   \n",
              "6  Lovely hotel in great location. I was here for...    988124567   835912987   \n",
              "7  Love the Ace Hotel Brooklyn, great spot for br...    328728841  1111961170   \n",
              "8  The is another gimmicky NYC hotel with undersi...   -548669807  -857473328   \n",
              "9  Couldn’t stop singing the praises for my exper...  -1793216809  1924072750   \n",
              "\n",
              "                                             options      accept  \\\n",
              "0  [{'id': 'NEGATIVE', 'text': 'NEGATIVE', 'meta'...  [POSITIVE]   \n",
              "1  [{'id': 'NEGATIVE', 'text': 'NEGATIVE', 'meta'...  [POSITIVE]   \n",
              "2  [{'id': 'NEGATIVE', 'text': 'NEGATIVE', 'meta'...  [POSITIVE]   \n",
              "3  [{'id': 'NEGATIVE', 'text': 'NEGATIVE', 'meta'...  [POSITIVE]   \n",
              "4  [{'id': 'NEGATIVE', 'text': 'NEGATIVE', 'meta'...  [POSITIVE]   \n",
              "5  [{'id': 'NEGATIVE', 'text': 'NEGATIVE', 'meta'...  [POSITIVE]   \n",
              "6  [{'id': 'NEGATIVE', 'text': 'NEGATIVE', 'meta'...  [POSITIVE]   \n",
              "7  [{'id': 'NEGATIVE', 'text': 'NEGATIVE', 'meta'...  [POSITIVE]   \n",
              "8  [{'id': 'NEGATIVE', 'text': 'NEGATIVE', 'meta'...  [NEGATIVE]   \n",
              "9  [{'id': 'NEGATIVE', 'text': 'NEGATIVE', 'meta'...  [POSITIVE]   \n",
              "\n",
              "                                                 llm _view_id  \n",
              "0  {'prompt': ['You are an expert Text Classifica...   choice  \n",
              "1  {'prompt': ['You are an expert Text Classifica...   choice  \n",
              "2  {'prompt': ['You are an expert Text Classifica...   choice  \n",
              "3  {'prompt': ['You are an expert Text Classifica...   choice  \n",
              "4  {'prompt': ['You are an expert Text Classifica...   choice  \n",
              "5  {'prompt': ['You are an expert Text Classifica...   choice  \n",
              "6  {'prompt': ['You are an expert Text Classifica...   choice  \n",
              "7  {'prompt': ['You are an expert Text Classifica...   choice  \n",
              "8  {'prompt': ['You are an expert Text Classifica...   choice  \n",
              "9  {'prompt': ['You are an expert Text Classifica...   choice  "
            ]
          },
          "execution_count": 44,
          "metadata": {},
          "output_type": "execute_result"
        }
      ],
      "source": [
        "gpt = pd.read_json('data/sentiment-gpt3-annotated.jsonl', lines=True)\n",
        "gpt.head(10)"
      ]
    },
    {
      "cell_type": "code",
      "execution_count": 45,
      "metadata": {
        "colab": {
          "base_uri": "https://localhost:8080/"
        },
        "id": "r2aJ6q8FcBAf",
        "outputId": "1123a266-e715-452d-8a14-b128f792051e"
      },
      "outputs": [
        {
          "data": {
            "text/plain": [
              "(6657, 7)"
            ]
          },
          "execution_count": 45,
          "metadata": {},
          "output_type": "execute_result"
        }
      ],
      "source": [
        "gpt.shape"
      ]
    },
    {
      "cell_type": "code",
      "execution_count": 46,
      "metadata": {
        "colab": {
          "base_uri": "https://localhost:8080/",
          "height": 363
        },
        "id": "MhCeP1I8iK5z",
        "outputId": "6ecbf671-5dc6-4b10-b9ea-d709f0fa0243"
      },
      "outputs": [
        {
          "data": {
            "text/html": [
              "<div>\n",
              "<style scoped>\n",
              "    .dataframe tbody tr th:only-of-type {\n",
              "        vertical-align: middle;\n",
              "    }\n",
              "\n",
              "    .dataframe tbody tr th {\n",
              "        vertical-align: top;\n",
              "    }\n",
              "\n",
              "    .dataframe thead th {\n",
              "        text-align: right;\n",
              "    }\n",
              "</style>\n",
              "<table border=\"1\" class=\"dataframe\">\n",
              "  <thead>\n",
              "    <tr style=\"text-align: right;\">\n",
              "      <th></th>\n",
              "      <th>text</th>\n",
              "      <th>_input_hash</th>\n",
              "      <th>_task_hash</th>\n",
              "      <th>options</th>\n",
              "      <th>accept</th>\n",
              "      <th>llm</th>\n",
              "      <th>_view_id</th>\n",
              "    </tr>\n",
              "  </thead>\n",
              "  <tbody>\n",
              "    <tr>\n",
              "      <th>0</th>\n",
              "      <td>This hotel is truly amazing, from the building...</td>\n",
              "      <td>1344630365</td>\n",
              "      <td>-1649013736</td>\n",
              "      <td>[{'id': 'NEGATIVE', 'text': 'NEGATIVE', 'meta'...</td>\n",
              "      <td>POSITIVE</td>\n",
              "      <td>{'prompt': ['You are an expert Text Classifica...</td>\n",
              "      <td>choice</td>\n",
              "    </tr>\n",
              "    <tr>\n",
              "      <th>1</th>\n",
              "      <td>The staff was terrific!. Geneva and Sergio wer...</td>\n",
              "      <td>534808085</td>\n",
              "      <td>-1127637961</td>\n",
              "      <td>[{'id': 'NEGATIVE', 'text': 'NEGATIVE', 'meta'...</td>\n",
              "      <td>POSITIVE</td>\n",
              "      <td>{'prompt': ['You are an expert Text Classifica...</td>\n",
              "      <td>choice</td>\n",
              "    </tr>\n",
              "    <tr>\n",
              "      <th>2</th>\n",
              "      <td>Amazing stay for our first evening in Brooklyn...</td>\n",
              "      <td>422006770</td>\n",
              "      <td>1373478981</td>\n",
              "      <td>[{'id': 'NEGATIVE', 'text': 'NEGATIVE', 'meta'...</td>\n",
              "      <td>POSITIVE</td>\n",
              "      <td>{'prompt': ['You are an expert Text Classifica...</td>\n",
              "      <td>choice</td>\n",
              "    </tr>\n",
              "    <tr>\n",
              "      <th>3</th>\n",
              "      <td>What an amazing place! Clean, quiet rooms and ...</td>\n",
              "      <td>913662917</td>\n",
              "      <td>873784749</td>\n",
              "      <td>[{'id': 'NEGATIVE', 'text': 'NEGATIVE', 'meta'...</td>\n",
              "      <td>POSITIVE</td>\n",
              "      <td>{'prompt': ['You are an expert Text Classifica...</td>\n",
              "      <td>choice</td>\n",
              "    </tr>\n",
              "    <tr>\n",
              "      <th>4</th>\n",
              "      <td>Huge thank you to Darren at the front desk who...</td>\n",
              "      <td>1580355780</td>\n",
              "      <td>857685181</td>\n",
              "      <td>[{'id': 'NEGATIVE', 'text': 'NEGATIVE', 'meta'...</td>\n",
              "      <td>POSITIVE</td>\n",
              "      <td>{'prompt': ['You are an expert Text Classifica...</td>\n",
              "      <td>choice</td>\n",
              "    </tr>\n",
              "    <tr>\n",
              "      <th>5</th>\n",
              "      <td>As a newly former New Yorker, I am now always ...</td>\n",
              "      <td>-1340859968</td>\n",
              "      <td>-2017473298</td>\n",
              "      <td>[{'id': 'NEGATIVE', 'text': 'NEGATIVE', 'meta'...</td>\n",
              "      <td>POSITIVE</td>\n",
              "      <td>{'prompt': ['You are an expert Text Classifica...</td>\n",
              "      <td>choice</td>\n",
              "    </tr>\n",
              "    <tr>\n",
              "      <th>6</th>\n",
              "      <td>Lovely hotel in great location. I was here for...</td>\n",
              "      <td>988124567</td>\n",
              "      <td>835912987</td>\n",
              "      <td>[{'id': 'NEGATIVE', 'text': 'NEGATIVE', 'meta'...</td>\n",
              "      <td>POSITIVE</td>\n",
              "      <td>{'prompt': ['You are an expert Text Classifica...</td>\n",
              "      <td>choice</td>\n",
              "    </tr>\n",
              "    <tr>\n",
              "      <th>7</th>\n",
              "      <td>Love the Ace Hotel Brooklyn, great spot for br...</td>\n",
              "      <td>328728841</td>\n",
              "      <td>1111961170</td>\n",
              "      <td>[{'id': 'NEGATIVE', 'text': 'NEGATIVE', 'meta'...</td>\n",
              "      <td>POSITIVE</td>\n",
              "      <td>{'prompt': ['You are an expert Text Classifica...</td>\n",
              "      <td>choice</td>\n",
              "    </tr>\n",
              "    <tr>\n",
              "      <th>8</th>\n",
              "      <td>The is another gimmicky NYC hotel with undersi...</td>\n",
              "      <td>-548669807</td>\n",
              "      <td>-857473328</td>\n",
              "      <td>[{'id': 'NEGATIVE', 'text': 'NEGATIVE', 'meta'...</td>\n",
              "      <td>NEGATIVE</td>\n",
              "      <td>{'prompt': ['You are an expert Text Classifica...</td>\n",
              "      <td>choice</td>\n",
              "    </tr>\n",
              "    <tr>\n",
              "      <th>9</th>\n",
              "      <td>Couldn’t stop singing the praises for my exper...</td>\n",
              "      <td>-1793216809</td>\n",
              "      <td>1924072750</td>\n",
              "      <td>[{'id': 'NEGATIVE', 'text': 'NEGATIVE', 'meta'...</td>\n",
              "      <td>POSITIVE</td>\n",
              "      <td>{'prompt': ['You are an expert Text Classifica...</td>\n",
              "      <td>choice</td>\n",
              "    </tr>\n",
              "  </tbody>\n",
              "</table>\n",
              "</div>"
            ],
            "text/plain": [
              "                                                text  _input_hash  _task_hash  \\\n",
              "0  This hotel is truly amazing, from the building...   1344630365 -1649013736   \n",
              "1  The staff was terrific!. Geneva and Sergio wer...    534808085 -1127637961   \n",
              "2  Amazing stay for our first evening in Brooklyn...    422006770  1373478981   \n",
              "3  What an amazing place! Clean, quiet rooms and ...    913662917   873784749   \n",
              "4  Huge thank you to Darren at the front desk who...   1580355780   857685181   \n",
              "5  As a newly former New Yorker, I am now always ...  -1340859968 -2017473298   \n",
              "6  Lovely hotel in great location. I was here for...    988124567   835912987   \n",
              "7  Love the Ace Hotel Brooklyn, great spot for br...    328728841  1111961170   \n",
              "8  The is another gimmicky NYC hotel with undersi...   -548669807  -857473328   \n",
              "9  Couldn’t stop singing the praises for my exper...  -1793216809  1924072750   \n",
              "\n",
              "                                             options    accept  \\\n",
              "0  [{'id': 'NEGATIVE', 'text': 'NEGATIVE', 'meta'...  POSITIVE   \n",
              "1  [{'id': 'NEGATIVE', 'text': 'NEGATIVE', 'meta'...  POSITIVE   \n",
              "2  [{'id': 'NEGATIVE', 'text': 'NEGATIVE', 'meta'...  POSITIVE   \n",
              "3  [{'id': 'NEGATIVE', 'text': 'NEGATIVE', 'meta'...  POSITIVE   \n",
              "4  [{'id': 'NEGATIVE', 'text': 'NEGATIVE', 'meta'...  POSITIVE   \n",
              "5  [{'id': 'NEGATIVE', 'text': 'NEGATIVE', 'meta'...  POSITIVE   \n",
              "6  [{'id': 'NEGATIVE', 'text': 'NEGATIVE', 'meta'...  POSITIVE   \n",
              "7  [{'id': 'NEGATIVE', 'text': 'NEGATIVE', 'meta'...  POSITIVE   \n",
              "8  [{'id': 'NEGATIVE', 'text': 'NEGATIVE', 'meta'...  NEGATIVE   \n",
              "9  [{'id': 'NEGATIVE', 'text': 'NEGATIVE', 'meta'...  POSITIVE   \n",
              "\n",
              "                                                 llm _view_id  \n",
              "0  {'prompt': ['You are an expert Text Classifica...   choice  \n",
              "1  {'prompt': ['You are an expert Text Classifica...   choice  \n",
              "2  {'prompt': ['You are an expert Text Classifica...   choice  \n",
              "3  {'prompt': ['You are an expert Text Classifica...   choice  \n",
              "4  {'prompt': ['You are an expert Text Classifica...   choice  \n",
              "5  {'prompt': ['You are an expert Text Classifica...   choice  \n",
              "6  {'prompt': ['You are an expert Text Classifica...   choice  \n",
              "7  {'prompt': ['You are an expert Text Classifica...   choice  \n",
              "8  {'prompt': ['You are an expert Text Classifica...   choice  \n",
              "9  {'prompt': ['You are an expert Text Classifica...   choice  "
            ]
          },
          "execution_count": 46,
          "metadata": {},
          "output_type": "execute_result"
        }
      ],
      "source": [
        "# Converting the list of determined labels to a string\n",
        "gpt['accept'] = gpt['accept'].apply(lambda x: x[0] if x else None)\n",
        "gpt.head(10)"
      ]
    },
    {
      "cell_type": "code",
      "execution_count": 47,
      "metadata": {
        "colab": {
          "base_uri": "https://localhost:8080/",
          "height": 363
        },
        "id": "YAGnotPlqdw8",
        "outputId": "6e540e3c-f3e0-497e-aeb3-9af034d22f6f"
      },
      "outputs": [
        {
          "data": {
            "text/html": [
              "<div>\n",
              "<style scoped>\n",
              "    .dataframe tbody tr th:only-of-type {\n",
              "        vertical-align: middle;\n",
              "    }\n",
              "\n",
              "    .dataframe tbody tr th {\n",
              "        vertical-align: top;\n",
              "    }\n",
              "\n",
              "    .dataframe thead th {\n",
              "        text-align: right;\n",
              "    }\n",
              "</style>\n",
              "<table border=\"1\" class=\"dataframe\">\n",
              "  <thead>\n",
              "    <tr style=\"text-align: right;\">\n",
              "      <th></th>\n",
              "      <th>text</th>\n",
              "      <th>accept</th>\n",
              "    </tr>\n",
              "  </thead>\n",
              "  <tbody>\n",
              "    <tr>\n",
              "      <th>0</th>\n",
              "      <td>This hotel is truly amazing, from the building...</td>\n",
              "      <td>POSITIVE</td>\n",
              "    </tr>\n",
              "    <tr>\n",
              "      <th>1</th>\n",
              "      <td>The staff was terrific!. Geneva and Sergio wer...</td>\n",
              "      <td>POSITIVE</td>\n",
              "    </tr>\n",
              "    <tr>\n",
              "      <th>2</th>\n",
              "      <td>Amazing stay for our first evening in Brooklyn...</td>\n",
              "      <td>POSITIVE</td>\n",
              "    </tr>\n",
              "    <tr>\n",
              "      <th>3</th>\n",
              "      <td>What an amazing place! Clean, quiet rooms and ...</td>\n",
              "      <td>POSITIVE</td>\n",
              "    </tr>\n",
              "    <tr>\n",
              "      <th>4</th>\n",
              "      <td>Huge thank you to Darren at the front desk who...</td>\n",
              "      <td>POSITIVE</td>\n",
              "    </tr>\n",
              "    <tr>\n",
              "      <th>5</th>\n",
              "      <td>As a newly former New Yorker, I am now always ...</td>\n",
              "      <td>POSITIVE</td>\n",
              "    </tr>\n",
              "    <tr>\n",
              "      <th>6</th>\n",
              "      <td>Lovely hotel in great location. I was here for...</td>\n",
              "      <td>POSITIVE</td>\n",
              "    </tr>\n",
              "    <tr>\n",
              "      <th>7</th>\n",
              "      <td>Love the Ace Hotel Brooklyn, great spot for br...</td>\n",
              "      <td>POSITIVE</td>\n",
              "    </tr>\n",
              "    <tr>\n",
              "      <th>8</th>\n",
              "      <td>The is another gimmicky NYC hotel with undersi...</td>\n",
              "      <td>NEGATIVE</td>\n",
              "    </tr>\n",
              "    <tr>\n",
              "      <th>9</th>\n",
              "      <td>Couldn’t stop singing the praises for my exper...</td>\n",
              "      <td>POSITIVE</td>\n",
              "    </tr>\n",
              "  </tbody>\n",
              "</table>\n",
              "</div>"
            ],
            "text/plain": [
              "                                                text    accept\n",
              "0  This hotel is truly amazing, from the building...  POSITIVE\n",
              "1  The staff was terrific!. Geneva and Sergio wer...  POSITIVE\n",
              "2  Amazing stay for our first evening in Brooklyn...  POSITIVE\n",
              "3  What an amazing place! Clean, quiet rooms and ...  POSITIVE\n",
              "4  Huge thank you to Darren at the front desk who...  POSITIVE\n",
              "5  As a newly former New Yorker, I am now always ...  POSITIVE\n",
              "6  Lovely hotel in great location. I was here for...  POSITIVE\n",
              "7  Love the Ace Hotel Brooklyn, great spot for br...  POSITIVE\n",
              "8  The is another gimmicky NYC hotel with undersi...  NEGATIVE\n",
              "9  Couldn’t stop singing the praises for my exper...  POSITIVE"
            ]
          },
          "execution_count": 47,
          "metadata": {},
          "output_type": "execute_result"
        }
      ],
      "source": [
        "df_gpt = gpt[['text','accept']]\n",
        "df_gpt.head(10)"
      ]
    },
    {
      "cell_type": "markdown",
      "metadata": {
        "id": "ogvEJadNjPmg"
      },
      "source": [
        "TextBlob Data\n",
        "\n",
        "It was interesting to see 7100 observations from the textblob labeling compared to the GPT labeling, however what I learned is that the openai api automatically filters out duplicates when conducting tasks. TextBlob doesn't have that capability so duplicates need to be removed manually."
      ]
    },
    {
      "cell_type": "code",
      "execution_count": 48,
      "metadata": {
        "colab": {
          "base_uri": "https://localhost:8080/",
          "height": 363
        },
        "id": "COarAN0WmrKh",
        "outputId": "1bf81ab3-9b26-456a-bf4f-232862ba4eae"
      },
      "outputs": [
        {
          "data": {
            "text/html": [
              "<div>\n",
              "<style scoped>\n",
              "    .dataframe tbody tr th:only-of-type {\n",
              "        vertical-align: middle;\n",
              "    }\n",
              "\n",
              "    .dataframe tbody tr th {\n",
              "        vertical-align: top;\n",
              "    }\n",
              "\n",
              "    .dataframe thead th {\n",
              "        text-align: right;\n",
              "    }\n",
              "</style>\n",
              "<table border=\"1\" class=\"dataframe\">\n",
              "  <thead>\n",
              "    <tr style=\"text-align: right;\">\n",
              "      <th></th>\n",
              "      <th>ID</th>\n",
              "      <th>hotel</th>\n",
              "      <th>rating</th>\n",
              "      <th>trip type</th>\n",
              "      <th>room rating</th>\n",
              "      <th>location rating</th>\n",
              "      <th>service rating</th>\n",
              "      <th>text</th>\n",
              "      <th>sentiment_score</th>\n",
              "      <th>sentiment_label</th>\n",
              "    </tr>\n",
              "  </thead>\n",
              "  <tbody>\n",
              "    <tr>\n",
              "      <th>0</th>\n",
              "      <td>0</td>\n",
              "      <td>Ace Hotel Brooklyn</td>\n",
              "      <td>5.0</td>\n",
              "      <td>Solo</td>\n",
              "      <td>5.0</td>\n",
              "      <td>5.0</td>\n",
              "      <td>5.0</td>\n",
              "      <td>This hotel is truly amazing, from the building...</td>\n",
              "      <td>0.411738</td>\n",
              "      <td>Positive</td>\n",
              "    </tr>\n",
              "    <tr>\n",
              "      <th>1</th>\n",
              "      <td>1</td>\n",
              "      <td>Ace Hotel Brooklyn</td>\n",
              "      <td>5.0</td>\n",
              "      <td>Couple</td>\n",
              "      <td>5.0</td>\n",
              "      <td>5.0</td>\n",
              "      <td>5.0</td>\n",
              "      <td>The staff was terrific!. Geneva and Sergio wer...</td>\n",
              "      <td>0.343590</td>\n",
              "      <td>Positive</td>\n",
              "    </tr>\n",
              "    <tr>\n",
              "      <th>2</th>\n",
              "      <td>2</td>\n",
              "      <td>Ace Hotel Brooklyn</td>\n",
              "      <td>5.0</td>\n",
              "      <td>Vacation</td>\n",
              "      <td>5.0</td>\n",
              "      <td>5.0</td>\n",
              "      <td>5.0</td>\n",
              "      <td>Amazing stay for our first evening in Brooklyn...</td>\n",
              "      <td>0.387708</td>\n",
              "      <td>Positive</td>\n",
              "    </tr>\n",
              "    <tr>\n",
              "      <th>2</th>\n",
              "      <td>2</td>\n",
              "      <td>Ace Hotel Brooklyn</td>\n",
              "      <td>5.0</td>\n",
              "      <td>Couple</td>\n",
              "      <td>5.0</td>\n",
              "      <td>5.0</td>\n",
              "      <td>5.0</td>\n",
              "      <td>Amazing stay for our first evening in Brooklyn...</td>\n",
              "      <td>0.387708</td>\n",
              "      <td>Positive</td>\n",
              "    </tr>\n",
              "    <tr>\n",
              "      <th>3</th>\n",
              "      <td>3</td>\n",
              "      <td>Ace Hotel Brooklyn</td>\n",
              "      <td>5.0</td>\n",
              "      <td>None</td>\n",
              "      <td>NaN</td>\n",
              "      <td>NaN</td>\n",
              "      <td>NaN</td>\n",
              "      <td>What an amazing place! Clean, quiet rooms and ...</td>\n",
              "      <td>0.541667</td>\n",
              "      <td>Positive</td>\n",
              "    </tr>\n",
              "    <tr>\n",
              "      <th>4</th>\n",
              "      <td>4</td>\n",
              "      <td>Ace Hotel Brooklyn</td>\n",
              "      <td>5.0</td>\n",
              "      <td>Couple</td>\n",
              "      <td>4.0</td>\n",
              "      <td>4.0</td>\n",
              "      <td>5.0</td>\n",
              "      <td>Huge thank you to Darren at the front desk who...</td>\n",
              "      <td>0.245840</td>\n",
              "      <td>Positive</td>\n",
              "    </tr>\n",
              "    <tr>\n",
              "      <th>5</th>\n",
              "      <td>5</td>\n",
              "      <td>Ace Hotel Brooklyn</td>\n",
              "      <td>5.0</td>\n",
              "      <td>Business</td>\n",
              "      <td>3.0</td>\n",
              "      <td>3.0</td>\n",
              "      <td>5.0</td>\n",
              "      <td>As a newly former New Yorker, I am now always ...</td>\n",
              "      <td>0.220042</td>\n",
              "      <td>Positive</td>\n",
              "    </tr>\n",
              "    <tr>\n",
              "      <th>6</th>\n",
              "      <td>6</td>\n",
              "      <td>Ace Hotel Brooklyn</td>\n",
              "      <td>5.0</td>\n",
              "      <td>None</td>\n",
              "      <td>NaN</td>\n",
              "      <td>NaN</td>\n",
              "      <td>NaN</td>\n",
              "      <td>Lovely hotel in great location. I was here for...</td>\n",
              "      <td>0.338636</td>\n",
              "      <td>Positive</td>\n",
              "    </tr>\n",
              "    <tr>\n",
              "      <th>7</th>\n",
              "      <td>7</td>\n",
              "      <td>Ace Hotel Brooklyn</td>\n",
              "      <td>5.0</td>\n",
              "      <td>None</td>\n",
              "      <td>NaN</td>\n",
              "      <td>NaN</td>\n",
              "      <td>NaN</td>\n",
              "      <td>Love the Ace Hotel Brooklyn, great spot for br...</td>\n",
              "      <td>0.458333</td>\n",
              "      <td>Positive</td>\n",
              "    </tr>\n",
              "    <tr>\n",
              "      <th>8</th>\n",
              "      <td>8</td>\n",
              "      <td>Ace Hotel Brooklyn</td>\n",
              "      <td>3.0</td>\n",
              "      <td>None</td>\n",
              "      <td>NaN</td>\n",
              "      <td>NaN</td>\n",
              "      <td>NaN</td>\n",
              "      <td>The is another gimmicky NYC hotel with undersi...</td>\n",
              "      <td>0.137000</td>\n",
              "      <td>Positive</td>\n",
              "    </tr>\n",
              "  </tbody>\n",
              "</table>\n",
              "</div>"
            ],
            "text/plain": [
              "   ID               hotel  rating trip type  room rating  location rating  \\\n",
              "0   0  Ace Hotel Brooklyn     5.0      Solo          5.0              5.0   \n",
              "1   1  Ace Hotel Brooklyn     5.0    Couple          5.0              5.0   \n",
              "2   2  Ace Hotel Brooklyn     5.0  Vacation          5.0              5.0   \n",
              "2   2  Ace Hotel Brooklyn     5.0    Couple          5.0              5.0   \n",
              "3   3  Ace Hotel Brooklyn     5.0      None          NaN              NaN   \n",
              "4   4  Ace Hotel Brooklyn     5.0    Couple          4.0              4.0   \n",
              "5   5  Ace Hotel Brooklyn     5.0  Business          3.0              3.0   \n",
              "6   6  Ace Hotel Brooklyn     5.0      None          NaN              NaN   \n",
              "7   7  Ace Hotel Brooklyn     5.0      None          NaN              NaN   \n",
              "8   8  Ace Hotel Brooklyn     3.0      None          NaN              NaN   \n",
              "\n",
              "   service rating                                               text  \\\n",
              "0             5.0  This hotel is truly amazing, from the building...   \n",
              "1             5.0  The staff was terrific!. Geneva and Sergio wer...   \n",
              "2             5.0  Amazing stay for our first evening in Brooklyn...   \n",
              "2             5.0  Amazing stay for our first evening in Brooklyn...   \n",
              "3             NaN  What an amazing place! Clean, quiet rooms and ...   \n",
              "4             5.0  Huge thank you to Darren at the front desk who...   \n",
              "5             5.0  As a newly former New Yorker, I am now always ...   \n",
              "6             NaN  Lovely hotel in great location. I was here for...   \n",
              "7             NaN  Love the Ace Hotel Brooklyn, great spot for br...   \n",
              "8             NaN  The is another gimmicky NYC hotel with undersi...   \n",
              "\n",
              "   sentiment_score sentiment_label  \n",
              "0         0.411738        Positive  \n",
              "1         0.343590        Positive  \n",
              "2         0.387708        Positive  \n",
              "2         0.387708        Positive  \n",
              "3         0.541667        Positive  \n",
              "4         0.245840        Positive  \n",
              "5         0.220042        Positive  \n",
              "6         0.338636        Positive  \n",
              "7         0.458333        Positive  \n",
              "8         0.137000        Positive  "
            ]
          },
          "execution_count": 48,
          "metadata": {},
          "output_type": "execute_result"
        }
      ],
      "source": [
        "blob_data = data_expanded[['ID','hotel','rating','trip type','room rating','location rating','service rating','text','sentiment_score','sentiment_label']]\n",
        "#blob_data = pd.read_csv(\"TextBlob_labeled.csv\")\n",
        "blob_data.head(10)"
      ]
    },
    {
      "cell_type": "code",
      "execution_count": 49,
      "metadata": {
        "colab": {
          "base_uri": "https://localhost:8080/"
        },
        "id": "EQno_AZJnjp_",
        "outputId": "ad14d3d9-d07d-44c8-ddeb-9bdc1f8e7b16"
      },
      "outputs": [
        {
          "data": {
            "text/plain": [
              "(7126, 10)"
            ]
          },
          "execution_count": 49,
          "metadata": {},
          "output_type": "execute_result"
        }
      ],
      "source": [
        "blob_data.shape"
      ]
    },
    {
      "cell_type": "code",
      "execution_count": 50,
      "metadata": {
        "id": "eoO8yu5Mm2a_"
      },
      "outputs": [],
      "source": [
        "df_tb = blob_data[['hotel','rating','text','sentiment_score','sentiment_label']]"
      ]
    },
    {
      "cell_type": "code",
      "execution_count": 51,
      "metadata": {
        "colab": {
          "base_uri": "https://localhost:8080/",
          "height": 380
        },
        "id": "0shwla7UprRQ",
        "outputId": "6ef6031c-fc9f-4594-cc00-6adb8e7447fa"
      },
      "outputs": [
        {
          "name": "stdout",
          "output_type": "stream",
          "text": [
            "(6657, 5)\n"
          ]
        },
        {
          "data": {
            "text/html": [
              "<div>\n",
              "<style scoped>\n",
              "    .dataframe tbody tr th:only-of-type {\n",
              "        vertical-align: middle;\n",
              "    }\n",
              "\n",
              "    .dataframe tbody tr th {\n",
              "        vertical-align: top;\n",
              "    }\n",
              "\n",
              "    .dataframe thead th {\n",
              "        text-align: right;\n",
              "    }\n",
              "</style>\n",
              "<table border=\"1\" class=\"dataframe\">\n",
              "  <thead>\n",
              "    <tr style=\"text-align: right;\">\n",
              "      <th></th>\n",
              "      <th>hotel</th>\n",
              "      <th>rating</th>\n",
              "      <th>text</th>\n",
              "      <th>sentiment_score</th>\n",
              "      <th>sentiment_label</th>\n",
              "    </tr>\n",
              "  </thead>\n",
              "  <tbody>\n",
              "    <tr>\n",
              "      <th>0</th>\n",
              "      <td>Ace Hotel Brooklyn</td>\n",
              "      <td>5.0</td>\n",
              "      <td>This hotel is truly amazing, from the building...</td>\n",
              "      <td>0.411738</td>\n",
              "      <td>Positive</td>\n",
              "    </tr>\n",
              "    <tr>\n",
              "      <th>1</th>\n",
              "      <td>Ace Hotel Brooklyn</td>\n",
              "      <td>5.0</td>\n",
              "      <td>The staff was terrific!. Geneva and Sergio wer...</td>\n",
              "      <td>0.343590</td>\n",
              "      <td>Positive</td>\n",
              "    </tr>\n",
              "    <tr>\n",
              "      <th>2</th>\n",
              "      <td>Ace Hotel Brooklyn</td>\n",
              "      <td>5.0</td>\n",
              "      <td>Amazing stay for our first evening in Brooklyn...</td>\n",
              "      <td>0.387708</td>\n",
              "      <td>Positive</td>\n",
              "    </tr>\n",
              "    <tr>\n",
              "      <th>3</th>\n",
              "      <td>Ace Hotel Brooklyn</td>\n",
              "      <td>5.0</td>\n",
              "      <td>What an amazing place! Clean, quiet rooms and ...</td>\n",
              "      <td>0.541667</td>\n",
              "      <td>Positive</td>\n",
              "    </tr>\n",
              "    <tr>\n",
              "      <th>4</th>\n",
              "      <td>Ace Hotel Brooklyn</td>\n",
              "      <td>5.0</td>\n",
              "      <td>Huge thank you to Darren at the front desk who...</td>\n",
              "      <td>0.245840</td>\n",
              "      <td>Positive</td>\n",
              "    </tr>\n",
              "    <tr>\n",
              "      <th>5</th>\n",
              "      <td>Ace Hotel Brooklyn</td>\n",
              "      <td>5.0</td>\n",
              "      <td>As a newly former New Yorker, I am now always ...</td>\n",
              "      <td>0.220042</td>\n",
              "      <td>Positive</td>\n",
              "    </tr>\n",
              "    <tr>\n",
              "      <th>6</th>\n",
              "      <td>Ace Hotel Brooklyn</td>\n",
              "      <td>5.0</td>\n",
              "      <td>Lovely hotel in great location. I was here for...</td>\n",
              "      <td>0.338636</td>\n",
              "      <td>Positive</td>\n",
              "    </tr>\n",
              "    <tr>\n",
              "      <th>7</th>\n",
              "      <td>Ace Hotel Brooklyn</td>\n",
              "      <td>5.0</td>\n",
              "      <td>Love the Ace Hotel Brooklyn, great spot for br...</td>\n",
              "      <td>0.458333</td>\n",
              "      <td>Positive</td>\n",
              "    </tr>\n",
              "    <tr>\n",
              "      <th>8</th>\n",
              "      <td>Ace Hotel Brooklyn</td>\n",
              "      <td>3.0</td>\n",
              "      <td>The is another gimmicky NYC hotel with undersi...</td>\n",
              "      <td>0.137000</td>\n",
              "      <td>Positive</td>\n",
              "    </tr>\n",
              "    <tr>\n",
              "      <th>9</th>\n",
              "      <td>Ace Hotel Brooklyn</td>\n",
              "      <td>5.0</td>\n",
              "      <td>Couldn’t stop singing the praises for my exper...</td>\n",
              "      <td>0.332823</td>\n",
              "      <td>Positive</td>\n",
              "    </tr>\n",
              "  </tbody>\n",
              "</table>\n",
              "</div>"
            ],
            "text/plain": [
              "                hotel  rating  \\\n",
              "0  Ace Hotel Brooklyn     5.0   \n",
              "1  Ace Hotel Brooklyn     5.0   \n",
              "2  Ace Hotel Brooklyn     5.0   \n",
              "3  Ace Hotel Brooklyn     5.0   \n",
              "4  Ace Hotel Brooklyn     5.0   \n",
              "5  Ace Hotel Brooklyn     5.0   \n",
              "6  Ace Hotel Brooklyn     5.0   \n",
              "7  Ace Hotel Brooklyn     5.0   \n",
              "8  Ace Hotel Brooklyn     3.0   \n",
              "9  Ace Hotel Brooklyn     5.0   \n",
              "\n",
              "                                                text  sentiment_score  \\\n",
              "0  This hotel is truly amazing, from the building...         0.411738   \n",
              "1  The staff was terrific!. Geneva and Sergio wer...         0.343590   \n",
              "2  Amazing stay for our first evening in Brooklyn...         0.387708   \n",
              "3  What an amazing place! Clean, quiet rooms and ...         0.541667   \n",
              "4  Huge thank you to Darren at the front desk who...         0.245840   \n",
              "5  As a newly former New Yorker, I am now always ...         0.220042   \n",
              "6  Lovely hotel in great location. I was here for...         0.338636   \n",
              "7  Love the Ace Hotel Brooklyn, great spot for br...         0.458333   \n",
              "8  The is another gimmicky NYC hotel with undersi...         0.137000   \n",
              "9  Couldn’t stop singing the praises for my exper...         0.332823   \n",
              "\n",
              "  sentiment_label  \n",
              "0        Positive  \n",
              "1        Positive  \n",
              "2        Positive  \n",
              "3        Positive  \n",
              "4        Positive  \n",
              "5        Positive  \n",
              "6        Positive  \n",
              "7        Positive  \n",
              "8        Positive  \n",
              "9        Positive  "
            ]
          },
          "execution_count": 51,
          "metadata": {},
          "output_type": "execute_result"
        }
      ],
      "source": [
        "df_tb = df_tb.drop_duplicates(subset='text')\n",
        "print(df_tb.shape)\n",
        "df_tb.head(10)"
      ]
    },
    {
      "cell_type": "markdown",
      "metadata": {
        "id": "c1Zt_ft7rpwh"
      },
      "source": [
        "Merge the GPT and Text dataframes"
      ]
    },
    {
      "cell_type": "code",
      "execution_count": 52,
      "metadata": {
        "colab": {
          "base_uri": "https://localhost:8080/",
          "height": 363
        },
        "id": "h_BGieRcqDBB",
        "outputId": "0b53721f-907d-47f9-bba9-78fce13174bf"
      },
      "outputs": [
        {
          "data": {
            "text/html": [
              "<div>\n",
              "<style scoped>\n",
              "    .dataframe tbody tr th:only-of-type {\n",
              "        vertical-align: middle;\n",
              "    }\n",
              "\n",
              "    .dataframe tbody tr th {\n",
              "        vertical-align: top;\n",
              "    }\n",
              "\n",
              "    .dataframe thead th {\n",
              "        text-align: right;\n",
              "    }\n",
              "</style>\n",
              "<table border=\"1\" class=\"dataframe\">\n",
              "  <thead>\n",
              "    <tr style=\"text-align: right;\">\n",
              "      <th></th>\n",
              "      <th>hotel</th>\n",
              "      <th>rating</th>\n",
              "      <th>text</th>\n",
              "      <th>sentiment_score</th>\n",
              "      <th>sentiment_label</th>\n",
              "      <th>accept</th>\n",
              "    </tr>\n",
              "  </thead>\n",
              "  <tbody>\n",
              "    <tr>\n",
              "      <th>0</th>\n",
              "      <td>Ace Hotel Brooklyn</td>\n",
              "      <td>5.0</td>\n",
              "      <td>This hotel is truly amazing, from the building...</td>\n",
              "      <td>0.411738</td>\n",
              "      <td>Positive</td>\n",
              "      <td>POSITIVE</td>\n",
              "    </tr>\n",
              "    <tr>\n",
              "      <th>1</th>\n",
              "      <td>Ace Hotel Brooklyn</td>\n",
              "      <td>5.0</td>\n",
              "      <td>The staff was terrific!. Geneva and Sergio wer...</td>\n",
              "      <td>0.343590</td>\n",
              "      <td>Positive</td>\n",
              "      <td>POSITIVE</td>\n",
              "    </tr>\n",
              "    <tr>\n",
              "      <th>2</th>\n",
              "      <td>Ace Hotel Brooklyn</td>\n",
              "      <td>5.0</td>\n",
              "      <td>Amazing stay for our first evening in Brooklyn...</td>\n",
              "      <td>0.387708</td>\n",
              "      <td>Positive</td>\n",
              "      <td>POSITIVE</td>\n",
              "    </tr>\n",
              "    <tr>\n",
              "      <th>3</th>\n",
              "      <td>Ace Hotel Brooklyn</td>\n",
              "      <td>5.0</td>\n",
              "      <td>What an amazing place! Clean, quiet rooms and ...</td>\n",
              "      <td>0.541667</td>\n",
              "      <td>Positive</td>\n",
              "      <td>POSITIVE</td>\n",
              "    </tr>\n",
              "    <tr>\n",
              "      <th>4</th>\n",
              "      <td>Ace Hotel Brooklyn</td>\n",
              "      <td>5.0</td>\n",
              "      <td>Huge thank you to Darren at the front desk who...</td>\n",
              "      <td>0.245840</td>\n",
              "      <td>Positive</td>\n",
              "      <td>POSITIVE</td>\n",
              "    </tr>\n",
              "    <tr>\n",
              "      <th>5</th>\n",
              "      <td>Ace Hotel Brooklyn</td>\n",
              "      <td>5.0</td>\n",
              "      <td>As a newly former New Yorker, I am now always ...</td>\n",
              "      <td>0.220042</td>\n",
              "      <td>Positive</td>\n",
              "      <td>POSITIVE</td>\n",
              "    </tr>\n",
              "    <tr>\n",
              "      <th>6</th>\n",
              "      <td>Ace Hotel Brooklyn</td>\n",
              "      <td>5.0</td>\n",
              "      <td>Lovely hotel in great location. I was here for...</td>\n",
              "      <td>0.338636</td>\n",
              "      <td>Positive</td>\n",
              "      <td>POSITIVE</td>\n",
              "    </tr>\n",
              "    <tr>\n",
              "      <th>7</th>\n",
              "      <td>Ace Hotel Brooklyn</td>\n",
              "      <td>5.0</td>\n",
              "      <td>Love the Ace Hotel Brooklyn, great spot for br...</td>\n",
              "      <td>0.458333</td>\n",
              "      <td>Positive</td>\n",
              "      <td>POSITIVE</td>\n",
              "    </tr>\n",
              "    <tr>\n",
              "      <th>8</th>\n",
              "      <td>Ace Hotel Brooklyn</td>\n",
              "      <td>3.0</td>\n",
              "      <td>The is another gimmicky NYC hotel with undersi...</td>\n",
              "      <td>0.137000</td>\n",
              "      <td>Positive</td>\n",
              "      <td>NEGATIVE</td>\n",
              "    </tr>\n",
              "    <tr>\n",
              "      <th>9</th>\n",
              "      <td>Ace Hotel Brooklyn</td>\n",
              "      <td>5.0</td>\n",
              "      <td>Couldn’t stop singing the praises for my exper...</td>\n",
              "      <td>0.332823</td>\n",
              "      <td>Positive</td>\n",
              "      <td>POSITIVE</td>\n",
              "    </tr>\n",
              "  </tbody>\n",
              "</table>\n",
              "</div>"
            ],
            "text/plain": [
              "                hotel  rating  \\\n",
              "0  Ace Hotel Brooklyn     5.0   \n",
              "1  Ace Hotel Brooklyn     5.0   \n",
              "2  Ace Hotel Brooklyn     5.0   \n",
              "3  Ace Hotel Brooklyn     5.0   \n",
              "4  Ace Hotel Brooklyn     5.0   \n",
              "5  Ace Hotel Brooklyn     5.0   \n",
              "6  Ace Hotel Brooklyn     5.0   \n",
              "7  Ace Hotel Brooklyn     5.0   \n",
              "8  Ace Hotel Brooklyn     3.0   \n",
              "9  Ace Hotel Brooklyn     5.0   \n",
              "\n",
              "                                                text  sentiment_score  \\\n",
              "0  This hotel is truly amazing, from the building...         0.411738   \n",
              "1  The staff was terrific!. Geneva and Sergio wer...         0.343590   \n",
              "2  Amazing stay for our first evening in Brooklyn...         0.387708   \n",
              "3  What an amazing place! Clean, quiet rooms and ...         0.541667   \n",
              "4  Huge thank you to Darren at the front desk who...         0.245840   \n",
              "5  As a newly former New Yorker, I am now always ...         0.220042   \n",
              "6  Lovely hotel in great location. I was here for...         0.338636   \n",
              "7  Love the Ace Hotel Brooklyn, great spot for br...         0.458333   \n",
              "8  The is another gimmicky NYC hotel with undersi...         0.137000   \n",
              "9  Couldn’t stop singing the praises for my exper...         0.332823   \n",
              "\n",
              "  sentiment_label    accept  \n",
              "0        Positive  POSITIVE  \n",
              "1        Positive  POSITIVE  \n",
              "2        Positive  POSITIVE  \n",
              "3        Positive  POSITIVE  \n",
              "4        Positive  POSITIVE  \n",
              "5        Positive  POSITIVE  \n",
              "6        Positive  POSITIVE  \n",
              "7        Positive  POSITIVE  \n",
              "8        Positive  NEGATIVE  \n",
              "9        Positive  POSITIVE  "
            ]
          },
          "execution_count": 52,
          "metadata": {},
          "output_type": "execute_result"
        }
      ],
      "source": [
        "merged_df = pd.merge(df_tb, df_gpt, on='text')\n",
        "merged_df.head(10)"
      ]
    },
    {
      "cell_type": "code",
      "execution_count": 53,
      "metadata": {
        "id": "zQoggoYBvxQx"
      },
      "outputs": [],
      "source": [
        "merged_df.rename(columns = {'sentiment_label':'TextBlob Label'}, inplace = True)\n",
        "merged_df.rename(columns = {'accept':'GPT Label'}, inplace = True)"
      ]
    },
    {
      "cell_type": "code",
      "execution_count": 54,
      "metadata": {
        "id": "y5Ndumd9xhrr"
      },
      "outputs": [],
      "source": [
        "merged_df.rename(columns = {'sentiment_score':'TextBlob Sentiment Score'}, inplace = True)"
      ]
    },
    {
      "cell_type": "code",
      "execution_count": 55,
      "metadata": {
        "colab": {
          "base_uri": "https://localhost:8080/",
          "height": 363
        },
        "id": "e8uMABs0r9aH",
        "outputId": "8c5b9702-75ae-4f52-bc74-2fe9923e2daf"
      },
      "outputs": [
        {
          "data": {
            "text/html": [
              "<div>\n",
              "<style scoped>\n",
              "    .dataframe tbody tr th:only-of-type {\n",
              "        vertical-align: middle;\n",
              "    }\n",
              "\n",
              "    .dataframe tbody tr th {\n",
              "        vertical-align: top;\n",
              "    }\n",
              "\n",
              "    .dataframe thead th {\n",
              "        text-align: right;\n",
              "    }\n",
              "</style>\n",
              "<table border=\"1\" class=\"dataframe\">\n",
              "  <thead>\n",
              "    <tr style=\"text-align: right;\">\n",
              "      <th></th>\n",
              "      <th>hotel</th>\n",
              "      <th>rating</th>\n",
              "      <th>text</th>\n",
              "      <th>TextBlob Sentiment Score</th>\n",
              "      <th>TextBlob Label</th>\n",
              "      <th>GPT Label</th>\n",
              "    </tr>\n",
              "  </thead>\n",
              "  <tbody>\n",
              "    <tr>\n",
              "      <th>0</th>\n",
              "      <td>Ace Hotel Brooklyn</td>\n",
              "      <td>5.0</td>\n",
              "      <td>This hotel is truly amazing, from the building...</td>\n",
              "      <td>0.411738</td>\n",
              "      <td>Positive</td>\n",
              "      <td>POSITIVE</td>\n",
              "    </tr>\n",
              "    <tr>\n",
              "      <th>1</th>\n",
              "      <td>Ace Hotel Brooklyn</td>\n",
              "      <td>5.0</td>\n",
              "      <td>The staff was terrific!. Geneva and Sergio wer...</td>\n",
              "      <td>0.343590</td>\n",
              "      <td>Positive</td>\n",
              "      <td>POSITIVE</td>\n",
              "    </tr>\n",
              "    <tr>\n",
              "      <th>2</th>\n",
              "      <td>Ace Hotel Brooklyn</td>\n",
              "      <td>5.0</td>\n",
              "      <td>Amazing stay for our first evening in Brooklyn...</td>\n",
              "      <td>0.387708</td>\n",
              "      <td>Positive</td>\n",
              "      <td>POSITIVE</td>\n",
              "    </tr>\n",
              "    <tr>\n",
              "      <th>3</th>\n",
              "      <td>Ace Hotel Brooklyn</td>\n",
              "      <td>5.0</td>\n",
              "      <td>What an amazing place! Clean, quiet rooms and ...</td>\n",
              "      <td>0.541667</td>\n",
              "      <td>Positive</td>\n",
              "      <td>POSITIVE</td>\n",
              "    </tr>\n",
              "    <tr>\n",
              "      <th>4</th>\n",
              "      <td>Ace Hotel Brooklyn</td>\n",
              "      <td>5.0</td>\n",
              "      <td>Huge thank you to Darren at the front desk who...</td>\n",
              "      <td>0.245840</td>\n",
              "      <td>Positive</td>\n",
              "      <td>POSITIVE</td>\n",
              "    </tr>\n",
              "    <tr>\n",
              "      <th>5</th>\n",
              "      <td>Ace Hotel Brooklyn</td>\n",
              "      <td>5.0</td>\n",
              "      <td>As a newly former New Yorker, I am now always ...</td>\n",
              "      <td>0.220042</td>\n",
              "      <td>Positive</td>\n",
              "      <td>POSITIVE</td>\n",
              "    </tr>\n",
              "    <tr>\n",
              "      <th>6</th>\n",
              "      <td>Ace Hotel Brooklyn</td>\n",
              "      <td>5.0</td>\n",
              "      <td>Lovely hotel in great location. I was here for...</td>\n",
              "      <td>0.338636</td>\n",
              "      <td>Positive</td>\n",
              "      <td>POSITIVE</td>\n",
              "    </tr>\n",
              "    <tr>\n",
              "      <th>7</th>\n",
              "      <td>Ace Hotel Brooklyn</td>\n",
              "      <td>5.0</td>\n",
              "      <td>Love the Ace Hotel Brooklyn, great spot for br...</td>\n",
              "      <td>0.458333</td>\n",
              "      <td>Positive</td>\n",
              "      <td>POSITIVE</td>\n",
              "    </tr>\n",
              "    <tr>\n",
              "      <th>8</th>\n",
              "      <td>Ace Hotel Brooklyn</td>\n",
              "      <td>3.0</td>\n",
              "      <td>The is another gimmicky NYC hotel with undersi...</td>\n",
              "      <td>0.137000</td>\n",
              "      <td>Positive</td>\n",
              "      <td>NEGATIVE</td>\n",
              "    </tr>\n",
              "    <tr>\n",
              "      <th>9</th>\n",
              "      <td>Ace Hotel Brooklyn</td>\n",
              "      <td>5.0</td>\n",
              "      <td>Couldn’t stop singing the praises for my exper...</td>\n",
              "      <td>0.332823</td>\n",
              "      <td>Positive</td>\n",
              "      <td>POSITIVE</td>\n",
              "    </tr>\n",
              "  </tbody>\n",
              "</table>\n",
              "</div>"
            ],
            "text/plain": [
              "                hotel  rating  \\\n",
              "0  Ace Hotel Brooklyn     5.0   \n",
              "1  Ace Hotel Brooklyn     5.0   \n",
              "2  Ace Hotel Brooklyn     5.0   \n",
              "3  Ace Hotel Brooklyn     5.0   \n",
              "4  Ace Hotel Brooklyn     5.0   \n",
              "5  Ace Hotel Brooklyn     5.0   \n",
              "6  Ace Hotel Brooklyn     5.0   \n",
              "7  Ace Hotel Brooklyn     5.0   \n",
              "8  Ace Hotel Brooklyn     3.0   \n",
              "9  Ace Hotel Brooklyn     5.0   \n",
              "\n",
              "                                                text  \\\n",
              "0  This hotel is truly amazing, from the building...   \n",
              "1  The staff was terrific!. Geneva and Sergio wer...   \n",
              "2  Amazing stay for our first evening in Brooklyn...   \n",
              "3  What an amazing place! Clean, quiet rooms and ...   \n",
              "4  Huge thank you to Darren at the front desk who...   \n",
              "5  As a newly former New Yorker, I am now always ...   \n",
              "6  Lovely hotel in great location. I was here for...   \n",
              "7  Love the Ace Hotel Brooklyn, great spot for br...   \n",
              "8  The is another gimmicky NYC hotel with undersi...   \n",
              "9  Couldn’t stop singing the praises for my exper...   \n",
              "\n",
              "   TextBlob Sentiment Score TextBlob Label GPT Label  \n",
              "0                  0.411738       Positive  POSITIVE  \n",
              "1                  0.343590       Positive  POSITIVE  \n",
              "2                  0.387708       Positive  POSITIVE  \n",
              "3                  0.541667       Positive  POSITIVE  \n",
              "4                  0.245840       Positive  POSITIVE  \n",
              "5                  0.220042       Positive  POSITIVE  \n",
              "6                  0.338636       Positive  POSITIVE  \n",
              "7                  0.458333       Positive  POSITIVE  \n",
              "8                  0.137000       Positive  NEGATIVE  \n",
              "9                  0.332823       Positive  POSITIVE  "
            ]
          },
          "execution_count": 55,
          "metadata": {},
          "output_type": "execute_result"
        }
      ],
      "source": [
        "merged_df.head(10)"
      ]
    },
    {
      "cell_type": "markdown",
      "metadata": {
        "id": "IPjIRAYYt_TV"
      },
      "source": [
        "here are quite a few instances of conflicting sentence interpretations, almost 16% of the entire dataset is unclear! Which one is wrong though?🤔\n",
        "\n",
        "Intial thoughts: even a .002 sentiment score for the textblob model will assign a sentence as positive when it may not be the case. It seems like gpt is more decisive on difficult sentences but it seems more prone to being confused by **any** negative words in a sentence regardless of the overall meaning..."
      ]
    },
    {
      "cell_type": "markdown",
      "metadata": {
        "id": "RFThdt2FlXhz"
      },
      "source": [
        "Although I have merged the dataframe, some more data cleaning is needed in order to start making comparisons."
      ]
    },
    {
      "cell_type": "code",
      "execution_count": 56,
      "metadata": {
        "colab": {
          "base_uri": "https://localhost:8080/",
          "height": 206
        },
        "id": "c4jTTe9RiX8n",
        "outputId": "97b5d43c-43b4-4ff1-cf4f-83f59ccab9d5"
      },
      "outputs": [
        {
          "data": {
            "text/html": [
              "<div>\n",
              "<style scoped>\n",
              "    .dataframe tbody tr th:only-of-type {\n",
              "        vertical-align: middle;\n",
              "    }\n",
              "\n",
              "    .dataframe tbody tr th {\n",
              "        vertical-align: top;\n",
              "    }\n",
              "\n",
              "    .dataframe thead th {\n",
              "        text-align: right;\n",
              "    }\n",
              "</style>\n",
              "<table border=\"1\" class=\"dataframe\">\n",
              "  <thead>\n",
              "    <tr style=\"text-align: right;\">\n",
              "      <th></th>\n",
              "      <th>hotel</th>\n",
              "      <th>rating</th>\n",
              "      <th>text</th>\n",
              "      <th>TextBlob Sentiment Score</th>\n",
              "      <th>TextBlob Label</th>\n",
              "      <th>GPT Label</th>\n",
              "    </tr>\n",
              "  </thead>\n",
              "  <tbody>\n",
              "    <tr>\n",
              "      <th>0</th>\n",
              "      <td>Ace Hotel Brooklyn</td>\n",
              "      <td>5.0</td>\n",
              "      <td>This hotel is truly amazing, from the building...</td>\n",
              "      <td>0.411738</td>\n",
              "      <td>positive</td>\n",
              "      <td>positive</td>\n",
              "    </tr>\n",
              "    <tr>\n",
              "      <th>1</th>\n",
              "      <td>Ace Hotel Brooklyn</td>\n",
              "      <td>5.0</td>\n",
              "      <td>The staff was terrific!. Geneva and Sergio wer...</td>\n",
              "      <td>0.343590</td>\n",
              "      <td>positive</td>\n",
              "      <td>positive</td>\n",
              "    </tr>\n",
              "    <tr>\n",
              "      <th>2</th>\n",
              "      <td>Ace Hotel Brooklyn</td>\n",
              "      <td>5.0</td>\n",
              "      <td>Amazing stay for our first evening in Brooklyn...</td>\n",
              "      <td>0.387708</td>\n",
              "      <td>positive</td>\n",
              "      <td>positive</td>\n",
              "    </tr>\n",
              "    <tr>\n",
              "      <th>3</th>\n",
              "      <td>Ace Hotel Brooklyn</td>\n",
              "      <td>5.0</td>\n",
              "      <td>What an amazing place! Clean, quiet rooms and ...</td>\n",
              "      <td>0.541667</td>\n",
              "      <td>positive</td>\n",
              "      <td>positive</td>\n",
              "    </tr>\n",
              "    <tr>\n",
              "      <th>4</th>\n",
              "      <td>Ace Hotel Brooklyn</td>\n",
              "      <td>5.0</td>\n",
              "      <td>Huge thank you to Darren at the front desk who...</td>\n",
              "      <td>0.245840</td>\n",
              "      <td>positive</td>\n",
              "      <td>positive</td>\n",
              "    </tr>\n",
              "  </tbody>\n",
              "</table>\n",
              "</div>"
            ],
            "text/plain": [
              "                hotel  rating  \\\n",
              "0  Ace Hotel Brooklyn     5.0   \n",
              "1  Ace Hotel Brooklyn     5.0   \n",
              "2  Ace Hotel Brooklyn     5.0   \n",
              "3  Ace Hotel Brooklyn     5.0   \n",
              "4  Ace Hotel Brooklyn     5.0   \n",
              "\n",
              "                                                text  \\\n",
              "0  This hotel is truly amazing, from the building...   \n",
              "1  The staff was terrific!. Geneva and Sergio wer...   \n",
              "2  Amazing stay for our first evening in Brooklyn...   \n",
              "3  What an amazing place! Clean, quiet rooms and ...   \n",
              "4  Huge thank you to Darren at the front desk who...   \n",
              "\n",
              "   TextBlob Sentiment Score TextBlob Label GPT Label  \n",
              "0                  0.411738       positive  positive  \n",
              "1                  0.343590       positive  positive  \n",
              "2                  0.387708       positive  positive  \n",
              "3                  0.541667       positive  positive  \n",
              "4                  0.245840       positive  positive  "
            ]
          },
          "execution_count": 56,
          "metadata": {},
          "output_type": "execute_result"
        }
      ],
      "source": [
        "#Lowercased all values in gpt labeling and remapped the 'None' value to 'neutral' in order to compare results\n",
        "merged_subset = merged_df[['hotel','rating','text','TextBlob Sentiment Score','TextBlob Label','GPT Label']]\n",
        "merged_subset['GPT Label'] = merged_subset['GPT Label'].str.lower()\n",
        "merged_subset['TextBlob Label'] = merged_subset['TextBlob Label'].str.lower()\n",
        "merged_subset['GPT Label'] = merged_subset['GPT Label'].replace({None: 'neutral'})\n",
        "merged_subset.head(5)"
      ]
    },
    {
      "cell_type": "markdown",
      "metadata": {
        "id": "zikXnBZ8sbBF"
      },
      "source": [
        "There are 1,091 observations where the TextBlob and GPT labeling had different opinions."
      ]
    },
    {
      "cell_type": "code",
      "execution_count": 57,
      "metadata": {
        "colab": {
          "base_uri": "https://localhost:8080/",
          "height": 380
        },
        "id": "gFh1gfygsZKn",
        "outputId": "6efc9a05-537c-40d1-d058-cc74072c6fa8"
      },
      "outputs": [
        {
          "name": "stdout",
          "output_type": "stream",
          "text": [
            "(1091, 6)\n"
          ]
        },
        {
          "data": {
            "text/html": [
              "<div>\n",
              "<style scoped>\n",
              "    .dataframe tbody tr th:only-of-type {\n",
              "        vertical-align: middle;\n",
              "    }\n",
              "\n",
              "    .dataframe tbody tr th {\n",
              "        vertical-align: top;\n",
              "    }\n",
              "\n",
              "    .dataframe thead th {\n",
              "        text-align: right;\n",
              "    }\n",
              "</style>\n",
              "<table border=\"1\" class=\"dataframe\">\n",
              "  <thead>\n",
              "    <tr style=\"text-align: right;\">\n",
              "      <th></th>\n",
              "      <th>hotel</th>\n",
              "      <th>rating</th>\n",
              "      <th>text</th>\n",
              "      <th>TextBlob Sentiment Score</th>\n",
              "      <th>TextBlob Label</th>\n",
              "      <th>GPT Label</th>\n",
              "    </tr>\n",
              "  </thead>\n",
              "  <tbody>\n",
              "    <tr>\n",
              "      <th>8</th>\n",
              "      <td>Ace Hotel Brooklyn</td>\n",
              "      <td>3.0</td>\n",
              "      <td>The is another gimmicky NYC hotel with undersi...</td>\n",
              "      <td>0.137000</td>\n",
              "      <td>positive</td>\n",
              "      <td>negative</td>\n",
              "    </tr>\n",
              "    <tr>\n",
              "      <th>12</th>\n",
              "      <td>Ace Hotel Brooklyn</td>\n",
              "      <td>3.0</td>\n",
              "      <td>First the good, room is nice and spacious for ...</td>\n",
              "      <td>0.190911</td>\n",
              "      <td>positive</td>\n",
              "      <td>negative</td>\n",
              "    </tr>\n",
              "    <tr>\n",
              "      <th>15</th>\n",
              "      <td>Ace Hotel Brooklyn</td>\n",
              "      <td>1.0</td>\n",
              "      <td>When we checked in, the room's toilet didn't f...</td>\n",
              "      <td>0.065645</td>\n",
              "      <td>positive</td>\n",
              "      <td>negative</td>\n",
              "    </tr>\n",
              "    <tr>\n",
              "      <th>28</th>\n",
              "      <td>Ace Hotel Brooklyn</td>\n",
              "      <td>1.0</td>\n",
              "      <td>I would avoid this place.  The staff is pompou...</td>\n",
              "      <td>0.051515</td>\n",
              "      <td>positive</td>\n",
              "      <td>negative</td>\n",
              "    </tr>\n",
              "    <tr>\n",
              "      <th>39</th>\n",
              "      <td>Ace Hotel Brooklyn</td>\n",
              "      <td>3.0</td>\n",
              "      <td>Oh forgot to mention the shower issue - you ha...</td>\n",
              "      <td>0.475000</td>\n",
              "      <td>positive</td>\n",
              "      <td>negative</td>\n",
              "    </tr>\n",
              "    <tr>\n",
              "      <th>44</th>\n",
              "      <td>Ace Hotel Brooklyn</td>\n",
              "      <td>4.0</td>\n",
              "      <td>$ No coffee in room ! But staff was excellent ...</td>\n",
              "      <td>0.850000</td>\n",
              "      <td>positive</td>\n",
              "      <td>negative</td>\n",
              "    </tr>\n",
              "    <tr>\n",
              "      <th>47</th>\n",
              "      <td>Ace Hotel Brooklyn</td>\n",
              "      <td>5.0</td>\n",
              "      <td>Very convenient location .friendly staff.  Sma...</td>\n",
              "      <td>-0.025000</td>\n",
              "      <td>negative</td>\n",
              "      <td>positive</td>\n",
              "    </tr>\n",
              "    <tr>\n",
              "      <th>65</th>\n",
              "      <td>Ace Hotel Brooklyn</td>\n",
              "      <td>5.0</td>\n",
              "      <td>Lit</td>\n",
              "      <td>0.000000</td>\n",
              "      <td>neutral</td>\n",
              "      <td>positive</td>\n",
              "    </tr>\n",
              "    <tr>\n",
              "      <th>66</th>\n",
              "      <td>Ace Hotel Brooklyn</td>\n",
              "      <td>5.0</td>\n",
              "      <td>Five star treatment</td>\n",
              "      <td>0.000000</td>\n",
              "      <td>neutral</td>\n",
              "      <td>positive</td>\n",
              "    </tr>\n",
              "    <tr>\n",
              "      <th>69</th>\n",
              "      <td>Ace Hotel Brooklyn</td>\n",
              "      <td>5.0</td>\n",
              "      <td>𝘎𝘳𝘦𝘢𝘵 𝘭𝘰𝘤𝘢𝘵𝘪𝘰𝘯, 𝘣𝘦𝘢𝘶𝘵𝘪𝘧𝘶𝘭 𝘥𝘦𝘤𝘰𝘳.</td>\n",
              "      <td>0.000000</td>\n",
              "      <td>neutral</td>\n",
              "      <td>negative</td>\n",
              "    </tr>\n",
              "  </tbody>\n",
              "</table>\n",
              "</div>"
            ],
            "text/plain": [
              "                 hotel  rating  \\\n",
              "8   Ace Hotel Brooklyn     3.0   \n",
              "12  Ace Hotel Brooklyn     3.0   \n",
              "15  Ace Hotel Brooklyn     1.0   \n",
              "28  Ace Hotel Brooklyn     1.0   \n",
              "39  Ace Hotel Brooklyn     3.0   \n",
              "44  Ace Hotel Brooklyn     4.0   \n",
              "47  Ace Hotel Brooklyn     5.0   \n",
              "65  Ace Hotel Brooklyn     5.0   \n",
              "66  Ace Hotel Brooklyn     5.0   \n",
              "69  Ace Hotel Brooklyn     5.0   \n",
              "\n",
              "                                                 text  \\\n",
              "8   The is another gimmicky NYC hotel with undersi...   \n",
              "12  First the good, room is nice and spacious for ...   \n",
              "15  When we checked in, the room's toilet didn't f...   \n",
              "28  I would avoid this place.  The staff is pompou...   \n",
              "39  Oh forgot to mention the shower issue - you ha...   \n",
              "44  $ No coffee in room ! But staff was excellent ...   \n",
              "47  Very convenient location .friendly staff.  Sma...   \n",
              "65                                                Lit   \n",
              "66                                Five star treatment   \n",
              "69                   𝘎𝘳𝘦𝘢𝘵 𝘭𝘰𝘤𝘢𝘵𝘪𝘰𝘯, 𝘣𝘦𝘢𝘶𝘵𝘪𝘧𝘶𝘭 𝘥𝘦𝘤𝘰𝘳.   \n",
              "\n",
              "    TextBlob Sentiment Score TextBlob Label GPT Label  \n",
              "8                   0.137000       positive  negative  \n",
              "12                  0.190911       positive  negative  \n",
              "15                  0.065645       positive  negative  \n",
              "28                  0.051515       positive  negative  \n",
              "39                  0.475000       positive  negative  \n",
              "44                  0.850000       positive  negative  \n",
              "47                 -0.025000       negative  positive  \n",
              "65                  0.000000        neutral  positive  \n",
              "66                  0.000000        neutral  positive  \n",
              "69                  0.000000        neutral  negative  "
            ]
          },
          "execution_count": 57,
          "metadata": {},
          "output_type": "execute_result"
        }
      ],
      "source": [
        "BLOBvGPT = merged_subset[(merged_subset['TextBlob Label']!= merged_subset['GPT Label'])]\n",
        "print(BLOBvGPT.shape)\n",
        "BLOBvGPT.head(10)"
      ]
    },
    {
      "cell_type": "markdown",
      "metadata": {
        "id": "flsGrVyvmgiA"
      },
      "source": [
        "Bar chart to showcase the difference in positive, negative, and neutral labels for TextBlob and GPT"
      ]
    },
    {
      "cell_type": "code",
      "execution_count": 58,
      "metadata": {
        "colab": {
          "base_uri": "https://localhost:8080/"
        },
        "id": "eDAaxtvs0dUY",
        "outputId": "43653096-11f4-4dc3-e011-ae5f9debe897"
      },
      "outputs": [
        {
          "data": {
            "text/plain": [
              "(      Label  Count\n",
              " 0  positive   5902\n",
              " 1  negative    386\n",
              " 2   neutral    369,\n",
              "       Label  Count\n",
              " 0  positive   5534\n",
              " 1  negative   1021\n",
              " 2   neutral    102)"
            ]
          },
          "execution_count": 58,
          "metadata": {},
          "output_type": "execute_result"
        }
      ],
      "source": [
        "# For TextBlob labeled\n",
        "textblob_counts = merged_subset['TextBlob Label'].value_counts().reset_index()\n",
        "textblob_counts.columns = ['Label', 'Count']\n",
        "\n",
        "# For GPT labeled\n",
        "gpt_counts = merged_subset['GPT Label'].value_counts().reset_index()\n",
        "gpt_counts.columns = ['Label', 'Count']\n",
        "\n",
        "textblob_counts, gpt_counts\n"
      ]
    },
    {
      "cell_type": "code",
      "execution_count": 85,
      "metadata": {
        "id": "cYsWRU6iz1Ud"
      },
      "outputs": [],
      "source": [
        "textblob_chart = alt.Chart(textblob_counts).mark_bar().encode(\n",
        "    x=alt.X('Label:N', axis=alt.Axis(labelAngle=0)),  # Correctly set labelAngle here\n",
        "    y='Count:Q',  # Specify the quantitative nature of 'Count' explicitly\n",
        "    tooltip=['Label', 'Count']\n",
        ").properties(\n",
        "    width=600,  # Adjust the width of the chart\n",
        "    height=400,  # Adjust the height of the chart\n",
        "    title='TextBlob Classification Distribution'\n",
        ")"
      ]
    },
    {
      "cell_type": "code",
      "execution_count": 87,
      "metadata": {},
      "outputs": [
        {
          "data": {
            "text/html": [
              "\n",
              "<style>\n",
              "  #altair-viz-944ec49f4e484b34a34199b75e060bb6.vega-embed {\n",
              "    width: 100%;\n",
              "    display: flex;\n",
              "  }\n",
              "\n",
              "  #altair-viz-944ec49f4e484b34a34199b75e060bb6.vega-embed details,\n",
              "  #altair-viz-944ec49f4e484b34a34199b75e060bb6.vega-embed details summary {\n",
              "    position: relative;\n",
              "  }\n",
              "</style>\n",
              "<div id=\"altair-viz-944ec49f4e484b34a34199b75e060bb6\"></div>\n",
              "<script type=\"text/javascript\">\n",
              "  var VEGA_DEBUG = (typeof VEGA_DEBUG == \"undefined\") ? {} : VEGA_DEBUG;\n",
              "  (function(spec, embedOpt){\n",
              "    let outputDiv = document.currentScript.previousElementSibling;\n",
              "    if (outputDiv.id !== \"altair-viz-944ec49f4e484b34a34199b75e060bb6\") {\n",
              "      outputDiv = document.getElementById(\"altair-viz-944ec49f4e484b34a34199b75e060bb6\");\n",
              "    }\n",
              "    const paths = {\n",
              "      \"vega\": \"https://cdn.jsdelivr.net/npm/vega@5?noext\",\n",
              "      \"vega-lib\": \"https://cdn.jsdelivr.net/npm/vega-lib?noext\",\n",
              "      \"vega-lite\": \"https://cdn.jsdelivr.net/npm/vega-lite@5.16.3?noext\",\n",
              "      \"vega-embed\": \"https://cdn.jsdelivr.net/npm/vega-embed@6?noext\",\n",
              "    };\n",
              "\n",
              "    function maybeLoadScript(lib, version) {\n",
              "      var key = `${lib.replace(\"-\", \"\")}_version`;\n",
              "      return (VEGA_DEBUG[key] == version) ?\n",
              "        Promise.resolve(paths[lib]) :\n",
              "        new Promise(function(resolve, reject) {\n",
              "          var s = document.createElement('script');\n",
              "          document.getElementsByTagName(\"head\")[0].appendChild(s);\n",
              "          s.async = true;\n",
              "          s.onload = () => {\n",
              "            VEGA_DEBUG[key] = version;\n",
              "            return resolve(paths[lib]);\n",
              "          };\n",
              "          s.onerror = () => reject(`Error loading script: ${paths[lib]}`);\n",
              "          s.src = paths[lib];\n",
              "        });\n",
              "    }\n",
              "\n",
              "    function showError(err) {\n",
              "      outputDiv.innerHTML = `<div class=\"error\" style=\"color:red;\">${err}</div>`;\n",
              "      throw err;\n",
              "    }\n",
              "\n",
              "    function displayChart(vegaEmbed) {\n",
              "      vegaEmbed(outputDiv, spec, embedOpt)\n",
              "        .catch(err => showError(`Javascript Error: ${err.message}<br>This usually means there's a typo in your chart specification. See the javascript console for the full traceback.`));\n",
              "    }\n",
              "\n",
              "    if(typeof define === \"function\" && define.amd) {\n",
              "      requirejs.config({paths});\n",
              "      require([\"vega-embed\"], displayChart, err => showError(`Error loading script: ${err.message}`));\n",
              "    } else {\n",
              "      maybeLoadScript(\"vega\", \"5\")\n",
              "        .then(() => maybeLoadScript(\"vega-lite\", \"5.16.3\"))\n",
              "        .then(() => maybeLoadScript(\"vega-embed\", \"6\"))\n",
              "        .catch(showError)\n",
              "        .then(() => displayChart(vegaEmbed));\n",
              "    }\n",
              "  })({\"config\": {\"view\": {\"continuousWidth\": 300, \"continuousHeight\": 300}}, \"data\": {\"name\": \"data-780ac6cb09077d5898489c143dfee460\"}, \"mark\": {\"type\": \"bar\"}, \"encoding\": {\"tooltip\": [{\"field\": \"Label\", \"type\": \"nominal\"}, {\"field\": \"Count\", \"type\": \"quantitative\"}], \"x\": {\"axis\": {\"labelAngle\": 0}, \"field\": \"Label\", \"type\": \"nominal\"}, \"y\": {\"field\": \"Count\", \"type\": \"quantitative\"}}, \"height\": 400, \"title\": \"TextBlob Classification Distribution\", \"width\": 600, \"$schema\": \"https://vega.github.io/schema/vega-lite/v5.16.3.json\", \"datasets\": {\"data-780ac6cb09077d5898489c143dfee460\": [{\"Label\": \"positive\", \"Count\": 5902}, {\"Label\": \"negative\", \"Count\": 386}, {\"Label\": \"neutral\", \"Count\": 369}]}}, {\"mode\": \"vega-lite\"});\n",
              "</script>"
            ],
            "text/plain": [
              "alt.Chart(...)"
            ]
          },
          "execution_count": 87,
          "metadata": {},
          "output_type": "execute_result"
        }
      ],
      "source": [
        "textblob_chart"
      ]
    },
    {
      "cell_type": "code",
      "execution_count": 84,
      "metadata": {
        "id": "dBx5q8q54eKk"
      },
      "outputs": [],
      "source": [
        "gpt_chart = alt.Chart(gpt_counts).mark_bar().encode(\n",
        "    x=alt.X('Label:N', axis=alt.Axis(labelAngle=0)),  # Correctly set labelAngle here\n",
        "    y='Count:Q',  # Specify the quantitative nature of 'Count' explicitly\n",
        "    tooltip=['Label', 'Count']\n",
        ").properties(\n",
        "    width=600,  # Adjust the width of the chart\n",
        "    height=400,  # Adjust the height of the chart\n",
        "    title='GPT-3.5 Turbo Classification Distribution'\n",
        ")"
      ]
    },
    {
      "cell_type": "code",
      "execution_count": 88,
      "metadata": {},
      "outputs": [
        {
          "data": {
            "text/html": [
              "\n",
              "<style>\n",
              "  #altair-viz-087b98280a2b451a8caf7e6f429599cf.vega-embed {\n",
              "    width: 100%;\n",
              "    display: flex;\n",
              "  }\n",
              "\n",
              "  #altair-viz-087b98280a2b451a8caf7e6f429599cf.vega-embed details,\n",
              "  #altair-viz-087b98280a2b451a8caf7e6f429599cf.vega-embed details summary {\n",
              "    position: relative;\n",
              "  }\n",
              "</style>\n",
              "<div id=\"altair-viz-087b98280a2b451a8caf7e6f429599cf\"></div>\n",
              "<script type=\"text/javascript\">\n",
              "  var VEGA_DEBUG = (typeof VEGA_DEBUG == \"undefined\") ? {} : VEGA_DEBUG;\n",
              "  (function(spec, embedOpt){\n",
              "    let outputDiv = document.currentScript.previousElementSibling;\n",
              "    if (outputDiv.id !== \"altair-viz-087b98280a2b451a8caf7e6f429599cf\") {\n",
              "      outputDiv = document.getElementById(\"altair-viz-087b98280a2b451a8caf7e6f429599cf\");\n",
              "    }\n",
              "    const paths = {\n",
              "      \"vega\": \"https://cdn.jsdelivr.net/npm/vega@5?noext\",\n",
              "      \"vega-lib\": \"https://cdn.jsdelivr.net/npm/vega-lib?noext\",\n",
              "      \"vega-lite\": \"https://cdn.jsdelivr.net/npm/vega-lite@5.16.3?noext\",\n",
              "      \"vega-embed\": \"https://cdn.jsdelivr.net/npm/vega-embed@6?noext\",\n",
              "    };\n",
              "\n",
              "    function maybeLoadScript(lib, version) {\n",
              "      var key = `${lib.replace(\"-\", \"\")}_version`;\n",
              "      return (VEGA_DEBUG[key] == version) ?\n",
              "        Promise.resolve(paths[lib]) :\n",
              "        new Promise(function(resolve, reject) {\n",
              "          var s = document.createElement('script');\n",
              "          document.getElementsByTagName(\"head\")[0].appendChild(s);\n",
              "          s.async = true;\n",
              "          s.onload = () => {\n",
              "            VEGA_DEBUG[key] = version;\n",
              "            return resolve(paths[lib]);\n",
              "          };\n",
              "          s.onerror = () => reject(`Error loading script: ${paths[lib]}`);\n",
              "          s.src = paths[lib];\n",
              "        });\n",
              "    }\n",
              "\n",
              "    function showError(err) {\n",
              "      outputDiv.innerHTML = `<div class=\"error\" style=\"color:red;\">${err}</div>`;\n",
              "      throw err;\n",
              "    }\n",
              "\n",
              "    function displayChart(vegaEmbed) {\n",
              "      vegaEmbed(outputDiv, spec, embedOpt)\n",
              "        .catch(err => showError(`Javascript Error: ${err.message}<br>This usually means there's a typo in your chart specification. See the javascript console for the full traceback.`));\n",
              "    }\n",
              "\n",
              "    if(typeof define === \"function\" && define.amd) {\n",
              "      requirejs.config({paths});\n",
              "      require([\"vega-embed\"], displayChart, err => showError(`Error loading script: ${err.message}`));\n",
              "    } else {\n",
              "      maybeLoadScript(\"vega\", \"5\")\n",
              "        .then(() => maybeLoadScript(\"vega-lite\", \"5.16.3\"))\n",
              "        .then(() => maybeLoadScript(\"vega-embed\", \"6\"))\n",
              "        .catch(showError)\n",
              "        .then(() => displayChart(vegaEmbed));\n",
              "    }\n",
              "  })({\"config\": {\"view\": {\"continuousWidth\": 300, \"continuousHeight\": 300}}, \"data\": {\"name\": \"data-1b26fcb2ce2229cb13138c1c93105812\"}, \"mark\": {\"type\": \"bar\"}, \"encoding\": {\"tooltip\": [{\"field\": \"Label\", \"type\": \"nominal\"}, {\"field\": \"Count\", \"type\": \"quantitative\"}], \"x\": {\"axis\": {\"labelAngle\": 0}, \"field\": \"Label\", \"type\": \"nominal\"}, \"y\": {\"field\": \"Count\", \"type\": \"quantitative\"}}, \"height\": 400, \"title\": \"GPT-3.5 Turbo Classification Distribution\", \"width\": 600, \"$schema\": \"https://vega.github.io/schema/vega-lite/v5.16.3.json\", \"datasets\": {\"data-1b26fcb2ce2229cb13138c1c93105812\": [{\"Label\": \"positive\", \"Count\": 5534}, {\"Label\": \"negative\", \"Count\": 1021}, {\"Label\": \"neutral\", \"Count\": 102}]}}, {\"mode\": \"vega-lite\"});\n",
              "</script>"
            ],
            "text/plain": [
              "alt.Chart(...)"
            ]
          },
          "execution_count": 88,
          "metadata": {},
          "output_type": "execute_result"
        }
      ],
      "source": [
        "gpt_chart"
      ]
    },
    {
      "cell_type": "markdown",
      "metadata": {},
      "source": [
        "ALtair Chart has some issues with being loaded in, creating a a secondary bar chart "
      ]
    },
    {
      "cell_type": "code",
      "execution_count": 86,
      "metadata": {
        "colab": {
          "base_uri": "https://localhost:8080/",
          "height": 507
        },
        "id": "0np2gaxd4x0g",
        "outputId": "413d71de-f602-413a-a90c-5b6b23fb7bc0"
      },
      "outputs": [
        {
          "data": {
            "text/html": [
              "\n",
              "<style>\n",
              "  #altair-viz-c8937c96732b4f408d3032dada33348b.vega-embed {\n",
              "    width: 100%;\n",
              "    display: flex;\n",
              "  }\n",
              "\n",
              "  #altair-viz-c8937c96732b4f408d3032dada33348b.vega-embed details,\n",
              "  #altair-viz-c8937c96732b4f408d3032dada33348b.vega-embed details summary {\n",
              "    position: relative;\n",
              "  }\n",
              "</style>\n",
              "<div id=\"altair-viz-c8937c96732b4f408d3032dada33348b\"></div>\n",
              "<script type=\"text/javascript\">\n",
              "  var VEGA_DEBUG = (typeof VEGA_DEBUG == \"undefined\") ? {} : VEGA_DEBUG;\n",
              "  (function(spec, embedOpt){\n",
              "    let outputDiv = document.currentScript.previousElementSibling;\n",
              "    if (outputDiv.id !== \"altair-viz-c8937c96732b4f408d3032dada33348b\") {\n",
              "      outputDiv = document.getElementById(\"altair-viz-c8937c96732b4f408d3032dada33348b\");\n",
              "    }\n",
              "    const paths = {\n",
              "      \"vega\": \"https://cdn.jsdelivr.net/npm/vega@5?noext\",\n",
              "      \"vega-lib\": \"https://cdn.jsdelivr.net/npm/vega-lib?noext\",\n",
              "      \"vega-lite\": \"https://cdn.jsdelivr.net/npm/vega-lite@5.16.3?noext\",\n",
              "      \"vega-embed\": \"https://cdn.jsdelivr.net/npm/vega-embed@6?noext\",\n",
              "    };\n",
              "\n",
              "    function maybeLoadScript(lib, version) {\n",
              "      var key = `${lib.replace(\"-\", \"\")}_version`;\n",
              "      return (VEGA_DEBUG[key] == version) ?\n",
              "        Promise.resolve(paths[lib]) :\n",
              "        new Promise(function(resolve, reject) {\n",
              "          var s = document.createElement('script');\n",
              "          document.getElementsByTagName(\"head\")[0].appendChild(s);\n",
              "          s.async = true;\n",
              "          s.onload = () => {\n",
              "            VEGA_DEBUG[key] = version;\n",
              "            return resolve(paths[lib]);\n",
              "          };\n",
              "          s.onerror = () => reject(`Error loading script: ${paths[lib]}`);\n",
              "          s.src = paths[lib];\n",
              "        });\n",
              "    }\n",
              "\n",
              "    function showError(err) {\n",
              "      outputDiv.innerHTML = `<div class=\"error\" style=\"color:red;\">${err}</div>`;\n",
              "      throw err;\n",
              "    }\n",
              "\n",
              "    function displayChart(vegaEmbed) {\n",
              "      vegaEmbed(outputDiv, spec, embedOpt)\n",
              "        .catch(err => showError(`Javascript Error: ${err.message}<br>This usually means there's a typo in your chart specification. See the javascript console for the full traceback.`));\n",
              "    }\n",
              "\n",
              "    if(typeof define === \"function\" && define.amd) {\n",
              "      requirejs.config({paths});\n",
              "      require([\"vega-embed\"], displayChart, err => showError(`Error loading script: ${err.message}`));\n",
              "    } else {\n",
              "      maybeLoadScript(\"vega\", \"5\")\n",
              "        .then(() => maybeLoadScript(\"vega-lite\", \"5.16.3\"))\n",
              "        .then(() => maybeLoadScript(\"vega-embed\", \"6\"))\n",
              "        .catch(showError)\n",
              "        .then(() => displayChart(vegaEmbed));\n",
              "    }\n",
              "  })({\"config\": {\"view\": {\"continuousWidth\": 300, \"continuousHeight\": 300}}, \"hconcat\": [{\"data\": {\"name\": \"data-780ac6cb09077d5898489c143dfee460\"}, \"mark\": {\"type\": \"bar\"}, \"encoding\": {\"tooltip\": [{\"field\": \"Label\", \"type\": \"nominal\"}, {\"field\": \"Count\", \"type\": \"quantitative\"}], \"x\": {\"axis\": {\"labelAngle\": 0}, \"field\": \"Label\", \"type\": \"nominal\"}, \"y\": {\"field\": \"Count\", \"type\": \"quantitative\"}}, \"height\": 400, \"title\": \"TextBlob Classification Distribution\", \"width\": 600}, {\"data\": {\"name\": \"data-1b26fcb2ce2229cb13138c1c93105812\"}, \"mark\": {\"type\": \"bar\"}, \"encoding\": {\"tooltip\": [{\"field\": \"Label\", \"type\": \"nominal\"}, {\"field\": \"Count\", \"type\": \"quantitative\"}], \"x\": {\"axis\": {\"labelAngle\": 0}, \"field\": \"Label\", \"type\": \"nominal\"}, \"y\": {\"field\": \"Count\", \"type\": \"quantitative\"}}, \"height\": 400, \"title\": \"GPT-3.5 Turbo Classification Distribution\", \"width\": 600}], \"$schema\": \"https://vega.github.io/schema/vega-lite/v5.16.3.json\", \"datasets\": {\"data-780ac6cb09077d5898489c143dfee460\": [{\"Label\": \"positive\", \"Count\": 5902}, {\"Label\": \"negative\", \"Count\": 386}, {\"Label\": \"neutral\", \"Count\": 369}], \"data-1b26fcb2ce2229cb13138c1c93105812\": [{\"Label\": \"positive\", \"Count\": 5534}, {\"Label\": \"negative\", \"Count\": 1021}, {\"Label\": \"neutral\", \"Count\": 102}]}}, {\"mode\": \"vega-lite\"});\n",
              "</script>"
            ],
            "text/plain": [
              "alt.HConcatChart(...)"
            ]
          },
          "execution_count": 86,
          "metadata": {},
          "output_type": "execute_result"
        }
      ],
      "source": [
        "combined_chart = alt.hconcat(textblob_chart, gpt_chart)\n",
        "\n",
        "# Display the combined chart\n",
        "combined_chart"
      ]
    },
    {
      "cell_type": "code",
      "execution_count": 94,
      "metadata": {},
      "outputs": [
        {
          "data": {
            "text/plain": [
              "Text(0, 0.5, 'Count')"
            ]
          },
          "execution_count": 94,
          "metadata": {},
          "output_type": "execute_result"
        },
        {
          "data": {
            "image/png": "[encoded data removed]",
            "text/plain": [
              "<Figure size 1600x600 with 2 Axes>"
            ]
          },
          "metadata": {},
          "output_type": "display_data"
        }
      ],
      "source": [
        "fig, axes = plt.subplots(1, 2, figsize=(16, 6))  # 1 row, 2 column\n",
        "\n",
        "sns.barplot(ax=axes[0], data=textblob_counts, x='Label', y='Count')\n",
        "axes[0].set_title('TextBlob Classification Distribution')\n",
        "axes[0].set_xlabel('Label')\n",
        "axes[0].set_ylabel('Count')\n",
        "\n",
        "sns.barplot(ax=axes[1], data=gpt_counts, x='Label', y='Count')\n",
        "axes[1].set_title('GPT Classification Distribution')\n",
        "axes[1].set_xlabel('Label')\n",
        "axes[1].set_ylabel('Count')\n"
      ]
    },
    {
      "cell_type": "markdown",
      "metadata": {
        "id": "MvZNmAnd8Uqh"
      },
      "source": [
        "To measure which text classification method is better, I decided to insert some human interpretation into the testing. For the first 500 hotel reviews, I read through and labeled each entire observation as positive, negative, or neutral. The guide for my annotations will be included with this file."
      ]
    },
    {
      "cell_type": "markdown",
      "metadata": {
        "id": "uoYRg9gv5kc9"
      },
      "source": [
        "I performed the labeling through Prodigy's ner.manual recipe."
      ]
    },
    {
      "cell_type": "code",
      "execution_count": 63,
      "metadata": {
        "colab": {
          "base_uri": "https://localhost:8080/",
          "height": 536
        },
        "id": "VTzOhchLdT5g",
        "outputId": "f97abce4-062d-41c9-d9ec-6b13ddf15f44"
      },
      "outputs": [
        {
          "data": {
            "text/html": [
              "<div>\n",
              "<style scoped>\n",
              "    .dataframe tbody tr th:only-of-type {\n",
              "        vertical-align: middle;\n",
              "    }\n",
              "\n",
              "    .dataframe tbody tr th {\n",
              "        vertical-align: top;\n",
              "    }\n",
              "\n",
              "    .dataframe thead th {\n",
              "        text-align: right;\n",
              "    }\n",
              "</style>\n",
              "<table border=\"1\" class=\"dataframe\">\n",
              "  <thead>\n",
              "    <tr style=\"text-align: right;\">\n",
              "      <th></th>\n",
              "      <th>text</th>\n",
              "      <th>_input_hash</th>\n",
              "      <th>_task_hash</th>\n",
              "      <th>_is_binary</th>\n",
              "      <th>tokens</th>\n",
              "      <th>_view_id</th>\n",
              "      <th>spans</th>\n",
              "      <th>answer</th>\n",
              "      <th>_timestamp</th>\n",
              "      <th>_annotator_id</th>\n",
              "      <th>_session_id</th>\n",
              "    </tr>\n",
              "  </thead>\n",
              "  <tbody>\n",
              "    <tr>\n",
              "      <th>0</th>\n",
              "      <td>This hotel is truly amazing, from the building...</td>\n",
              "      <td>1344630365</td>\n",
              "      <td>-1649013736</td>\n",
              "      <td>False</td>\n",
              "      <td>[{'text': 'This', 'start': 0, 'end': 4, 'id': ...</td>\n",
              "      <td>ner_manual</td>\n",
              "      <td>[{'start': 0, 'end': 1565, 'token_start': 0, '...</td>\n",
              "      <td>accept</td>\n",
              "      <td>1708015519</td>\n",
              "      <td>2024-02-15_11-19-01</td>\n",
              "      <td>2024-02-15_11-19-01</td>\n",
              "    </tr>\n",
              "    <tr>\n",
              "      <th>1</th>\n",
              "      <td>The staff was terrific!. Geneva and Sergio wer...</td>\n",
              "      <td>534808085</td>\n",
              "      <td>-1127637961</td>\n",
              "      <td>False</td>\n",
              "      <td>[{'text': 'The', 'start': 0, 'end': 3, 'id': 0...</td>\n",
              "      <td>ner_manual</td>\n",
              "      <td>[{'start': 0, 'end': 422, 'token_start': 0, 't...</td>\n",
              "      <td>accept</td>\n",
              "      <td>1708015531</td>\n",
              "      <td>2024-02-15_11-19-01</td>\n",
              "      <td>2024-02-15_11-19-01</td>\n",
              "    </tr>\n",
              "    <tr>\n",
              "      <th>2</th>\n",
              "      <td>Amazing stay for our first evening in Brooklyn...</td>\n",
              "      <td>422006770</td>\n",
              "      <td>1373478981</td>\n",
              "      <td>False</td>\n",
              "      <td>[{'text': 'Amazing', 'start': 0, 'end': 7, 'id...</td>\n",
              "      <td>ner_manual</td>\n",
              "      <td>[{'start': 0, 'end': 462, 'token_start': 0, 't...</td>\n",
              "      <td>accept</td>\n",
              "      <td>1708015536</td>\n",
              "      <td>2024-02-15_11-19-01</td>\n",
              "      <td>2024-02-15_11-19-01</td>\n",
              "    </tr>\n",
              "    <tr>\n",
              "      <th>3</th>\n",
              "      <td>What an amazing place! Clean, quiet rooms and ...</td>\n",
              "      <td>913662917</td>\n",
              "      <td>873784749</td>\n",
              "      <td>False</td>\n",
              "      <td>[{'text': 'What', 'start': 0, 'end': 4, 'id': ...</td>\n",
              "      <td>ner_manual</td>\n",
              "      <td>[{'start': 0, 'end': 286, 'token_start': 0, 't...</td>\n",
              "      <td>accept</td>\n",
              "      <td>1708015541</td>\n",
              "      <td>2024-02-15_11-19-01</td>\n",
              "      <td>2024-02-15_11-19-01</td>\n",
              "    </tr>\n",
              "    <tr>\n",
              "      <th>4</th>\n",
              "      <td>Huge thank you to Darren at the front desk who...</td>\n",
              "      <td>1580355780</td>\n",
              "      <td>857685181</td>\n",
              "      <td>False</td>\n",
              "      <td>[{'text': 'Huge', 'start': 0, 'end': 4, 'id': ...</td>\n",
              "      <td>ner_manual</td>\n",
              "      <td>[]</td>\n",
              "      <td>accept</td>\n",
              "      <td>1708015558</td>\n",
              "      <td>2024-02-15_11-19-01</td>\n",
              "      <td>2024-02-15_11-19-01</td>\n",
              "    </tr>\n",
              "    <tr>\n",
              "      <th>5</th>\n",
              "      <td>As a newly former New Yorker, I am now always ...</td>\n",
              "      <td>-1340859968</td>\n",
              "      <td>-2017473298</td>\n",
              "      <td>False</td>\n",
              "      <td>[{'text': 'As', 'start': 0, 'end': 2, 'id': 0,...</td>\n",
              "      <td>ner_manual</td>\n",
              "      <td>[{'start': 0, 'end': 1103, 'token_start': 0, '...</td>\n",
              "      <td>accept</td>\n",
              "      <td>1708015930</td>\n",
              "      <td>2024-02-15_11-19-01</td>\n",
              "      <td>2024-02-15_11-19-01</td>\n",
              "    </tr>\n",
              "    <tr>\n",
              "      <th>6</th>\n",
              "      <td>Lovely hotel in great location. I was here for...</td>\n",
              "      <td>988124567</td>\n",
              "      <td>835912987</td>\n",
              "      <td>False</td>\n",
              "      <td>[{'text': 'Lovely', 'start': 0, 'end': 6, 'id'...</td>\n",
              "      <td>ner_manual</td>\n",
              "      <td>[{'start': 0, 'end': 359, 'token_start': 0, 't...</td>\n",
              "      <td>accept</td>\n",
              "      <td>1708016104</td>\n",
              "      <td>2024-02-15_11-19-01</td>\n",
              "      <td>2024-02-15_11-19-01</td>\n",
              "    </tr>\n",
              "    <tr>\n",
              "      <th>7</th>\n",
              "      <td>Love the Ace Hotel Brooklyn, great spot for br...</td>\n",
              "      <td>328728841</td>\n",
              "      <td>1111961170</td>\n",
              "      <td>False</td>\n",
              "      <td>[{'text': 'Love', 'start': 0, 'end': 4, 'id': ...</td>\n",
              "      <td>ner_manual</td>\n",
              "      <td>[{'start': 0, 'end': 293, 'token_start': 0, 't...</td>\n",
              "      <td>accept</td>\n",
              "      <td>1708016117</td>\n",
              "      <td>2024-02-15_11-19-01</td>\n",
              "      <td>2024-02-15_11-19-01</td>\n",
              "    </tr>\n",
              "    <tr>\n",
              "      <th>8</th>\n",
              "      <td>The is another gimmicky NYC hotel with undersi...</td>\n",
              "      <td>-548669807</td>\n",
              "      <td>-857473328</td>\n",
              "      <td>False</td>\n",
              "      <td>[{'text': 'The', 'start': 0, 'end': 3, 'id': 0...</td>\n",
              "      <td>ner_manual</td>\n",
              "      <td>[{'start': 0, 'end': 358, 'token_start': 0, 't...</td>\n",
              "      <td>accept</td>\n",
              "      <td>1708016235</td>\n",
              "      <td>2024-02-15_11-19-01</td>\n",
              "      <td>2024-02-15_11-19-01</td>\n",
              "    </tr>\n",
              "    <tr>\n",
              "      <th>9</th>\n",
              "      <td>Couldn’t stop singing the praises for my exper...</td>\n",
              "      <td>-1793216809</td>\n",
              "      <td>1924072750</td>\n",
              "      <td>False</td>\n",
              "      <td>[{'text': 'Could', 'start': 0, 'end': 5, 'id':...</td>\n",
              "      <td>ner_manual</td>\n",
              "      <td>[{'start': 0, 'end': 1386, 'token_start': 0, '...</td>\n",
              "      <td>accept</td>\n",
              "      <td>1708016322</td>\n",
              "      <td>2024-02-15_11-19-01</td>\n",
              "      <td>2024-02-15_11-19-01</td>\n",
              "    </tr>\n",
              "  </tbody>\n",
              "</table>\n",
              "</div>"
            ],
            "text/plain": [
              "                                                text  _input_hash  _task_hash  \\\n",
              "0  This hotel is truly amazing, from the building...   1344630365 -1649013736   \n",
              "1  The staff was terrific!. Geneva and Sergio wer...    534808085 -1127637961   \n",
              "2  Amazing stay for our first evening in Brooklyn...    422006770  1373478981   \n",
              "3  What an amazing place! Clean, quiet rooms and ...    913662917   873784749   \n",
              "4  Huge thank you to Darren at the front desk who...   1580355780   857685181   \n",
              "5  As a newly former New Yorker, I am now always ...  -1340859968 -2017473298   \n",
              "6  Lovely hotel in great location. I was here for...    988124567   835912987   \n",
              "7  Love the Ace Hotel Brooklyn, great spot for br...    328728841  1111961170   \n",
              "8  The is another gimmicky NYC hotel with undersi...   -548669807  -857473328   \n",
              "9  Couldn’t stop singing the praises for my exper...  -1793216809  1924072750   \n",
              "\n",
              "   _is_binary                                             tokens    _view_id  \\\n",
              "0       False  [{'text': 'This', 'start': 0, 'end': 4, 'id': ...  ner_manual   \n",
              "1       False  [{'text': 'The', 'start': 0, 'end': 3, 'id': 0...  ner_manual   \n",
              "2       False  [{'text': 'Amazing', 'start': 0, 'end': 7, 'id...  ner_manual   \n",
              "3       False  [{'text': 'What', 'start': 0, 'end': 4, 'id': ...  ner_manual   \n",
              "4       False  [{'text': 'Huge', 'start': 0, 'end': 4, 'id': ...  ner_manual   \n",
              "5       False  [{'text': 'As', 'start': 0, 'end': 2, 'id': 0,...  ner_manual   \n",
              "6       False  [{'text': 'Lovely', 'start': 0, 'end': 6, 'id'...  ner_manual   \n",
              "7       False  [{'text': 'Love', 'start': 0, 'end': 4, 'id': ...  ner_manual   \n",
              "8       False  [{'text': 'The', 'start': 0, 'end': 3, 'id': 0...  ner_manual   \n",
              "9       False  [{'text': 'Could', 'start': 0, 'end': 5, 'id':...  ner_manual   \n",
              "\n",
              "                                               spans  answer  _timestamp  \\\n",
              "0  [{'start': 0, 'end': 1565, 'token_start': 0, '...  accept  1708015519   \n",
              "1  [{'start': 0, 'end': 422, 'token_start': 0, 't...  accept  1708015531   \n",
              "2  [{'start': 0, 'end': 462, 'token_start': 0, 't...  accept  1708015536   \n",
              "3  [{'start': 0, 'end': 286, 'token_start': 0, 't...  accept  1708015541   \n",
              "4                                                 []  accept  1708015558   \n",
              "5  [{'start': 0, 'end': 1103, 'token_start': 0, '...  accept  1708015930   \n",
              "6  [{'start': 0, 'end': 359, 'token_start': 0, 't...  accept  1708016104   \n",
              "7  [{'start': 0, 'end': 293, 'token_start': 0, 't...  accept  1708016117   \n",
              "8  [{'start': 0, 'end': 358, 'token_start': 0, 't...  accept  1708016235   \n",
              "9  [{'start': 0, 'end': 1386, 'token_start': 0, '...  accept  1708016322   \n",
              "\n",
              "         _annotator_id          _session_id  \n",
              "0  2024-02-15_11-19-01  2024-02-15_11-19-01  \n",
              "1  2024-02-15_11-19-01  2024-02-15_11-19-01  \n",
              "2  2024-02-15_11-19-01  2024-02-15_11-19-01  \n",
              "3  2024-02-15_11-19-01  2024-02-15_11-19-01  \n",
              "4  2024-02-15_11-19-01  2024-02-15_11-19-01  \n",
              "5  2024-02-15_11-19-01  2024-02-15_11-19-01  \n",
              "6  2024-02-15_11-19-01  2024-02-15_11-19-01  \n",
              "7  2024-02-15_11-19-01  2024-02-15_11-19-01  \n",
              "8  2024-02-15_11-19-01  2024-02-15_11-19-01  \n",
              "9  2024-02-15_11-19-01  2024-02-15_11-19-01  "
            ]
          },
          "execution_count": 63,
          "metadata": {},
          "output_type": "execute_result"
        }
      ],
      "source": [
        "labeled_500 = pd.read_json('data/manual_label_hotels.jsonl', lines=True)\n",
        "labeled_500.head(10)"
      ]
    },
    {
      "cell_type": "code",
      "execution_count": 64,
      "metadata": {
        "colab": {
          "base_uri": "https://localhost:8080/"
        },
        "id": "mhDjeniYfs8g",
        "outputId": "88db727c-81cd-4bd4-ba87-564fd4e121d2"
      },
      "outputs": [],
      "source": [
        "# Function to read through metadata and pull out the actually decision for positive,negative,neutral.\n",
        "def extract_labels(row):\n",
        "    try:\n",
        "        if isinstance(row['spans'], list):\n",
        "            labels = [span['label'] for span in row['spans'] if isinstance(span, dict) and 'label' in span]\n",
        "            return ', '.join(labels)\n",
        "        else:\n",
        "            return None\n",
        "    except Exception as e:\n",
        "        print(f\"Error processing row: {e}\")\n",
        "        return None"
      ]
    },
    {
      "cell_type": "code",
      "execution_count": 65,
      "metadata": {
        "id": "Ngy07-Wp60CJ"
      },
      "outputs": [
        {
          "name": "stdout",
          "output_type": "stream",
          "text": [
            "                                                text     label\n",
            "0  This hotel is truly amazing, from the building...  POSITIVE\n",
            "1  The staff was terrific!. Geneva and Sergio wer...  POSITIVE\n",
            "2  Amazing stay for our first evening in Brooklyn...  POSITIVE\n",
            "3  What an amazing place! Clean, quiet rooms and ...  POSITIVE\n",
            "4  Huge thank you to Darren at the front desk who...          \n"
          ]
        }
      ],
      "source": [
        "# Apply the function to extract labels to a new column\n",
        "labeled_500['label'] = labeled_500.apply(extract_labels, axis=1)\n",
        "\n",
        "print(labeled_500[['text', 'label']].head())"
      ]
    },
    {
      "cell_type": "code",
      "execution_count": 66,
      "metadata": {
        "id": "ndnPTqGmhOPI"
      },
      "outputs": [],
      "source": [
        "labeled_500['label'].replace('', 'NEUTRAL', inplace=True)"
      ]
    },
    {
      "cell_type": "code",
      "execution_count": 67,
      "metadata": {
        "colab": {
          "base_uri": "https://localhost:8080/",
          "height": 379
        },
        "id": "-emS7LGWgor-",
        "outputId": "463da336-f79b-41a0-c76a-54e6fd847d86"
      },
      "outputs": [
        {
          "data": {
            "text/html": [
              "<div>\n",
              "<style scoped>\n",
              "    .dataframe tbody tr th:only-of-type {\n",
              "        vertical-align: middle;\n",
              "    }\n",
              "\n",
              "    .dataframe tbody tr th {\n",
              "        vertical-align: top;\n",
              "    }\n",
              "\n",
              "    .dataframe thead th {\n",
              "        text-align: right;\n",
              "    }\n",
              "</style>\n",
              "<table border=\"1\" class=\"dataframe\">\n",
              "  <thead>\n",
              "    <tr style=\"text-align: right;\">\n",
              "      <th></th>\n",
              "      <th>text</th>\n",
              "      <th>_input_hash</th>\n",
              "      <th>_task_hash</th>\n",
              "      <th>_is_binary</th>\n",
              "      <th>tokens</th>\n",
              "      <th>_view_id</th>\n",
              "      <th>spans</th>\n",
              "      <th>answer</th>\n",
              "      <th>_timestamp</th>\n",
              "      <th>_annotator_id</th>\n",
              "      <th>_session_id</th>\n",
              "      <th>label</th>\n",
              "    </tr>\n",
              "  </thead>\n",
              "  <tbody>\n",
              "    <tr>\n",
              "      <th>0</th>\n",
              "      <td>This hotel is truly amazing, from the building...</td>\n",
              "      <td>1344630365</td>\n",
              "      <td>-1649013736</td>\n",
              "      <td>False</td>\n",
              "      <td>[{'text': 'This', 'start': 0, 'end': 4, 'id': ...</td>\n",
              "      <td>ner_manual</td>\n",
              "      <td>[{'start': 0, 'end': 1565, 'token_start': 0, '...</td>\n",
              "      <td>accept</td>\n",
              "      <td>1708015519</td>\n",
              "      <td>2024-02-15_11-19-01</td>\n",
              "      <td>2024-02-15_11-19-01</td>\n",
              "      <td>POSITIVE</td>\n",
              "    </tr>\n",
              "    <tr>\n",
              "      <th>1</th>\n",
              "      <td>The staff was terrific!. Geneva and Sergio wer...</td>\n",
              "      <td>534808085</td>\n",
              "      <td>-1127637961</td>\n",
              "      <td>False</td>\n",
              "      <td>[{'text': 'The', 'start': 0, 'end': 3, 'id': 0...</td>\n",
              "      <td>ner_manual</td>\n",
              "      <td>[{'start': 0, 'end': 422, 'token_start': 0, 't...</td>\n",
              "      <td>accept</td>\n",
              "      <td>1708015531</td>\n",
              "      <td>2024-02-15_11-19-01</td>\n",
              "      <td>2024-02-15_11-19-01</td>\n",
              "      <td>POSITIVE</td>\n",
              "    </tr>\n",
              "    <tr>\n",
              "      <th>2</th>\n",
              "      <td>Amazing stay for our first evening in Brooklyn...</td>\n",
              "      <td>422006770</td>\n",
              "      <td>1373478981</td>\n",
              "      <td>False</td>\n",
              "      <td>[{'text': 'Amazing', 'start': 0, 'end': 7, 'id...</td>\n",
              "      <td>ner_manual</td>\n",
              "      <td>[{'start': 0, 'end': 462, 'token_start': 0, 't...</td>\n",
              "      <td>accept</td>\n",
              "      <td>1708015536</td>\n",
              "      <td>2024-02-15_11-19-01</td>\n",
              "      <td>2024-02-15_11-19-01</td>\n",
              "      <td>POSITIVE</td>\n",
              "    </tr>\n",
              "    <tr>\n",
              "      <th>3</th>\n",
              "      <td>What an amazing place! Clean, quiet rooms and ...</td>\n",
              "      <td>913662917</td>\n",
              "      <td>873784749</td>\n",
              "      <td>False</td>\n",
              "      <td>[{'text': 'What', 'start': 0, 'end': 4, 'id': ...</td>\n",
              "      <td>ner_manual</td>\n",
              "      <td>[{'start': 0, 'end': 286, 'token_start': 0, 't...</td>\n",
              "      <td>accept</td>\n",
              "      <td>1708015541</td>\n",
              "      <td>2024-02-15_11-19-01</td>\n",
              "      <td>2024-02-15_11-19-01</td>\n",
              "      <td>POSITIVE</td>\n",
              "    </tr>\n",
              "    <tr>\n",
              "      <th>4</th>\n",
              "      <td>Huge thank you to Darren at the front desk who...</td>\n",
              "      <td>1580355780</td>\n",
              "      <td>857685181</td>\n",
              "      <td>False</td>\n",
              "      <td>[{'text': 'Huge', 'start': 0, 'end': 4, 'id': ...</td>\n",
              "      <td>ner_manual</td>\n",
              "      <td>[]</td>\n",
              "      <td>accept</td>\n",
              "      <td>1708015558</td>\n",
              "      <td>2024-02-15_11-19-01</td>\n",
              "      <td>2024-02-15_11-19-01</td>\n",
              "      <td>NEUTRAL</td>\n",
              "    </tr>\n",
              "  </tbody>\n",
              "</table>\n",
              "</div>"
            ],
            "text/plain": [
              "                                                text  _input_hash  _task_hash  \\\n",
              "0  This hotel is truly amazing, from the building...   1344630365 -1649013736   \n",
              "1  The staff was terrific!. Geneva and Sergio wer...    534808085 -1127637961   \n",
              "2  Amazing stay for our first evening in Brooklyn...    422006770  1373478981   \n",
              "3  What an amazing place! Clean, quiet rooms and ...    913662917   873784749   \n",
              "4  Huge thank you to Darren at the front desk who...   1580355780   857685181   \n",
              "\n",
              "   _is_binary                                             tokens    _view_id  \\\n",
              "0       False  [{'text': 'This', 'start': 0, 'end': 4, 'id': ...  ner_manual   \n",
              "1       False  [{'text': 'The', 'start': 0, 'end': 3, 'id': 0...  ner_manual   \n",
              "2       False  [{'text': 'Amazing', 'start': 0, 'end': 7, 'id...  ner_manual   \n",
              "3       False  [{'text': 'What', 'start': 0, 'end': 4, 'id': ...  ner_manual   \n",
              "4       False  [{'text': 'Huge', 'start': 0, 'end': 4, 'id': ...  ner_manual   \n",
              "\n",
              "                                               spans  answer  _timestamp  \\\n",
              "0  [{'start': 0, 'end': 1565, 'token_start': 0, '...  accept  1708015519   \n",
              "1  [{'start': 0, 'end': 422, 'token_start': 0, 't...  accept  1708015531   \n",
              "2  [{'start': 0, 'end': 462, 'token_start': 0, 't...  accept  1708015536   \n",
              "3  [{'start': 0, 'end': 286, 'token_start': 0, 't...  accept  1708015541   \n",
              "4                                                 []  accept  1708015558   \n",
              "\n",
              "         _annotator_id          _session_id     label  \n",
              "0  2024-02-15_11-19-01  2024-02-15_11-19-01  POSITIVE  \n",
              "1  2024-02-15_11-19-01  2024-02-15_11-19-01  POSITIVE  \n",
              "2  2024-02-15_11-19-01  2024-02-15_11-19-01  POSITIVE  \n",
              "3  2024-02-15_11-19-01  2024-02-15_11-19-01  POSITIVE  \n",
              "4  2024-02-15_11-19-01  2024-02-15_11-19-01   NEUTRAL  "
            ]
          },
          "execution_count": 67,
          "metadata": {},
          "output_type": "execute_result"
        }
      ],
      "source": [
        "labeled_500.head(5)"
      ]
    },
    {
      "cell_type": "markdown",
      "metadata": {
        "id": "hFarRBbOQZYY"
      },
      "source": [
        "Manually Labeled Subset"
      ]
    },
    {
      "cell_type": "code",
      "execution_count": 68,
      "metadata": {
        "colab": {
          "base_uri": "https://localhost:8080/",
          "height": 310
        },
        "id": "CrOvvqaDPMNo",
        "outputId": "9f4539a9-4723-4d16-e867-d9d2402963fc"
      },
      "outputs": [
        {
          "name": "stderr",
          "output_type": "stream",
          "text": [
            "C:\\Users\\micah\\AppData\\Local\\Temp\\ipykernel_103712\\2897252349.py:2: SettingWithCopyWarning: \n",
            "A value is trying to be set on a copy of a slice from a DataFrame.\n",
            "Try using .loc[row_indexer,col_indexer] = value instead\n",
            "\n",
            "See the caveats in the documentation: https://pandas.pydata.org/pandas-docs/stable/user_guide/indexing.html#returning-a-view-versus-a-copy\n",
            "  subset_500['label'] = subset_500['label'].str.lower()\n"
          ]
        },
        {
          "data": {
            "text/html": [
              "<div>\n",
              "<style scoped>\n",
              "    .dataframe tbody tr th:only-of-type {\n",
              "        vertical-align: middle;\n",
              "    }\n",
              "\n",
              "    .dataframe tbody tr th {\n",
              "        vertical-align: top;\n",
              "    }\n",
              "\n",
              "    .dataframe thead th {\n",
              "        text-align: right;\n",
              "    }\n",
              "</style>\n",
              "<table border=\"1\" class=\"dataframe\">\n",
              "  <thead>\n",
              "    <tr style=\"text-align: right;\">\n",
              "      <th></th>\n",
              "      <th>text</th>\n",
              "      <th>label</th>\n",
              "    </tr>\n",
              "  </thead>\n",
              "  <tbody>\n",
              "    <tr>\n",
              "      <th>0</th>\n",
              "      <td>This hotel is truly amazing, from the building...</td>\n",
              "      <td>positive</td>\n",
              "    </tr>\n",
              "    <tr>\n",
              "      <th>1</th>\n",
              "      <td>The staff was terrific!. Geneva and Sergio wer...</td>\n",
              "      <td>positive</td>\n",
              "    </tr>\n",
              "    <tr>\n",
              "      <th>2</th>\n",
              "      <td>Amazing stay for our first evening in Brooklyn...</td>\n",
              "      <td>positive</td>\n",
              "    </tr>\n",
              "    <tr>\n",
              "      <th>3</th>\n",
              "      <td>What an amazing place! Clean, quiet rooms and ...</td>\n",
              "      <td>positive</td>\n",
              "    </tr>\n",
              "    <tr>\n",
              "      <th>4</th>\n",
              "      <td>Huge thank you to Darren at the front desk who...</td>\n",
              "      <td>neutral</td>\n",
              "    </tr>\n",
              "  </tbody>\n",
              "</table>\n",
              "</div>"
            ],
            "text/plain": [
              "                                                text     label\n",
              "0  This hotel is truly amazing, from the building...  positive\n",
              "1  The staff was terrific!. Geneva and Sergio wer...  positive\n",
              "2  Amazing stay for our first evening in Brooklyn...  positive\n",
              "3  What an amazing place! Clean, quiet rooms and ...  positive\n",
              "4  Huge thank you to Darren at the front desk who...   neutral"
            ]
          },
          "execution_count": 68,
          "metadata": {},
          "output_type": "execute_result"
        }
      ],
      "source": [
        "subset_500 = labeled_500[['text', 'label']]\n",
        "subset_500['label'] = subset_500['label'].str.lower()\n",
        "subset_500.head(5)"
      ]
    },
    {
      "cell_type": "markdown",
      "metadata": {
        "id": "A1JTlXvIQbSA"
      },
      "source": [
        "GPT Subset"
      ]
    },
    {
      "cell_type": "code",
      "execution_count": 69,
      "metadata": {
        "colab": {
          "base_uri": "https://localhost:8080/",
          "height": 363
        },
        "id": "z4m7UQ_qQbxz",
        "outputId": "d6a04ba9-1581-42bc-89af-9a26a28c04a3"
      },
      "outputs": [
        {
          "data": {
            "text/html": [
              "<div>\n",
              "<style scoped>\n",
              "    .dataframe tbody tr th:only-of-type {\n",
              "        vertical-align: middle;\n",
              "    }\n",
              "\n",
              "    .dataframe tbody tr th {\n",
              "        vertical-align: top;\n",
              "    }\n",
              "\n",
              "    .dataframe thead th {\n",
              "        text-align: right;\n",
              "    }\n",
              "</style>\n",
              "<table border=\"1\" class=\"dataframe\">\n",
              "  <thead>\n",
              "    <tr style=\"text-align: right;\">\n",
              "      <th></th>\n",
              "      <th>text</th>\n",
              "      <th>GPT Label</th>\n",
              "    </tr>\n",
              "  </thead>\n",
              "  <tbody>\n",
              "    <tr>\n",
              "      <th>0</th>\n",
              "      <td>This hotel is truly amazing, from the building...</td>\n",
              "      <td>positive</td>\n",
              "    </tr>\n",
              "    <tr>\n",
              "      <th>1</th>\n",
              "      <td>The staff was terrific!. Geneva and Sergio wer...</td>\n",
              "      <td>positive</td>\n",
              "    </tr>\n",
              "    <tr>\n",
              "      <th>2</th>\n",
              "      <td>Amazing stay for our first evening in Brooklyn...</td>\n",
              "      <td>positive</td>\n",
              "    </tr>\n",
              "    <tr>\n",
              "      <th>3</th>\n",
              "      <td>What an amazing place! Clean, quiet rooms and ...</td>\n",
              "      <td>positive</td>\n",
              "    </tr>\n",
              "    <tr>\n",
              "      <th>4</th>\n",
              "      <td>Huge thank you to Darren at the front desk who...</td>\n",
              "      <td>positive</td>\n",
              "    </tr>\n",
              "    <tr>\n",
              "      <th>5</th>\n",
              "      <td>As a newly former New Yorker, I am now always ...</td>\n",
              "      <td>positive</td>\n",
              "    </tr>\n",
              "    <tr>\n",
              "      <th>6</th>\n",
              "      <td>Lovely hotel in great location. I was here for...</td>\n",
              "      <td>positive</td>\n",
              "    </tr>\n",
              "    <tr>\n",
              "      <th>7</th>\n",
              "      <td>Love the Ace Hotel Brooklyn, great spot for br...</td>\n",
              "      <td>positive</td>\n",
              "    </tr>\n",
              "    <tr>\n",
              "      <th>8</th>\n",
              "      <td>The is another gimmicky NYC hotel with undersi...</td>\n",
              "      <td>negative</td>\n",
              "    </tr>\n",
              "    <tr>\n",
              "      <th>9</th>\n",
              "      <td>Couldn’t stop singing the praises for my exper...</td>\n",
              "      <td>positive</td>\n",
              "    </tr>\n",
              "  </tbody>\n",
              "</table>\n",
              "</div>"
            ],
            "text/plain": [
              "                                                text GPT Label\n",
              "0  This hotel is truly amazing, from the building...  positive\n",
              "1  The staff was terrific!. Geneva and Sergio wer...  positive\n",
              "2  Amazing stay for our first evening in Brooklyn...  positive\n",
              "3  What an amazing place! Clean, quiet rooms and ...  positive\n",
              "4  Huge thank you to Darren at the front desk who...  positive\n",
              "5  As a newly former New Yorker, I am now always ...  positive\n",
              "6  Lovely hotel in great location. I was here for...  positive\n",
              "7  Love the Ace Hotel Brooklyn, great spot for br...  positive\n",
              "8  The is another gimmicky NYC hotel with undersi...  negative\n",
              "9  Couldn’t stop singing the praises for my exper...  positive"
            ]
          },
          "execution_count": 69,
          "metadata": {},
          "output_type": "execute_result"
        }
      ],
      "source": [
        "subset_gpt = merged_subset[['text','GPT Label']]\n",
        "subset_gpt.head(10)"
      ]
    },
    {
      "cell_type": "markdown",
      "metadata": {
        "id": "8iajIGjB7Dxz"
      },
      "source": [
        "TextBlob Subset"
      ]
    },
    {
      "cell_type": "code",
      "execution_count": 70,
      "metadata": {
        "colab": {
          "base_uri": "https://localhost:8080/",
          "height": 363
        },
        "id": "TwLfK36SSU-9",
        "outputId": "070f3821-df7b-49ae-8532-5e674acd2631"
      },
      "outputs": [
        {
          "data": {
            "text/html": [
              "<div>\n",
              "<style scoped>\n",
              "    .dataframe tbody tr th:only-of-type {\n",
              "        vertical-align: middle;\n",
              "    }\n",
              "\n",
              "    .dataframe tbody tr th {\n",
              "        vertical-align: top;\n",
              "    }\n",
              "\n",
              "    .dataframe thead th {\n",
              "        text-align: right;\n",
              "    }\n",
              "</style>\n",
              "<table border=\"1\" class=\"dataframe\">\n",
              "  <thead>\n",
              "    <tr style=\"text-align: right;\">\n",
              "      <th></th>\n",
              "      <th>text</th>\n",
              "      <th>TextBlob Label</th>\n",
              "    </tr>\n",
              "  </thead>\n",
              "  <tbody>\n",
              "    <tr>\n",
              "      <th>0</th>\n",
              "      <td>This hotel is truly amazing, from the building...</td>\n",
              "      <td>positive</td>\n",
              "    </tr>\n",
              "    <tr>\n",
              "      <th>1</th>\n",
              "      <td>The staff was terrific!. Geneva and Sergio wer...</td>\n",
              "      <td>positive</td>\n",
              "    </tr>\n",
              "    <tr>\n",
              "      <th>2</th>\n",
              "      <td>Amazing stay for our first evening in Brooklyn...</td>\n",
              "      <td>positive</td>\n",
              "    </tr>\n",
              "    <tr>\n",
              "      <th>3</th>\n",
              "      <td>What an amazing place! Clean, quiet rooms and ...</td>\n",
              "      <td>positive</td>\n",
              "    </tr>\n",
              "    <tr>\n",
              "      <th>4</th>\n",
              "      <td>Huge thank you to Darren at the front desk who...</td>\n",
              "      <td>positive</td>\n",
              "    </tr>\n",
              "    <tr>\n",
              "      <th>5</th>\n",
              "      <td>As a newly former New Yorker, I am now always ...</td>\n",
              "      <td>positive</td>\n",
              "    </tr>\n",
              "    <tr>\n",
              "      <th>6</th>\n",
              "      <td>Lovely hotel in great location. I was here for...</td>\n",
              "      <td>positive</td>\n",
              "    </tr>\n",
              "    <tr>\n",
              "      <th>7</th>\n",
              "      <td>Love the Ace Hotel Brooklyn, great spot for br...</td>\n",
              "      <td>positive</td>\n",
              "    </tr>\n",
              "    <tr>\n",
              "      <th>8</th>\n",
              "      <td>The is another gimmicky NYC hotel with undersi...</td>\n",
              "      <td>positive</td>\n",
              "    </tr>\n",
              "    <tr>\n",
              "      <th>9</th>\n",
              "      <td>Couldn’t stop singing the praises for my exper...</td>\n",
              "      <td>positive</td>\n",
              "    </tr>\n",
              "  </tbody>\n",
              "</table>\n",
              "</div>"
            ],
            "text/plain": [
              "                                                text TextBlob Label\n",
              "0  This hotel is truly amazing, from the building...       positive\n",
              "1  The staff was terrific!. Geneva and Sergio wer...       positive\n",
              "2  Amazing stay for our first evening in Brooklyn...       positive\n",
              "3  What an amazing place! Clean, quiet rooms and ...       positive\n",
              "4  Huge thank you to Darren at the front desk who...       positive\n",
              "5  As a newly former New Yorker, I am now always ...       positive\n",
              "6  Lovely hotel in great location. I was here for...       positive\n",
              "7  Love the Ace Hotel Brooklyn, great spot for br...       positive\n",
              "8  The is another gimmicky NYC hotel with undersi...       positive\n",
              "9  Couldn’t stop singing the praises for my exper...       positive"
            ]
          },
          "execution_count": 70,
          "metadata": {},
          "output_type": "execute_result"
        }
      ],
      "source": [
        "subset_textblob = merged_subset[['text','TextBlob Label']]\n",
        "\n",
        "subset_textblob.head(10)"
      ]
    },
    {
      "cell_type": "markdown",
      "metadata": {
        "id": "jQCiY-vMWwhR"
      },
      "source": [
        "Confusion Matrix for correctly labeled reviews"
      ]
    },
    {
      "cell_type": "code",
      "execution_count": 71,
      "metadata": {
        "colab": {
          "base_uri": "https://localhost:8080/",
          "height": 363
        },
        "id": "LZRXytNSTIQF",
        "outputId": "fdfbab4a-c471-4e47-e9d3-03f901322c9c"
      },
      "outputs": [
        {
          "data": {
            "text/html": [
              "<div>\n",
              "<style scoped>\n",
              "    .dataframe tbody tr th:only-of-type {\n",
              "        vertical-align: middle;\n",
              "    }\n",
              "\n",
              "    .dataframe tbody tr th {\n",
              "        vertical-align: top;\n",
              "    }\n",
              "\n",
              "    .dataframe thead th {\n",
              "        text-align: right;\n",
              "    }\n",
              "</style>\n",
              "<table border=\"1\" class=\"dataframe\">\n",
              "  <thead>\n",
              "    <tr style=\"text-align: right;\">\n",
              "      <th></th>\n",
              "      <th>text</th>\n",
              "      <th>label</th>\n",
              "      <th>GPT Label</th>\n",
              "      <th>TextBlob Label</th>\n",
              "    </tr>\n",
              "  </thead>\n",
              "  <tbody>\n",
              "    <tr>\n",
              "      <th>0</th>\n",
              "      <td>This hotel is truly amazing, from the building...</td>\n",
              "      <td>positive</td>\n",
              "      <td>positive</td>\n",
              "      <td>positive</td>\n",
              "    </tr>\n",
              "    <tr>\n",
              "      <th>1</th>\n",
              "      <td>The staff was terrific!. Geneva and Sergio wer...</td>\n",
              "      <td>positive</td>\n",
              "      <td>positive</td>\n",
              "      <td>positive</td>\n",
              "    </tr>\n",
              "    <tr>\n",
              "      <th>2</th>\n",
              "      <td>Amazing stay for our first evening in Brooklyn...</td>\n",
              "      <td>positive</td>\n",
              "      <td>positive</td>\n",
              "      <td>positive</td>\n",
              "    </tr>\n",
              "    <tr>\n",
              "      <th>3</th>\n",
              "      <td>What an amazing place! Clean, quiet rooms and ...</td>\n",
              "      <td>positive</td>\n",
              "      <td>positive</td>\n",
              "      <td>positive</td>\n",
              "    </tr>\n",
              "    <tr>\n",
              "      <th>4</th>\n",
              "      <td>Huge thank you to Darren at the front desk who...</td>\n",
              "      <td>neutral</td>\n",
              "      <td>positive</td>\n",
              "      <td>positive</td>\n",
              "    </tr>\n",
              "    <tr>\n",
              "      <th>5</th>\n",
              "      <td>As a newly former New Yorker, I am now always ...</td>\n",
              "      <td>positive</td>\n",
              "      <td>positive</td>\n",
              "      <td>positive</td>\n",
              "    </tr>\n",
              "    <tr>\n",
              "      <th>6</th>\n",
              "      <td>Lovely hotel in great location. I was here for...</td>\n",
              "      <td>positive</td>\n",
              "      <td>positive</td>\n",
              "      <td>positive</td>\n",
              "    </tr>\n",
              "    <tr>\n",
              "      <th>7</th>\n",
              "      <td>Love the Ace Hotel Brooklyn, great spot for br...</td>\n",
              "      <td>positive</td>\n",
              "      <td>positive</td>\n",
              "      <td>positive</td>\n",
              "    </tr>\n",
              "    <tr>\n",
              "      <th>8</th>\n",
              "      <td>The is another gimmicky NYC hotel with undersi...</td>\n",
              "      <td>negative</td>\n",
              "      <td>negative</td>\n",
              "      <td>positive</td>\n",
              "    </tr>\n",
              "    <tr>\n",
              "      <th>9</th>\n",
              "      <td>Couldn’t stop singing the praises for my exper...</td>\n",
              "      <td>positive</td>\n",
              "      <td>positive</td>\n",
              "      <td>positive</td>\n",
              "    </tr>\n",
              "  </tbody>\n",
              "</table>\n",
              "</div>"
            ],
            "text/plain": [
              "                                                text     label GPT Label  \\\n",
              "0  This hotel is truly amazing, from the building...  positive  positive   \n",
              "1  The staff was terrific!. Geneva and Sergio wer...  positive  positive   \n",
              "2  Amazing stay for our first evening in Brooklyn...  positive  positive   \n",
              "3  What an amazing place! Clean, quiet rooms and ...  positive  positive   \n",
              "4  Huge thank you to Darren at the front desk who...   neutral  positive   \n",
              "5  As a newly former New Yorker, I am now always ...  positive  positive   \n",
              "6  Lovely hotel in great location. I was here for...  positive  positive   \n",
              "7  Love the Ace Hotel Brooklyn, great spot for br...  positive  positive   \n",
              "8  The is another gimmicky NYC hotel with undersi...  negative  negative   \n",
              "9  Couldn’t stop singing the praises for my exper...  positive  positive   \n",
              "\n",
              "  TextBlob Label  \n",
              "0       positive  \n",
              "1       positive  \n",
              "2       positive  \n",
              "3       positive  \n",
              "4       positive  \n",
              "5       positive  \n",
              "6       positive  \n",
              "7       positive  \n",
              "8       positive  \n",
              "9       positive  "
            ]
          },
          "execution_count": 71,
          "metadata": {},
          "output_type": "execute_result"
        }
      ],
      "source": [
        "# Merge DataFrames with only necessary variables\n",
        "df_merged = pd.merge(subset_500, subset_gpt, on='text').merge(subset_textblob, on='text', suffixes=('manual', 'gpt', 'textblob'))\n",
        "df_merged.head(10)\n",
        "#Since I only had 500 observations in manual labeled, there is only 500 observations total in this merged df."
      ]
    },
    {
      "cell_type": "code",
      "execution_count": 72,
      "metadata": {
        "id": "Jn3ju3FLYYXA"
      },
      "outputs": [],
      "source": [
        "df_merged['label'] = df_merged['label'].fillna('neutral')"
      ]
    },
    {
      "cell_type": "code",
      "execution_count": 73,
      "metadata": {
        "colab": {
          "base_uri": "https://localhost:8080/",
          "height": 542
        },
        "id": "uFUifZVrWGGH",
        "outputId": "25cc5f80-2189-4734-99ab-27b1e68f230a"
      },
      "outputs": [
        {
          "data": {
            "image/png": "[encoded data removed]",
            "text/plain": [
              "<Figure size 1000x500 with 4 Axes>"
            ]
          },
          "metadata": {},
          "output_type": "display_data"
        },
        {
          "name": "stdout",
          "output_type": "stream",
          "text": [
            "Accuracy - GPT: 0.93\n",
            "Accuracy - TextBlob: 0.89\n"
          ]
        }
      ],
      "source": [
        "true_labels = df_merged['label'] #Manual Labeled\n",
        "predicted_labels_gpt = df_merged['GPT Label']\n",
        "predicted_labels_textblob = df_merged['TextBlob Label']\n",
        "\n",
        "#Confusion matrices\n",
        "conf_matrix_gpt = confusion_matrix(true_labels, predicted_labels_gpt, labels=['positive', 'negative', 'neutral'])\n",
        "conf_matrix_textblob = confusion_matrix(true_labels, predicted_labels_textblob, labels=['positive', 'negative', 'neutral'])\n",
        "\n",
        "# Visualize confusion matrices with a heatmap\n",
        "plt.figure(figsize=(10, 5))\n",
        "#GPT-3.5\n",
        "plt.subplot(1, 2, 1)\n",
        "sns.heatmap(conf_matrix_gpt, annot=True, fmt='d', cmap='Blues', xticklabels=['positive', 'negative', 'neutral'], yticklabels=['positive', 'negative', 'neutral'])\n",
        "plt.title('Confusion Matrix - GPT')\n",
        "#TextBlob\n",
        "plt.subplot(1, 2, 2)\n",
        "sns.heatmap(conf_matrix_textblob, annot=True, fmt='d', cmap='Blues', xticklabels=['positive', 'negative', 'neutral'], yticklabels=['positive', 'negative', 'neutral'])\n",
        "plt.title('Confusion Matrix - TextBlob')\n",
        "plt.tight_layout()\n",
        "plt.show()\n",
        "\n",
        "# Calculate accuracy scores\n",
        "accuracy_gpt = accuracy_score(true_labels, predicted_labels_gpt)\n",
        "accuracy_textblob = accuracy_score(true_labels, predicted_labels_textblob)\n",
        "\n",
        "print(f'Accuracy - GPT: {accuracy_gpt:.2f}')\n",
        "print(f'Accuracy - TextBlob: {accuracy_textblob:.2f}')\n"
      ]
    },
    {
      "cell_type": "code",
      "execution_count": 74,
      "metadata": {
        "colab": {
          "base_uri": "https://localhost:8080/"
        },
        "id": "BbPlfY4tZgZ4",
        "outputId": "8e640537-2841-4dcd-8a4c-308f3dded92d"
      },
      "outputs": [
        {
          "name": "stdout",
          "output_type": "stream",
          "text": [
            "Metrics for GPT:\n",
            "Precision: 0.95\n",
            "Recall: 0.93\n",
            "F1-score: 0.94\n",
            "\n",
            "Metrics for TextBlob:\n",
            "Precision: 0.88\n",
            "Recall: 0.89\n",
            "F1-score: 0.87\n"
          ]
        },
        {
          "name": "stderr",
          "output_type": "stream",
          "text": [
            "c:\\Users\\micah\\anaconda3\\Lib\\site-packages\\sklearn\\metrics\\_classification.py:1469: UndefinedMetricWarning: Precision is ill-defined and being set to 0.0 in labels with no predicted samples. Use `zero_division` parameter to control this behavior.\n",
            "  _warn_prf(average, modifier, msg_start, len(result))\n",
            "c:\\Users\\micah\\anaconda3\\Lib\\site-packages\\sklearn\\metrics\\_classification.py:1469: UndefinedMetricWarning: Precision is ill-defined and being set to 0.0 in labels with no predicted samples. Use `zero_division` parameter to control this behavior.\n",
            "  _warn_prf(average, modifier, msg_start, len(result))\n"
          ]
        }
      ],
      "source": [
        "# Calculate precision, recall, and f1-score for GPT\n",
        "precision_gpt = precision_score(true_labels, predicted_labels_gpt, average='weighted')\n",
        "recall_gpt = recall_score(true_labels, predicted_labels_gpt, average='weighted')\n",
        "f1_gpt = f1_score(true_labels, predicted_labels_gpt, average='weighted')\n",
        "\n",
        "# Calculate precision, recall, and f1-score for TextBlob\n",
        "precision_textblob = precision_score(true_labels, predicted_labels_textblob, average='weighted')\n",
        "recall_textblob = recall_score(true_labels, predicted_labels_textblob, average='weighted')\n",
        "f1_textblob = f1_score(true_labels, predicted_labels_textblob, average='weighted')\n",
        "\n",
        "print('Metrics for GPT:')\n",
        "print(f'Precision: {precision_gpt:.2f}')\n",
        "print(f'Recall: {recall_gpt:.2f}')\n",
        "print(f'F1-score: {f1_gpt:.2f}')\n",
        "\n",
        "print('\\nMetrics for TextBlob:')\n",
        "print(f'Precision: {precision_textblob:.2f}')\n",
        "print(f'Recall: {recall_textblob:.2f}')\n",
        "print(f'F1-score: {f1_textblob:.2f}')\n"
      ]
    },
    {
      "cell_type": "code",
      "execution_count": 75,
      "metadata": {
        "colab": {
          "base_uri": "https://localhost:8080/"
        },
        "id": "NECfOaGSZ4BX",
        "outputId": "18006837-638e-4fbe-8a14-0d4c2cacecc6"
      },
      "outputs": [
        {
          "name": "stdout",
          "output_type": "stream",
          "text": [
            "Classification Report for GPT:\n",
            "              precision    recall  f1-score   support\n",
            "\n",
            "    positive       0.98      0.95      0.97       426\n",
            "    negative       0.83      0.92      0.87        63\n",
            "     neutral       0.17      0.30      0.21        10\n",
            "\n",
            "   micro avg       0.93      0.93      0.93       499\n",
            "   macro avg       0.66      0.72      0.68       499\n",
            "weighted avg       0.95      0.93      0.94       499\n",
            "\n",
            "\n",
            "Classification Report for TextBlob:\n",
            "              precision    recall  f1-score   support\n",
            "\n",
            "    positive       0.90      0.98      0.94       426\n",
            "    negative       0.85      0.35      0.49        63\n",
            "     neutral       0.57      0.40      0.47        10\n",
            "\n",
            "   micro avg       0.89      0.89      0.89       499\n",
            "   macro avg       0.77      0.58      0.63       499\n",
            "weighted avg       0.88      0.89      0.87       499\n",
            "\n"
          ]
        }
      ],
      "source": [
        "# Assuming 'label_manual', 'label_gpt', and 'label_textblob' are the columns with labels\n",
        "unique_labels = ['positive', 'negative', 'neutral']\n",
        "\n",
        "# Generate classification report for GPT\n",
        "report_gpt = classification_report(true_labels, predicted_labels_gpt, labels=unique_labels)\n",
        "\n",
        "# Generate classification report for TextBlob\n",
        "report_textblob = classification_report(true_labels, predicted_labels_textblob, labels=unique_labels)\n",
        "\n",
        "print('Classification Report for GPT:')\n",
        "print(report_gpt)\n",
        "\n",
        "print('\\nClassification Report for TextBlob:')\n",
        "print(report_textblob)\n"
      ]
    },
    {
      "cell_type": "markdown",
      "metadata": {
        "id": "U8Od_c_-8Rje"
      },
      "source": [
        "Conclusion"
      ]
    },
    {
      "cell_type": "markdown",
      "metadata": {
        "id": "UUcSvN3JLatI"
      },
      "source": [
        "The performance metrics showcase the difference in ability for openai's 3.5 Turbo Generative Pre-trained Transformer and a python sentiment analysis library TextBlob. The metrics used included Precision, Recall, and F1-score, all of which are critical in classification models.\n",
        "\n",
        "GPT-3.5 has higher precision (0.95), recall (0.93), and F1-score (0.94) compared to TextBlob. This means that GPT-3.5 had more accurate predictions and made fewer Type 1(false-positive, precision value) & 2(False-negative, recall value) errors. The F1-score also indicates a strong balance between precision and recall, making it an effective model.\n",
        "\n",
        "TextBlob had lower over scores compared to GPT-3.5: precision (0.88), recall (0.89), and F1-score (0.87). I interpret these scores as a pretty good model, however GPT outperforms it in every aspect.\n",
        "\n",
        "Takeaways:\n",
        "Overall, the GPT-3.5 model is highly effective for labeling sentences. For the 6,557 reviews in varying length, it took roughly 2 hours to finish the task. Additionally, it cost $2.34 USD for the entire task. For cases where the cost may not be an issue, I would strongly recommend the GPT-3.5 model. However in the case of TextBlob, there is a free and well-trained library alternative for the same task. For only a slightly less powerful model that was completed in a fraction of the time, it may make sense to just use TextBlob.\n",
        "\n",
        "This project exposed me to hands-on learning with api's, Ubuntu text line commands, the prodigy annotation tool, text analysis, manual training, and model eveluation. From all of my results and learning process, it seems like the Ace Hotels would be a great alternative to more popular hotel chains during the 2026 FIFA games! I may just need to avoid booking a room close to the rooftop bar and mentally prepare myself for less accomadating service, per the reviews 😀"
      ]
    },
    {
      "cell_type": "code",
      "execution_count": 97,
      "metadata": {},
      "outputs": [
        {
          "name": "stdout",
          "output_type": "stream",
          "text": [
            "Requirement already satisfied: nbconvert in c:\\users\\micah\\anaconda3\\lib\\site-packages (6.5.4)\n",
            "Requirement already satisfied: lxml in c:\\users\\micah\\anaconda3\\lib\\site-packages (from nbconvert) (4.9.2)\n",
            "Requirement already satisfied: beautifulsoup4 in c:\\users\\micah\\anaconda3\\lib\\site-packages (from nbconvert) (4.12.2)\n",
            "Requirement already satisfied: bleach in c:\\users\\micah\\anaconda3\\lib\\site-packages (from nbconvert) (4.1.0)\n",
            "Requirement already satisfied: defusedxml in c:\\users\\micah\\anaconda3\\lib\\site-packages (from nbconvert) (0.7.1)\n",
            "Requirement already satisfied: entrypoints>=0.2.2 in c:\\users\\micah\\anaconda3\\lib\\site-packages (from nbconvert) (0.4)\n",
            "Requirement already satisfied: jinja2>=3.0 in c:\\users\\micah\\anaconda3\\lib\\site-packages (from nbconvert) (3.1.2)\n",
            "Requirement already satisfied: jupyter-core>=4.7 in c:\\users\\micah\\appdata\\roaming\\python\\python311\\site-packages (from nbconvert) (5.3.2)\n",
            "Requirement already satisfied: jupyterlab-pygments in c:\\users\\micah\\anaconda3\\lib\\site-packages (from nbconvert) (0.1.2)\n",
            "Requirement already satisfied: MarkupSafe>=2.0 in c:\\users\\micah\\anaconda3\\lib\\site-packages (from nbconvert) (2.1.1)\n",
            "Requirement already satisfied: mistune<2,>=0.8.1 in c:\\users\\micah\\anaconda3\\lib\\site-packages (from nbconvert) (0.8.4)\n",
            "Requirement already satisfied: nbclient>=0.5.0 in c:\\users\\micah\\anaconda3\\lib\\site-packages (from nbconvert) (0.5.13)\n",
            "Requirement already satisfied: nbformat>=5.1 in c:\\users\\micah\\anaconda3\\lib\\site-packages (from nbconvert) (5.7.0)\n",
            "Requirement already satisfied: packaging in c:\\users\\micah\\appdata\\roaming\\python\\python311\\site-packages (from nbconvert) (23.2)\n",
            "Requirement already satisfied: pandocfilters>=1.4.1 in c:\\users\\micah\\anaconda3\\lib\\site-packages (from nbconvert) (1.5.0)\n",
            "Requirement already satisfied: pygments>=2.4.1 in c:\\users\\micah\\appdata\\roaming\\python\\python311\\site-packages (from nbconvert) (2.16.1)\n",
            "Requirement already satisfied: tinycss2 in c:\\users\\micah\\anaconda3\\lib\\site-packages (from nbconvert) (1.2.1)\n",
            "Requirement already satisfied: traitlets>=5.0 in c:\\users\\micah\\appdata\\roaming\\python\\python311\\site-packages (from nbconvert) (5.11.2)\n",
            "Requirement already satisfied: platformdirs>=2.5 in c:\\users\\micah\\appdata\\roaming\\python\\python311\\site-packages (from jupyter-core>=4.7->nbconvert) (3.11.0)\n",
            "Requirement already satisfied: pywin32>=300 in c:\\users\\micah\\appdata\\roaming\\python\\python311\\site-packages (from jupyter-core>=4.7->nbconvert) (306)\n",
            "Requirement already satisfied: jupyter-client>=6.1.5 in c:\\users\\micah\\appdata\\roaming\\python\\python311\\site-packages (from nbclient>=0.5.0->nbconvert) (8.3.1)\n",
            "Requirement already satisfied: nest-asyncio in c:\\users\\micah\\appdata\\roaming\\python\\python311\\site-packages (from nbclient>=0.5.0->nbconvert) (1.5.8)\n",
            "Requirement already satisfied: fastjsonschema in c:\\users\\micah\\anaconda3\\lib\\site-packages (from nbformat>=5.1->nbconvert) (2.16.2)\n",
            "Requirement already satisfied: jsonschema>=2.6 in c:\\users\\micah\\anaconda3\\lib\\site-packages (from nbformat>=5.1->nbconvert) (4.17.3)\n",
            "Requirement already satisfied: soupsieve>1.2 in c:\\users\\micah\\anaconda3\\lib\\site-packages (from beautifulsoup4->nbconvert) (2.4)\n",
            "Requirement already satisfied: six>=1.9.0 in c:\\users\\micah\\anaconda3\\lib\\site-packages (from bleach->nbconvert) (1.16.0)\n",
            "Requirement already satisfied: webencodings in c:\\users\\micah\\anaconda3\\lib\\site-packages (from bleach->nbconvert) (0.5.1)\n",
            "Requirement already satisfied: attrs>=17.4.0 in c:\\users\\micah\\anaconda3\\lib\\site-packages (from jsonschema>=2.6->nbformat>=5.1->nbconvert) (22.1.0)\n",
            "Requirement already satisfied: pyrsistent!=0.17.0,!=0.17.1,!=0.17.2,>=0.14.0 in c:\\users\\micah\\anaconda3\\lib\\site-packages (from jsonschema>=2.6->nbformat>=5.1->nbconvert) (0.18.0)\n",
            "Requirement already satisfied: python-dateutil>=2.8.2 in c:\\users\\micah\\anaconda3\\lib\\site-packages (from jupyter-client>=6.1.5->nbclient>=0.5.0->nbconvert) (2.8.2)\n",
            "Requirement already satisfied: pyzmq>=23.0 in c:\\users\\micah\\appdata\\roaming\\python\\python311\\site-packages (from jupyter-client>=6.1.5->nbclient>=0.5.0->nbconvert) (25.1.1)\n",
            "Requirement already satisfied: tornado>=6.2 in c:\\users\\micah\\appdata\\roaming\\python\\python311\\site-packages (from jupyter-client>=6.1.5->nbclient>=0.5.0->nbconvert) (6.3.3)\n"
          ]
        }
      ],
      "source": [
        "! pip install nbconvert"
      ]
    }
  ],
  "metadata": {
    "colab": {
      "provenance": []
    },
    "kernelspec": {
      "display_name": "Python 3",
      "name": "python3"
    },
    "language_info": {
      "codemirror_mode": {
        "name": "ipython",
        "version": 3
      },
      "file_extension": ".py",
      "mimetype": "text/x-python",
      "name": "python",
      "nbconvert_exporter": "python",
      "pygments_lexer": "ipython3",
      "version": "3.11.4"
    }
  },
  "nbformat": 4,
  "nbformat_minor": 0
}
